{
  "nbformat": 4,
  "nbformat_minor": 0,
  "metadata": {
    "colab": {
      "provenance": [],
      "authorship_tag": "ABX9TyOcqXVJUHfqM4yC3lvADnhK",
      "include_colab_link": true
    },
    "kernelspec": {
      "name": "python3",
      "display_name": "Python 3"
    },
    "language_info": {
      "name": "python"
    }
  },
  "cells": [
    {
      "cell_type": "markdown",
      "metadata": {
        "id": "view-in-github",
        "colab_type": "text"
      },
      "source": [
        "<a href=\"https://colab.research.google.com/github/MarthaBBrito/DataScience/blob/main/Numpy_curso_DS.ipynb\" target=\"_parent\"><img src=\"https://colab.research.google.com/assets/colab-badge.svg\" alt=\"Open In Colab\"/></a>"
      ]
    },
    {
      "cell_type": "markdown",
      "source": [
        "#Biblioteca Numpy\n",
        "A biblioteca NumPy é uma poderosa biblioteca em Python usada para realizar operações numéricas e matemáticas em arrays e matrizes multidimensionais. Ela fornece suporte para uma ampla variedade de funções matemáticas, operações de álgebra linear, transformadas de Fourier e geração de números aleatórios. NumPy é amplamente utilizado em ciência de dados, aprendizado de máquina, processamento de sinais e outras áreas que envolvem computação científica."
      ],
      "metadata": {
        "id": "dNl7EmfXNi47"
      }
    },
    {
      "cell_type": "markdown",
      "source": [
        "#Carregando os Dados\n",
        "\n",
        "Aqui importamos a biblioteca `Numpy` chamando ela de `np` e depois carregamos os dados das maçãs (arquivo que deve ser subido ao terminal a cada conexão).\n",
        "\n"
      ],
      "metadata": {
        "id": "ME-grifW5fJQ"
      }
    },
    {
      "cell_type": "code",
      "execution_count": null,
      "metadata": {
        "id": "FaeuQoA-ll4p"
      },
      "outputs": [],
      "source": [
        "import numpy as np"
      ]
    },
    {
      "cell_type": "markdown",
      "source": [
        "Ao chamar os dados do documento importado através do `np.loadtxt` e colocar um parâmetro de delimitação, o `delimiter=','`, acontece um erro do tipo ValueError, pois apenas esse parâmetro não converte os dados de string para float."
      ],
      "metadata": {
        "id": "9UIUvhjs6jwK"
      }
    },
    {
      "cell_type": "code",
      "source": [
        "np.loadtxt('apples_ts.csv', delimiter= ',')"
      ],
      "metadata": {
        "colab": {
          "base_uri": "https://localhost:8080/",
          "height": 338
        },
        "id": "L9nxNbQZ3vBs",
        "outputId": "459ce84e-c889-451c-eed9-85cd2f8e2396"
      },
      "execution_count": null,
      "outputs": [
        {
          "output_type": "error",
          "ename": "ValueError",
          "evalue": "ignored",
          "traceback": [
            "\u001b[0;31m---------------------------------------------------------------------------\u001b[0m",
            "\u001b[0;31mValueError\u001b[0m                                Traceback (most recent call last)",
            "\u001b[0;32m<ipython-input-2-894b2c6d5816>\u001b[0m in \u001b[0;36m<cell line: 1>\u001b[0;34m()\u001b[0m\n\u001b[0;32m----> 1\u001b[0;31m \u001b[0mnp\u001b[0m\u001b[0;34m.\u001b[0m\u001b[0mloadtxt\u001b[0m\u001b[0;34m(\u001b[0m\u001b[0;34m'apples_ts.csv'\u001b[0m\u001b[0;34m,\u001b[0m \u001b[0mdelimiter\u001b[0m\u001b[0;34m=\u001b[0m \u001b[0;34m','\u001b[0m\u001b[0;34m)\u001b[0m\u001b[0;34m\u001b[0m\u001b[0;34m\u001b[0m\u001b[0m\n\u001b[0m",
            "\u001b[0;32m/usr/local/lib/python3.10/dist-packages/numpy/lib/npyio.py\u001b[0m in \u001b[0;36mloadtxt\u001b[0;34m(fname, dtype, comments, delimiter, converters, skiprows, usecols, unpack, ndmin, encoding, max_rows, quotechar, like)\u001b[0m\n\u001b[1;32m   1336\u001b[0m         \u001b[0mdelimiter\u001b[0m \u001b[0;34m=\u001b[0m \u001b[0mdelimiter\u001b[0m\u001b[0;34m.\u001b[0m\u001b[0mdecode\u001b[0m\u001b[0;34m(\u001b[0m\u001b[0;34m'latin1'\u001b[0m\u001b[0;34m)\u001b[0m\u001b[0;34m\u001b[0m\u001b[0;34m\u001b[0m\u001b[0m\n\u001b[1;32m   1337\u001b[0m \u001b[0;34m\u001b[0m\u001b[0m\n\u001b[0;32m-> 1338\u001b[0;31m     arr = _read(fname, dtype=dtype, comment=comment, delimiter=delimiter,\n\u001b[0m\u001b[1;32m   1339\u001b[0m                 \u001b[0mconverters\u001b[0m\u001b[0;34m=\u001b[0m\u001b[0mconverters\u001b[0m\u001b[0;34m,\u001b[0m \u001b[0mskiplines\u001b[0m\u001b[0;34m=\u001b[0m\u001b[0mskiprows\u001b[0m\u001b[0;34m,\u001b[0m \u001b[0musecols\u001b[0m\u001b[0;34m=\u001b[0m\u001b[0musecols\u001b[0m\u001b[0;34m,\u001b[0m\u001b[0;34m\u001b[0m\u001b[0;34m\u001b[0m\u001b[0m\n\u001b[1;32m   1340\u001b[0m                 \u001b[0munpack\u001b[0m\u001b[0;34m=\u001b[0m\u001b[0munpack\u001b[0m\u001b[0;34m,\u001b[0m \u001b[0mndmin\u001b[0m\u001b[0;34m=\u001b[0m\u001b[0mndmin\u001b[0m\u001b[0;34m,\u001b[0m \u001b[0mencoding\u001b[0m\u001b[0;34m=\u001b[0m\u001b[0mencoding\u001b[0m\u001b[0;34m,\u001b[0m\u001b[0;34m\u001b[0m\u001b[0;34m\u001b[0m\u001b[0m\n",
            "\u001b[0;32m/usr/local/lib/python3.10/dist-packages/numpy/lib/npyio.py\u001b[0m in \u001b[0;36m_read\u001b[0;34m(fname, delimiter, comment, quote, imaginary_unit, usecols, skiplines, max_rows, converters, ndmin, unpack, dtype, encoding)\u001b[0m\n\u001b[1;32m    997\u001b[0m \u001b[0;34m\u001b[0m\u001b[0m\n\u001b[1;32m    998\u001b[0m         \u001b[0;32mif\u001b[0m \u001b[0mread_dtype_via_object_chunks\u001b[0m \u001b[0;32mis\u001b[0m \u001b[0;32mNone\u001b[0m\u001b[0;34m:\u001b[0m\u001b[0;34m\u001b[0m\u001b[0;34m\u001b[0m\u001b[0m\n\u001b[0;32m--> 999\u001b[0;31m             arr = _load_from_filelike(\n\u001b[0m\u001b[1;32m   1000\u001b[0m                 \u001b[0mdata\u001b[0m\u001b[0;34m,\u001b[0m \u001b[0mdelimiter\u001b[0m\u001b[0;34m=\u001b[0m\u001b[0mdelimiter\u001b[0m\u001b[0;34m,\u001b[0m \u001b[0mcomment\u001b[0m\u001b[0;34m=\u001b[0m\u001b[0mcomment\u001b[0m\u001b[0;34m,\u001b[0m \u001b[0mquote\u001b[0m\u001b[0;34m=\u001b[0m\u001b[0mquote\u001b[0m\u001b[0;34m,\u001b[0m\u001b[0;34m\u001b[0m\u001b[0;34m\u001b[0m\u001b[0m\n\u001b[1;32m   1001\u001b[0m                 \u001b[0mimaginary_unit\u001b[0m\u001b[0;34m=\u001b[0m\u001b[0mimaginary_unit\u001b[0m\u001b[0;34m,\u001b[0m\u001b[0;34m\u001b[0m\u001b[0;34m\u001b[0m\u001b[0m\n",
            "\u001b[0;31mValueError\u001b[0m: could not convert string '' to float64 at row 0, column 1."
          ]
        }
      ]
    },
    {
      "cell_type": "markdown",
      "source": [
        "Precisamos transformar os dados do documento em um array, por isso vamos calcular o número de espaços necessários para a tabela.\n",
        "\n",
        "Temos os dados de 7 anos, portanto multiplicamos 7 anos por 12 meses e somamos os 3 meses do último ano."
      ],
      "metadata": {
        "id": "Tk5qWCnK7GIn"
      }
    },
    {
      "cell_type": "code",
      "source": [
        "7*12+3"
      ],
      "metadata": {
        "colab": {
          "base_uri": "https://localhost:8080/"
        },
        "id": "6Nzc-WnK4DwW",
        "outputId": "8b7c9307-058b-48e2-88c9-d0923b173b76"
      },
      "execution_count": null,
      "outputs": [
        {
          "output_type": "execute_result",
          "data": {
            "text/plain": [
              "87"
            ]
          },
          "metadata": {},
          "execution_count": 3
        }
      ]
    },
    {
      "cell_type": "markdown",
      "source": [
        "Chamamos uma função `np.arange()` que fará um arranjo (array) de uma lista com 88 espaços (precisa ser o número necessário +1), distribuidos 1 a 1.\n",
        "Sendo assim nosso código ficará:"
      ],
      "metadata": {
        "id": "E6lSSXw27kBz"
      }
    },
    {
      "cell_type": "code",
      "source": [
        "np.arange(1, 88, 1)"
      ],
      "metadata": {
        "colab": {
          "base_uri": "https://localhost:8080/"
        },
        "id": "TthRZCiI4Ure",
        "outputId": "97fbf8a2-6af9-4ac3-e5f3-a518af3d2615"
      },
      "execution_count": null,
      "outputs": [
        {
          "output_type": "execute_result",
          "data": {
            "text/plain": [
              "array([ 1,  2,  3,  4,  5,  6,  7,  8,  9, 10, 11, 12, 13, 14, 15, 16, 17,\n",
              "       18, 19, 20, 21, 22, 23, 24, 25, 26, 27, 28, 29, 30, 31, 32, 33, 34,\n",
              "       35, 36, 37, 38, 39, 40, 41, 42, 43, 44, 45, 46, 47, 48, 49, 50, 51,\n",
              "       52, 53, 54, 55, 56, 57, 58, 59, 60, 61, 62, 63, 64, 65, 66, 67, 68,\n",
              "       69, 70, 71, 72, 73, 74, 75, 76, 77, 78, 79, 80, 81, 82, 83, 84, 85,\n",
              "       86, 87])"
            ]
          },
          "metadata": {},
          "execution_count": 6
        }
      ]
    },
    {
      "cell_type": "markdown",
      "source": [
        "Adicionamos essa função `np.arange()` dentro de um parâmetro chamado `usecols` no código principal que deu erro anteriormente."
      ],
      "metadata": {
        "id": "0ic-O4VV8CQe"
      }
    },
    {
      "cell_type": "code",
      "source": [
        "np.loadtxt('apples_ts.csv', delimiter= ',', usecols=np.arange(1, 88, 1))"
      ],
      "metadata": {
        "colab": {
          "base_uri": "https://localhost:8080/"
        },
        "id": "mY7auX8p4dYS",
        "outputId": "4a0686a1-81fb-41e3-9099-6712cee67176"
      },
      "execution_count": null,
      "outputs": [
        {
          "output_type": "execute_result",
          "data": {
            "text/plain": [
              "array([[  1.2013,   2.2013,   3.2013,   4.2013,   5.2013,   6.2013,\n",
              "          7.2013,   8.2013,   9.2013,  10.2013,  11.2013,  12.2013,\n",
              "          1.2014,   2.2014,   3.2014,   4.2014,   5.2014,   6.2014,\n",
              "          7.2014,   8.2014,   9.2014,  10.2014,  11.2014,  12.2014,\n",
              "          1.2015,   2.2015,   3.2015,   4.2015,   5.2015,   6.2015,\n",
              "          7.2015,   8.2015,   9.2015,  10.2015,  11.2015,  12.2015,\n",
              "          1.2016,   2.2016,   3.2016,   4.2016,   5.2016,   6.2016,\n",
              "          7.2016,   8.2016,   9.2016,  10.2016,  11.2016,  12.2016,\n",
              "          1.2017,   2.2017,   3.2017,   4.2017,   5.2017,   6.2017,\n",
              "          7.2017,   8.2017,   9.2017,  10.2017,  11.2017,  12.2017,\n",
              "          1.2018,   2.2018,   3.2018,   4.2018,   5.2018,   6.2018,\n",
              "          7.2018,   8.2018,   9.2018,  10.2018,  11.2018,  12.2018,\n",
              "          1.2019,   2.2019,   3.2019,   4.2019,   5.2019,   6.2019,\n",
              "          7.2019,   8.2019,   9.2019,  10.2019,  11.2019,  12.2019,\n",
              "          1.202 ,   2.202 ,   3.202 ],\n",
              "       [ 79.72  ,  81.08  ,  79.68  ,  79.8   ,  80.63  ,  80.8   ,\n",
              "         80.28  ,  78.99  ,  76.77  ,  76.09  ,  76.36  ,  77.16  ,\n",
              "         77.5   ,  79.03  ,  80.28  ,  80.05  ,  78.11  ,  76.9   ,\n",
              "         77.68  ,  76.05  ,  75.53  ,  73.39  ,  78.36  ,  89.16  ,\n",
              "        105.43  , 104.82  , 101.15  ,  98.63  ,  99.96  ,  97.29  ,\n",
              "         98.64  , 104.26  , 102.63  ,  98.64  ,  97.17  ,  98.09  ,\n",
              "        103.07  , 110.26  , 110.84  , 112.28  , 111.1   , 110.06  ,\n",
              "        113.7   , 112.88  , 102.08  ,  95.54  ,  91.33  ,  89.99  ,\n",
              "         91.44  ,  93.51  ,  93.6   ,  93.78  ,  98.91  , 121.76  ,\n",
              "        129.6   , 127.9   , 114.55  , 101.88  ,  99.09  , 103.35  ,\n",
              "        106.58  , 108.    , 114.95  , 121.17  , 122.48  , 127.58  ,\n",
              "        131.89  , 129.36  , 104.26  ,  93.45  ,  92.93  ,  96.15  ,\n",
              "         99.1   , 103.    , 103.31  , 103.01  , 107.37  , 116.91  ,\n",
              "        125.29  , 123.94  , 113.03  , 102.19  ,  97.83  , 101.07  ,\n",
              "        103.44  , 108.23  , 110.28  ],\n",
              "       [ 42.67  ,  44.37  ,  44.73  ,  46.75  ,      nan,  51.59  ,\n",
              "         57.8   ,  62.14  ,  56.76  ,  50.85  ,  46.43  ,  46.73  ,\n",
              "         45.85  ,  49.25  ,  48.14  ,  49.18  ,  49.49  ,  49.83  ,\n",
              "         49.14  ,  63.21  ,  61.2   ,  60.34  ,  62.2   ,  74.2   ,\n",
              "         75.32  ,  75.92  ,  72.89  ,  74.85  ,  92.19  ,  99.7   ,\n",
              "        102.78  ,  92.67  ,  90.63  ,  83.31  ,  75.5   ,  74.6   ,\n",
              "         76.94  ,  83.04  ,  80.74  ,  80.29  ,  82.82  ,  86.29  ,\n",
              "         87.41  ,  85.1   ,  78.08  ,  76.06  ,  69.23  ,  69.04  ,\n",
              "         64.48  ,  65.73  ,  67.2   ,  70.25  ,  82.59  ,  92.12  ,\n",
              "        100.82  ,  95.23  ,  89.51  ,  82.84  ,  82.3   ,  83.76  ,\n",
              "         84.72  ,  83.91  ,  99.14  , 101.6   , 113.03  , 119.54  ,\n",
              "        118.09  , 107.32  ,  82.6   ,  77.4   ,  71.77  ,  71.25  ,\n",
              "         71.35  ,  73.62  ,  76.2   ,  74.15  ,  75.67  ,  79.2   ,\n",
              "         80.85  ,  85.33  ,  75.02  ,  77.95  ,  78.98  ,  76.55  ,\n",
              "         74.89  ,  70.    ,  81.53  ],\n",
              "       [ 62.55  ,  62.73  ,  63.43  ,  63.83  ,  66.06  ,  69.22  ,\n",
              "         72.07  ,  69.31  ,  65.18  ,  62.13  ,  64.17  ,  65.5   ,\n",
              "         66.85  ,  68.38  ,  68.77  ,  69.32  ,  69.77  ,  70.17  ,\n",
              "         70.76  ,  75.16  ,  74.86  ,  71.47  ,  76.08  ,  82.11  ,\n",
              "         94.63  ,  98.54  ,  97.84  ,  94.54  ,  97.88  ,  97.73  ,\n",
              "        100.89  , 104.88  , 104.39  , 101.9   ,  98.99  ,  99.42  ,\n",
              "        106.37  , 113.89  , 114.78  , 115.6   , 115.89  , 117.66  ,\n",
              "        118.27  , 114.19  , 101.81  ,  91.62  ,  90.15  ,  90.55  ,\n",
              "         92.3   ,  91.75  ,  92.    ,  92.57  , 100.28  , 114.33  ,\n",
              "        122.17  , 117.83  , 112.49  ,  93.7   ,  97.17  ,  95.64  ,\n",
              "        102.21  , 107.58  , 110.48  , 117.73  , 122.07  , 128.58  ,\n",
              "        131.12  , 127.08  , 110.99  ,  97.43  ,  92.05  ,  93.21  ,\n",
              "         98.58  , 100.23  , 102.09  , 101.73  , 107.28  , 115.35  ,\n",
              "        123.03  , 123.08  , 109.71  ,  97.22  ,  95.75  ,  97.09  ,\n",
              "         98.18  , 103.1   , 110.6   ],\n",
              "       [ 48.26  ,  51.01  ,  50.91  ,  53.94  ,  61.27  ,  65.44  ,\n",
              "         56.51  ,  53.    ,  43.87  ,  42.12  ,  43.98  ,  44.66  ,\n",
              "         47.73  ,  52.31  ,  56.8   ,  51.15  ,  54.63  ,  55.8   ,\n",
              "         57.31  ,  53.81  ,  55.5   ,  52.95  ,  53.29  ,  54.86  ,\n",
              "         71.72  ,  74.36  ,  78.25  ,  70.63  ,  77.06  ,  81.52  ,\n",
              "         84.12  ,  83.33  ,  66.98  ,  62.04  ,  59.79  ,  66.06  ,\n",
              "         71.99  ,  76.79  ,  80.98  ,  89.18  ,  92.71  ,  94.85  ,\n",
              "         99.18  ,  86.33  ,  71.94  ,  67.18  ,  62.98  ,  69.45  ,\n",
              "         67.56  ,  67.92  ,  68.4   ,  67.97  ,  76.33  ,  95.79  ,\n",
              "        112.36  ,  82.03  ,  73.83  ,  66.12  ,  63.24  ,  63.98  ,\n",
              "         69.1   ,  70.04  ,  80.03  ,  87.92  ,  97.07  , 106.52  ,\n",
              "        108.93  ,  95.17  ,  74.31  ,  62.63  ,  69.92  ,  70.58  ,\n",
              "         74.63  ,  78.69  ,  81.82  ,  82.36  ,  89.44  , 102.01  ,\n",
              "        116.12  ,  92.06  ,  82.7   ,  66.62  ,  68.11  ,  73.48  ,\n",
              "         82.04  ,  81.19  ,  95.05  ],\n",
              "       [ 71.25  ,  71.35  ,  70.9   ,  71.92  ,  72.91  ,  74.39  ,\n",
              "         73.1   ,  70.24  ,  69.12  ,  68.98  ,  68.58  ,  69.5   ,\n",
              "         70.14  ,  70.58  ,  70.78  ,  72.78  ,  72.84  ,  74.74  ,\n",
              "         76.43  ,  81.2   ,  82.04  ,  79.67  ,  81.25  ,  85.88  ,\n",
              "         91.35  , 101.32  , 102.45  ,  98.18  , 105.1   , 104.85  ,\n",
              "        111.48  , 118.51  , 118.92  , 109.87  , 105.22  , 105.45  ,\n",
              "        115.61  , 116.61  , 120.39  , 119.2   , 119.92  , 120.57  ,\n",
              "        123.37  , 121.39  , 118.16  , 108.84  , 100.78  ,  99.92  ,\n",
              "        100.65  ,  98.92  , 100.31  ,  96.41  , 101.24  , 118.7   ,\n",
              "        133.29  , 130.31  , 122.4   , 104.98  , 107.54  , 110.74  ,\n",
              "        110.51  , 111.46  , 113.42  , 118.15  , 114.    , 124.91  ,\n",
              "        126.06  , 123.3   , 111.61  ,  98.82  ,  97.47  , 103.01  ,\n",
              "        109.36  , 104.79  , 105.09  , 103.16  , 106.52  , 121.68  ,\n",
              "        125.32  , 123.41  , 108.48  ,  98.73  ,  96.25  , 100.12  ,\n",
              "        101.29  , 102.81  , 108.53  ]])"
            ]
          },
          "metadata": {},
          "execution_count": 3
        }
      ]
    },
    {
      "cell_type": "markdown",
      "source": [
        "##Carregando através de uma url\n",
        "\n",
        "Como esses mesmos dados estão armazenados em uma url no github, podemos armazenar o link de acesso em uma variável chamada `url` e chamarmos essa constante dentro do `np.loadtxt()`\n",
        "\n",
        "Por fim, armazenamos todo esse carregamento de dados em uma constante chamada `dado`."
      ],
      "metadata": {
        "id": "ugjo93U-8bKA"
      }
    },
    {
      "cell_type": "code",
      "source": [
        "url = 'https://raw.githubusercontent.com/alura-cursos/numpy/dados/apples_ts.csv'"
      ],
      "metadata": {
        "id": "wIeUqBmj4t8R"
      },
      "execution_count": null,
      "outputs": []
    },
    {
      "cell_type": "code",
      "source": [
        "dado = np.loadtxt(url, delimiter= ',', usecols=np.arange(1, 88, 1))"
      ],
      "metadata": {
        "id": "juwy3aae5RV2"
      },
      "execution_count": null,
      "outputs": []
    },
    {
      "cell_type": "code",
      "source": [
        "dado"
      ],
      "metadata": {
        "colab": {
          "base_uri": "https://localhost:8080/"
        },
        "id": "hVTh7eN0-ntn",
        "outputId": "9f7beecc-025b-4540-c154-38a269fdb1b4"
      },
      "execution_count": null,
      "outputs": [
        {
          "output_type": "execute_result",
          "data": {
            "text/plain": [
              "array([[  1.2013,   2.2013,   3.2013,   4.2013,   5.2013,   6.2013,\n",
              "          7.2013,   8.2013,   9.2013,  10.2013,  11.2013,  12.2013,\n",
              "          1.2014,   2.2014,   3.2014,   4.2014,   5.2014,   6.2014,\n",
              "          7.2014,   8.2014,   9.2014,  10.2014,  11.2014,  12.2014,\n",
              "          1.2015,   2.2015,   3.2015,   4.2015,   5.2015,   6.2015,\n",
              "          7.2015,   8.2015,   9.2015,  10.2015,  11.2015,  12.2015,\n",
              "          1.2016,   2.2016,   3.2016,   4.2016,   5.2016,   6.2016,\n",
              "          7.2016,   8.2016,   9.2016,  10.2016,  11.2016,  12.2016,\n",
              "          1.2017,   2.2017,   3.2017,   4.2017,   5.2017,   6.2017,\n",
              "          7.2017,   8.2017,   9.2017,  10.2017,  11.2017,  12.2017,\n",
              "          1.2018,   2.2018,   3.2018,   4.2018,   5.2018,   6.2018,\n",
              "          7.2018,   8.2018,   9.2018,  10.2018,  11.2018,  12.2018,\n",
              "          1.2019,   2.2019,   3.2019,   4.2019,   5.2019,   6.2019,\n",
              "          7.2019,   8.2019,   9.2019,  10.2019,  11.2019,  12.2019,\n",
              "          1.202 ,   2.202 ,   3.202 ],\n",
              "       [ 79.72  ,  81.08  ,  79.68  ,  79.8   ,  80.63  ,  80.8   ,\n",
              "         80.28  ,  78.99  ,  76.77  ,  76.09  ,  76.36  ,  77.16  ,\n",
              "         77.5   ,  79.03  ,  80.28  ,  80.05  ,  78.11  ,  76.9   ,\n",
              "         77.68  ,  76.05  ,  75.53  ,  73.39  ,  78.36  ,  89.16  ,\n",
              "        105.43  , 104.82  , 101.15  ,  98.63  ,  99.96  ,  97.29  ,\n",
              "         98.64  , 104.26  , 102.63  ,  98.64  ,  97.17  ,  98.09  ,\n",
              "        103.07  , 110.26  , 110.84  , 112.28  , 111.1   , 110.06  ,\n",
              "        113.7   , 112.88  , 102.08  ,  95.54  ,  91.33  ,  89.99  ,\n",
              "         91.44  ,  93.51  ,  93.6   ,  93.78  ,  98.91  , 121.76  ,\n",
              "        129.6   , 127.9   , 114.55  , 101.88  ,  99.09  , 103.35  ,\n",
              "        106.58  , 108.    , 114.95  , 121.17  , 122.48  , 127.58  ,\n",
              "        131.89  , 129.36  , 104.26  ,  93.45  ,  92.93  ,  96.15  ,\n",
              "         99.1   , 103.    , 103.31  , 103.01  , 107.37  , 116.91  ,\n",
              "        125.29  , 123.94  , 113.03  , 102.19  ,  97.83  , 101.07  ,\n",
              "        103.44  , 108.23  , 110.28  ],\n",
              "       [ 42.67  ,  44.37  ,  44.73  ,  46.75  ,      nan,  51.59  ,\n",
              "         57.8   ,  62.14  ,  56.76  ,  50.85  ,  46.43  ,  46.73  ,\n",
              "         45.85  ,  49.25  ,  48.14  ,  49.18  ,  49.49  ,  49.83  ,\n",
              "         49.14  ,  63.21  ,  61.2   ,  60.34  ,  62.2   ,  74.2   ,\n",
              "         75.32  ,  75.92  ,  72.89  ,  74.85  ,  92.19  ,  99.7   ,\n",
              "        102.78  ,  92.67  ,  90.63  ,  83.31  ,  75.5   ,  74.6   ,\n",
              "         76.94  ,  83.04  ,  80.74  ,  80.29  ,  82.82  ,  86.29  ,\n",
              "         87.41  ,  85.1   ,  78.08  ,  76.06  ,  69.23  ,  69.04  ,\n",
              "         64.48  ,  65.73  ,  67.2   ,  70.25  ,  82.59  ,  92.12  ,\n",
              "        100.82  ,  95.23  ,  89.51  ,  82.84  ,  82.3   ,  83.76  ,\n",
              "         84.72  ,  83.91  ,  99.14  , 101.6   , 113.03  , 119.54  ,\n",
              "        118.09  , 107.32  ,  82.6   ,  77.4   ,  71.77  ,  71.25  ,\n",
              "         71.35  ,  73.62  ,  76.2   ,  74.15  ,  75.67  ,  79.2   ,\n",
              "         80.85  ,  85.33  ,  75.02  ,  77.95  ,  78.98  ,  76.55  ,\n",
              "         74.89  ,  70.    ,  81.53  ],\n",
              "       [ 62.55  ,  62.73  ,  63.43  ,  63.83  ,  66.06  ,  69.22  ,\n",
              "         72.07  ,  69.31  ,  65.18  ,  62.13  ,  64.17  ,  65.5   ,\n",
              "         66.85  ,  68.38  ,  68.77  ,  69.32  ,  69.77  ,  70.17  ,\n",
              "         70.76  ,  75.16  ,  74.86  ,  71.47  ,  76.08  ,  82.11  ,\n",
              "         94.63  ,  98.54  ,  97.84  ,  94.54  ,  97.88  ,  97.73  ,\n",
              "        100.89  , 104.88  , 104.39  , 101.9   ,  98.99  ,  99.42  ,\n",
              "        106.37  , 113.89  , 114.78  , 115.6   , 115.89  , 117.66  ,\n",
              "        118.27  , 114.19  , 101.81  ,  91.62  ,  90.15  ,  90.55  ,\n",
              "         92.3   ,  91.75  ,  92.    ,  92.57  , 100.28  , 114.33  ,\n",
              "        122.17  , 117.83  , 112.49  ,  93.7   ,  97.17  ,  95.64  ,\n",
              "        102.21  , 107.58  , 110.48  , 117.73  , 122.07  , 128.58  ,\n",
              "        131.12  , 127.08  , 110.99  ,  97.43  ,  92.05  ,  93.21  ,\n",
              "         98.58  , 100.23  , 102.09  , 101.73  , 107.28  , 115.35  ,\n",
              "        123.03  , 123.08  , 109.71  ,  97.22  ,  95.75  ,  97.09  ,\n",
              "         98.18  , 103.1   , 110.6   ],\n",
              "       [ 48.26  ,  51.01  ,  50.91  ,  53.94  ,  61.27  ,  65.44  ,\n",
              "         56.51  ,  53.    ,  43.87  ,  42.12  ,  43.98  ,  44.66  ,\n",
              "         47.73  ,  52.31  ,  56.8   ,  51.15  ,  54.63  ,  55.8   ,\n",
              "         57.31  ,  53.81  ,  55.5   ,  52.95  ,  53.29  ,  54.86  ,\n",
              "         71.72  ,  74.36  ,  78.25  ,  70.63  ,  77.06  ,  81.52  ,\n",
              "         84.12  ,  83.33  ,  66.98  ,  62.04  ,  59.79  ,  66.06  ,\n",
              "         71.99  ,  76.79  ,  80.98  ,  89.18  ,  92.71  ,  94.85  ,\n",
              "         99.18  ,  86.33  ,  71.94  ,  67.18  ,  62.98  ,  69.45  ,\n",
              "         67.56  ,  67.92  ,  68.4   ,  67.97  ,  76.33  ,  95.79  ,\n",
              "        112.36  ,  82.03  ,  73.83  ,  66.12  ,  63.24  ,  63.98  ,\n",
              "         69.1   ,  70.04  ,  80.03  ,  87.92  ,  97.07  , 106.52  ,\n",
              "        108.93  ,  95.17  ,  74.31  ,  62.63  ,  69.92  ,  70.58  ,\n",
              "         74.63  ,  78.69  ,  81.82  ,  82.36  ,  89.44  , 102.01  ,\n",
              "        116.12  ,  92.06  ,  82.7   ,  66.62  ,  68.11  ,  73.48  ,\n",
              "         82.04  ,  81.19  ,  95.05  ],\n",
              "       [ 71.25  ,  71.35  ,  70.9   ,  71.92  ,  72.91  ,  74.39  ,\n",
              "         73.1   ,  70.24  ,  69.12  ,  68.98  ,  68.58  ,  69.5   ,\n",
              "         70.14  ,  70.58  ,  70.78  ,  72.78  ,  72.84  ,  74.74  ,\n",
              "         76.43  ,  81.2   ,  82.04  ,  79.67  ,  81.25  ,  85.88  ,\n",
              "         91.35  , 101.32  , 102.45  ,  98.18  , 105.1   , 104.85  ,\n",
              "        111.48  , 118.51  , 118.92  , 109.87  , 105.22  , 105.45  ,\n",
              "        115.61  , 116.61  , 120.39  , 119.2   , 119.92  , 120.57  ,\n",
              "        123.37  , 121.39  , 118.16  , 108.84  , 100.78  ,  99.92  ,\n",
              "        100.65  ,  98.92  , 100.31  ,  96.41  , 101.24  , 118.7   ,\n",
              "        133.29  , 130.31  , 122.4   , 104.98  , 107.54  , 110.74  ,\n",
              "        110.51  , 111.46  , 113.42  , 118.15  , 114.    , 124.91  ,\n",
              "        126.06  , 123.3   , 111.61  ,  98.82  ,  97.47  , 103.01  ,\n",
              "        109.36  , 104.79  , 105.09  , 103.16  , 106.52  , 121.68  ,\n",
              "        125.32  , 123.41  , 108.48  ,  98.73  ,  96.25  , 100.12  ,\n",
              "        101.29  , 102.81  , 108.53  ]])"
            ]
          },
          "metadata": {},
          "execution_count": 11
        }
      ]
    },
    {
      "cell_type": "markdown",
      "source": [
        "##Para saber mais: vantagens dos arrays\n",
        "\n",
        "As listas em Python são estruturas de dados básicas que podem conter elementos de diferentes tipos (inteiros, strings, outras listas, etc.). Já a Numpy (Numerical Python) é uma biblioteca do Python que fornece suporte a arrays multidimensionais, estruturas de dados mais avançadas e eficientes para cálculos numéricos.\n",
        "\n",
        "Aqui está um exemplo de como transformar uma lista em um array Numpy:"
      ],
      "metadata": {
        "id": "CkBhQKpG-MhI"
      }
    },
    {
      "cell_type": "code",
      "source": [
        "import numpy as np\n",
        "\n",
        "# cria uma lista\n",
        "lista = [1, 2, 3, 4, 5]\n",
        "\n",
        "# transforma a lista em um array Numpy\n",
        "array = np.array(lista)\n",
        "\n",
        "print(\"Lista: \", lista)\n",
        "print(\"Array: \", array)"
      ],
      "metadata": {
        "colab": {
          "base_uri": "https://localhost:8080/"
        },
        "id": "gaG4WNcj-L3S",
        "outputId": "34e5788e-2b79-402f-9938-670864ab3af8"
      },
      "execution_count": null,
      "outputs": [
        {
          "output_type": "stream",
          "name": "stdout",
          "text": [
            "Lista:  [1, 2, 3, 4, 5]\n",
            "Array:  [1 2 3 4 5]\n"
          ]
        }
      ]
    },
    {
      "cell_type": "markdown",
      "source": [
        "#Dimensões do Array\n",
        "\n",
        "Na biblioteca Numpy temos a função `ndim`, que verifica a quantidade de dimensões do array. no caso, ao escrevermos `dado.ndim` é possível ver que `dado` possui 2 dimensões, ou seja, é 2D."
      ],
      "metadata": {
        "id": "Avb7PDMF-5Wn"
      }
    },
    {
      "cell_type": "code",
      "source": [
        "dado.ndim"
      ],
      "metadata": {
        "colab": {
          "base_uri": "https://localhost:8080/"
        },
        "id": "AuH_z5xQ-biX",
        "outputId": "dd105218-dc4d-4b72-b85c-f02458a3ef61"
      },
      "execution_count": null,
      "outputs": [
        {
          "output_type": "execute_result",
          "data": {
            "text/plain": [
              "2"
            ]
          },
          "metadata": {},
          "execution_count": 13
        }
      ]
    },
    {
      "cell_type": "markdown",
      "source": [
        "A função `.size` dentro do Numpy verifica o tamanho do array. No caso de dado, a função nos retorna o tamanho 522."
      ],
      "metadata": {
        "id": "SZEBCf0F_S1j"
      }
    },
    {
      "cell_type": "code",
      "source": [
        "dado.size"
      ],
      "metadata": {
        "colab": {
          "base_uri": "https://localhost:8080/"
        },
        "id": "H1Si0vjc_AG0",
        "outputId": "3466fbfd-b0d3-4cab-9cf4-131d6b6b71aa"
      },
      "execution_count": null,
      "outputs": [
        {
          "output_type": "execute_result",
          "data": {
            "text/plain": [
              "522"
            ]
          },
          "metadata": {},
          "execution_count": 14
        }
      ]
    },
    {
      "cell_type": "markdown",
      "source": [
        "A função `.shape` na biblioteca numpy nos retorna a estrutura do array. No caso de dado, a função nos retorna (6, 87), ou seja, 6 linhas e 87 colunas.\n",
        "\n"
      ],
      "metadata": {
        "id": "riYhG24v_cVi"
      }
    },
    {
      "cell_type": "code",
      "source": [
        "dado.shape"
      ],
      "metadata": {
        "colab": {
          "base_uri": "https://localhost:8080/"
        },
        "id": "_LQT6g2M_aNg",
        "outputId": "dcce79e4-8072-4a04-d4c0-b8ae17df9fba"
      },
      "execution_count": null,
      "outputs": [
        {
          "output_type": "execute_result",
          "data": {
            "text/plain": [
              "(6, 87)"
            ]
          },
          "metadata": {},
          "execution_count": 15
        }
      ]
    },
    {
      "cell_type": "markdown",
      "source": [
        "Aqui já é possível perceber uma estrutura de matriz (ixj), sendo assim precisamos transpor os dados e armazenar a informação em uma variável."
      ],
      "metadata": {
        "id": "-SKxwh9H_ha7"
      }
    },
    {
      "cell_type": "code",
      "source": [
        "dado_transposto = dado.T"
      ],
      "metadata": {
        "id": "1M2esuto_frs"
      },
      "execution_count": null,
      "outputs": []
    },
    {
      "cell_type": "markdown",
      "source": [
        "#Visualização e Seleção\n",
        "\n",
        "Para visualizar as datas armazenadas no DataSet precisamos armazenar o `dado_transposto` na variável datas, com as linhas e colunas desejadas. Para isso adicionamos entre colchetes o símbolo de `:` sem números de limitação para englobar todas as linhas, adicionamos vírgula e adicionamos a coluna, no caso de datas é a coluna 0."
      ],
      "metadata": {
        "id": "dgmer5UNGeQl"
      }
    },
    {
      "cell_type": "code",
      "source": [
        "datas = dado_transposto[:, 0]"
      ],
      "metadata": {
        "id": "0PLiOZ5g_pEN"
      },
      "execution_count": null,
      "outputs": []
    },
    {
      "cell_type": "markdown",
      "source": [
        "Para os valores de preços, também queremos todas as linhas, mas apenas as cinco primeiras colunas, portanto adicionamos o colchete da seguinte forma:"
      ],
      "metadata": {
        "id": "TGD_pOctH-0p"
      }
    },
    {
      "cell_type": "code",
      "source": [
        "precos = dado_transposto[:,1:6]"
      ],
      "metadata": {
        "id": "TUvmaF-YGDRR"
      },
      "execution_count": null,
      "outputs": []
    },
    {
      "cell_type": "markdown",
      "source": [
        "##Visualização do gráfico\n",
        "\n",
        "Não tem como gerar gráficos através da biblioteca numpy, por isso vamos precisar do auxílio da biblioteca `matplotlib` para fazer essa visualização."
      ],
      "metadata": {
        "id": "gWWcR8QVIi3m"
      }
    },
    {
      "cell_type": "code",
      "source": [
        "import matplotlib.pyplot as plt"
      ],
      "metadata": {
        "id": "v-0exWh1GZBm"
      },
      "execution_count": null,
      "outputs": []
    },
    {
      "cell_type": "code",
      "source": [
        "datas = np.arange(1, 88, 1)"
      ],
      "metadata": {
        "id": "kMxZDLB2JjrI"
      },
      "execution_count": null,
      "outputs": []
    },
    {
      "cell_type": "code",
      "source": [
        "plt.plot(datas, precos[:,0])"
      ],
      "metadata": {
        "colab": {
          "base_uri": "https://localhost:8080/",
          "height": 447
        },
        "id": "oQCtHIrJJDL6",
        "outputId": "c58d919d-07fa-4f8f-ee1f-d963634f8339"
      },
      "execution_count": null,
      "outputs": [
        {
          "output_type": "execute_result",
          "data": {
            "text/plain": [
              "[<matplotlib.lines.Line2D at 0x794ded2f28f0>]"
            ]
          },
          "metadata": {},
          "execution_count": 25
        },
        {
          "output_type": "display_data",
          "data": {
            "text/plain": [
              "<Figure size 640x480 with 1 Axes>"
            ],
            "image/png": "[encoded data removed]"
          },
          "metadata": {}
        }
      ]
    },
    {
      "cell_type": "markdown",
      "source": [
        "##Separando por cidades\n",
        "\n",
        "Aqui podemos chamar as funções por cada cidade, ou seja, separar os dados por cidade."
      ],
      "metadata": {
        "id": "dbwJc6tOJ9ei"
      }
    },
    {
      "cell_type": "code",
      "source": [
        "Moscow = precos[:,0]\n",
        "kaliningrad = precos[:,1]\n",
        "Petersburg = precos[:,2]\n",
        "Krasnodar = precos[:3]\n",
        "Ekaterinburg = precos[:4]"
      ],
      "metadata": {
        "id": "is8_sJiQJMeu"
      },
      "execution_count": null,
      "outputs": []
    },
    {
      "cell_type": "code",
      "source": [
        "Moscow"
      ],
      "metadata": {
        "colab": {
          "base_uri": "https://localhost:8080/"
        },
        "id": "vZ-sVYURJS5G",
        "outputId": "784f454f-5c12-4cae-84be-f6469a4f7497"
      },
      "execution_count": null,
      "outputs": [
        {
          "output_type": "execute_result",
          "data": {
            "text/plain": [
              "array([ 79.72,  81.08,  79.68,  79.8 ,  80.63,  80.8 ,  80.28,  78.99,\n",
              "        76.77,  76.09,  76.36,  77.16,  77.5 ,  79.03,  80.28,  80.05,\n",
              "        78.11,  76.9 ,  77.68,  76.05,  75.53,  73.39,  78.36,  89.16,\n",
              "       105.43, 104.82, 101.15,  98.63,  99.96,  97.29,  98.64, 104.26,\n",
              "       102.63,  98.64,  97.17,  98.09, 103.07, 110.26, 110.84, 112.28,\n",
              "       111.1 , 110.06, 113.7 , 112.88, 102.08,  95.54,  91.33,  89.99,\n",
              "        91.44,  93.51,  93.6 ,  93.78,  98.91, 121.76, 129.6 , 127.9 ,\n",
              "       114.55, 101.88,  99.09, 103.35, 106.58, 108.  , 114.95, 121.17,\n",
              "       122.48, 127.58, 131.89, 129.36, 104.26,  93.45,  92.93,  96.15,\n",
              "        99.1 , 103.  , 103.31, 103.01, 107.37, 116.91, 125.29, 123.94,\n",
              "       113.03, 102.19,  97.83, 101.07, 103.44, 108.23, 110.28])"
            ]
          },
          "metadata": {},
          "execution_count": 14
        }
      ]
    },
    {
      "cell_type": "code",
      "source": [
        "Moscow.shape"
      ],
      "metadata": {
        "colab": {
          "base_uri": "https://localhost:8080/"
        },
        "id": "Nz27v1wD5YSy",
        "outputId": "8ee86c0e-6695-4adb-e56a-c9f976a54974"
      },
      "execution_count": null,
      "outputs": [
        {
          "output_type": "execute_result",
          "data": {
            "text/plain": [
              "(87,)"
            ]
          },
          "metadata": {},
          "execution_count": 15
        }
      ]
    },
    {
      "cell_type": "markdown",
      "source": [
        "#Comparação entre Arrays\n",
        "##Separando por anos\n",
        "\n",
        "Para que o resultado contenha dados de um único ano, o intervalo começa no índice desejado e precisa ser encerrado no valor desejado + 1. Portanto, o primeiro intervalo começa no índice 0 (mês 1) e vai até o índice 12 (11+1, ou seja, fecha no mês 12). Seguindo essa lógica: o segundo intervalo começa no índice 12 (mês 13) e vai até o índice 24 (23+1, ou seja, fecha no mês 24); o terceiro intervalo começa no índice 24 (mês 25) e vai até o índice 36 (35+1, ou seja, fecha no mês 36); o quarto intervalo começa no índice 36 (mês 37) e vai até o índice 48 (47+1, ou seja, fecha no mês 48). Com isso, o código ficaria assim para os quatro anos:"
      ],
      "metadata": {
        "id": "H_iQfHV7NYwQ"
      }
    },
    {
      "cell_type": "code",
      "source": [
        "Moscow_ano1 = Moscow[0:12]\n",
        "Moscow_ano2 = Moscow[12:24]\n",
        "Moscow_ano3 = Moscow[24:36]\n",
        "Moscow_ano4 = Moscow[36:48]"
      ],
      "metadata": {
        "id": "DjBP4HRIK7EJ"
      },
      "execution_count": null,
      "outputs": []
    },
    {
      "cell_type": "code",
      "source": [
        "plt.plot(np.arange(1, 13, 1), Moscow_ano1)\n",
        "plt.plot(np.arange(1, 13, 1), Moscow_ano2)\n",
        "plt.plot(np.arange(1, 13, 1), Moscow_ano3)\n",
        "plt.plot(np.arange(1, 13, 1), Moscow_ano4)\n",
        "plt.legend(['ano 1', 'ano 2', 'ano 3', 'ano 4'])"
      ],
      "metadata": {
        "colab": {
          "base_uri": "https://localhost:8080/",
          "height": 447
        },
        "id": "trTuRFsa6tDw",
        "outputId": "2a75f545-08aa-4e8a-ac61-ee85072f7040"
      },
      "execution_count": null,
      "outputs": [
        {
          "output_type": "execute_result",
          "data": {
            "text/plain": [
              "<matplotlib.legend.Legend at 0x7fa96cf4d5a0>"
            ]
          },
          "metadata": {},
          "execution_count": 18
        },
        {
          "output_type": "display_data",
          "data": {
            "text/plain": [
              "<Figure size 640x480 with 1 Axes>"
            ],
            "image/png": "[encoded data removed]"
          },
          "metadata": {}
        }
      ]
    },
    {
      "cell_type": "markdown",
      "source": [
        "a função `.array_equal()` da biblioteca Numpy verifica de os valores dos arrays são iguais e retorna um valor lógico. No caso abaixo, a comparação dos anos 3 e 4 da cidade de Moscow retornou um valor lógico igual a `False`."
      ],
      "metadata": {
        "id": "VCaU59qS8Laa"
      }
    },
    {
      "cell_type": "code",
      "source": [
        "np.array_equal(Moscow_ano3, Moscow_ano4)"
      ],
      "metadata": {
        "colab": {
          "base_uri": "https://localhost:8080/"
        },
        "id": "PmRLclGA7M_1",
        "outputId": "d56c8e3d-1973-40f0-a220-cb7eb45c6459"
      },
      "execution_count": null,
      "outputs": [
        {
          "output_type": "execute_result",
          "data": {
            "text/plain": [
              "False"
            ]
          },
          "metadata": {},
          "execution_count": 28
        }
      ]
    },
    {
      "cell_type": "markdown",
      "source": [
        "A função `.allclose()` da biblioteca Numpy verifica se arrays são próximos (dentro de um intervalo) e retorna um valor lógico. No caso abaixo o intervalo é de 0.01, ou seja, a função vai verificar se existe uma diferença de valores dentro desse intervalo."
      ],
      "metadata": {
        "id": "J1YERFgl853S"
      }
    },
    {
      "cell_type": "code",
      "source": [
        "np.allclose(Moscow_ano3, Moscow_ano4, 0.01)"
      ],
      "metadata": {
        "colab": {
          "base_uri": "https://localhost:8080/"
        },
        "id": "kHhHjHtM8HHB",
        "outputId": "1b8484b5-ba78-4f6e-b531-614974e0f920"
      },
      "execution_count": null,
      "outputs": [
        {
          "output_type": "execute_result",
          "data": {
            "text/plain": [
              "False"
            ]
          },
          "metadata": {},
          "execution_count": 29
        }
      ]
    },
    {
      "cell_type": "markdown",
      "source": [
        "#Lidando com NaNs\n",
        "\n",
        "NaN (Not a Number) é um valor não numérico, portanto ele pode aparecer dentro de arrays como `nan`. Na cidade de Kaliningrad podemos verificar que há uma \"falha\" no gráfico e isso se deve ao `nan`, como podemos verificar também na array quando chamamos a cidade Kaliningrad."
      ],
      "metadata": {
        "id": "gPNiUAyr-owj"
      }
    },
    {
      "cell_type": "code",
      "source": [
        "plt.plot(datas, kaliningrad)"
      ],
      "metadata": {
        "colab": {
          "base_uri": "https://localhost:8080/",
          "height": 447
        },
        "id": "-aa5Zj7Y9Stt",
        "outputId": "32886619-7dba-4af1-a957-66f54ebccd02"
      },
      "execution_count": null,
      "outputs": [
        {
          "output_type": "execute_result",
          "data": {
            "text/plain": [
              "[<matplotlib.lines.Line2D at 0x7a8487adf9a0>]"
            ]
          },
          "metadata": {},
          "execution_count": 30
        },
        {
          "output_type": "display_data",
          "data": {
            "text/plain": [
              "<Figure size 640x480 with 1 Axes>"
            ],
            "image/png": "[encoded data removed]"
          },
          "metadata": {}
        }
      ]
    },
    {
      "cell_type": "code",
      "source": [
        "kaliningrad"
      ],
      "metadata": {
        "colab": {
          "base_uri": "https://localhost:8080/"
        },
        "id": "vkOOGRI8-9M6",
        "outputId": "4c7b0ab7-0fd0-490a-ca4a-c95da1a86c29"
      },
      "execution_count": null,
      "outputs": [
        {
          "output_type": "execute_result",
          "data": {
            "text/plain": [
              "array([ 42.67,  44.37,  44.73,  46.75,    nan,  51.59,  57.8 ,  62.14,\n",
              "        56.76,  50.85,  46.43,  46.73,  45.85,  49.25,  48.14,  49.18,\n",
              "        49.49,  49.83,  49.14,  63.21,  61.2 ,  60.34,  62.2 ,  74.2 ,\n",
              "        75.32,  75.92,  72.89,  74.85,  92.19,  99.7 , 102.78,  92.67,\n",
              "        90.63,  83.31,  75.5 ,  74.6 ,  76.94,  83.04,  80.74,  80.29,\n",
              "        82.82,  86.29,  87.41,  85.1 ,  78.08,  76.06,  69.23,  69.04,\n",
              "        64.48,  65.73,  67.2 ,  70.25,  82.59,  92.12, 100.82,  95.23,\n",
              "        89.51,  82.84,  82.3 ,  83.76,  84.72,  83.91,  99.14, 101.6 ,\n",
              "       113.03, 119.54, 118.09, 107.32,  82.6 ,  77.4 ,  71.77,  71.25,\n",
              "        71.35,  73.62,  76.2 ,  74.15,  75.67,  79.2 ,  80.85,  85.33,\n",
              "        75.02,  77.95,  78.98,  76.55,  74.89,  70.  ,  81.53])"
            ]
          },
          "metadata": {},
          "execution_count": 31
        }
      ]
    },
    {
      "cell_type": "markdown",
      "source": [
        "##Verificando a quantidade de valores NaN\n",
        "Em quantidades de dados maiores é muito difícil verificar a olho nu a quantidade de NaNs dentro de um array, portanto a função `.isnan()` dentro da biblioteca Numpy é responsável por verificar valores não numéricos (os NaNs) e retorna valores lógicos.\n",
        "\n",
        "Para saber exatamente e unicamente a quantidade de NaNs dentro de um array, é necessário colocar a função Numpy dentro da função `sum`, pois ela auxiliará na contagem e retornará um valor do tipo inteiro."
      ],
      "metadata": {
        "id": "LKdhbNAx_7kk"
      }
    },
    {
      "cell_type": "code",
      "source": [
        "sum(np.isnan(kaliningrad))"
      ],
      "metadata": {
        "colab": {
          "base_uri": "https://localhost:8080/"
        },
        "id": "e69PV7vM_Dog",
        "outputId": "6bbe06e9-3c30-47a4-f99e-cca765b0e664"
      },
      "execution_count": null,
      "outputs": [
        {
          "output_type": "execute_result",
          "data": {
            "text/plain": [
              "1"
            ]
          },
          "metadata": {},
          "execution_count": 33
        }
      ]
    },
    {
      "cell_type": "markdown",
      "source": [
        "##Lidando com valores NaN"
      ],
      "metadata": {
        "id": "HslnWxKXBgtY"
      }
    },
    {
      "cell_type": "markdown",
      "source": [
        "Precisamos calcular a média de valores antes e depois do Nan, para isso temos dois métodos: uma função simples de média dos valores de Kaliningrad nas posições 3 e 5 (posição 3 é o valor anterior ao NaN e posição 5 é o valor posterior ao NaN) e uma função da biblioteca Numpy que é a função `.mean()`, que calcula a média."
      ],
      "metadata": {
        "id": "9s168EgIChkj"
      }
    },
    {
      "cell_type": "code",
      "source": [
        "(kaliningrad[3] + kaliningrad[5]) / 2"
      ],
      "metadata": {
        "colab": {
          "base_uri": "https://localhost:8080/"
        },
        "id": "uzC01jWDAtlg",
        "outputId": "c09f9a0e-4ab3-4b60-aac2-2f1d16867cff"
      },
      "execution_count": null,
      "outputs": [
        {
          "output_type": "execute_result",
          "data": {
            "text/plain": [
              "49.17"
            ]
          },
          "metadata": {},
          "execution_count": 34
        }
      ]
    },
    {
      "cell_type": "code",
      "source": [
        "np.mean([kaliningrad[3], kaliningrad[5]])"
      ],
      "metadata": {
        "colab": {
          "base_uri": "https://localhost:8080/"
        },
        "id": "4z4xbFekB2lr",
        "outputId": "73410c17-c27a-4bfc-ca48-c0987861f988"
      },
      "execution_count": null,
      "outputs": [
        {
          "output_type": "execute_result",
          "data": {
            "text/plain": [
              "49.17"
            ]
          },
          "metadata": {},
          "execution_count": 36
        }
      ]
    },
    {
      "cell_type": "markdown",
      "source": [
        "Agora podemos substituir o valor NaN pela média obtida, nesse caso ficamos com:"
      ],
      "metadata": {
        "id": "HaIgVb4PDX22"
      }
    },
    {
      "cell_type": "code",
      "source": [
        "kaliningrad[4] = np.mean([kaliningrad[3], kaliningrad[5]])"
      ],
      "metadata": {
        "id": "iVPOB1fXCYev"
      },
      "execution_count": null,
      "outputs": []
    },
    {
      "cell_type": "code",
      "source": [
        "plt.plot(datas, kaliningrad)"
      ],
      "metadata": {
        "colab": {
          "base_uri": "https://localhost:8080/",
          "height": 447
        },
        "id": "38qonCkkDpCJ",
        "outputId": "1230ee79-3636-41a0-8cac-f48e73787e5b"
      },
      "execution_count": null,
      "outputs": [
        {
          "output_type": "execute_result",
          "data": {
            "text/plain": [
              "[<matplotlib.lines.Line2D at 0x7a848792a140>]"
            ]
          },
          "metadata": {},
          "execution_count": 38
        },
        {
          "output_type": "display_data",
          "data": {
            "text/plain": [
              "<Figure size 640x480 with 1 Axes>"
            ],
            "image/png": "[encoded data removed]"
          },
          "metadata": {}
        }
      ]
    },
    {
      "cell_type": "markdown",
      "source": [
        "##Comparando as médias de preço de duas cidades"
      ],
      "metadata": {
        "id": "o2a36VoND73i"
      }
    },
    {
      "cell_type": "code",
      "source": [
        "np.mean(Moscow)"
      ],
      "metadata": {
        "colab": {
          "base_uri": "https://localhost:8080/"
        },
        "id": "36NTpYicEFEE",
        "outputId": "b116371c-6528-42c4-a8ee-a3227a6835e9"
      },
      "execution_count": null,
      "outputs": [
        {
          "output_type": "execute_result",
          "data": {
            "text/plain": [
              "98.79781609195402"
            ]
          },
          "metadata": {},
          "execution_count": 39
        }
      ]
    },
    {
      "cell_type": "code",
      "source": [
        "np.mean(kaliningrad)"
      ],
      "metadata": {
        "id": "CTiJrhSxELCX",
        "outputId": "c7a2cc9e-db14-47df-c35e-040883c6d033",
        "colab": {
          "base_uri": "https://localhost:8080/"
        }
      },
      "execution_count": null,
      "outputs": [
        {
          "output_type": "execute_result",
          "data": {
            "text/plain": [
              "74.5506896551724"
            ]
          },
          "metadata": {},
          "execution_count": 40
        }
      ]
    },
    {
      "cell_type": "markdown",
      "source": [
        "#Diferença entre Arrays\n",
        "\n",
        "Vamos analisar o gráfico dos dasdos da cidade de Moscow:"
      ],
      "metadata": {
        "id": "b5s67IDXNxFD"
      }
    },
    {
      "cell_type": "code",
      "source": [
        "plt.plot(datas, Moscow)"
      ],
      "metadata": {
        "id": "CDKp8Bn9EOxa",
        "colab": {
          "base_uri": "https://localhost:8080/",
          "height": 447
        },
        "outputId": "bc4a8d4a-bfd2-40f9-95d7-e1bd0f3ece8f"
      },
      "execution_count": null,
      "outputs": [
        {
          "output_type": "execute_result",
          "data": {
            "text/plain": [
              "[<matplotlib.lines.Line2D at 0x794ded2c6110>]"
            ]
          },
          "metadata": {},
          "execution_count": 26
        },
        {
          "output_type": "display_data",
          "data": {
            "text/plain": [
              "<Figure size 640x480 with 1 Axes>"
            ],
            "image/png": "[encoded data removed]"
          },
          "metadata": {}
        }
      ]
    },
    {
      "cell_type": "markdown",
      "source": [
        "Precisamos ajustar a reta para entender a taxa de crescimento do preço das maçãs através de uma funçaõ do primeiro grau (equação da reta):\n",
        "\n",
        "y = ax + b\n",
        "\n",
        "*   a = coeficiente angular\n",
        "\n",
        "*   b = coeficiente linear\n",
        "\n",
        "*   x = variação\n",
        "\n",
        "No caso do gráfico acima, sabemos que a variação são as datas, portanto x = datas. Vamos assumir valores aleatórios para a e b e montar uma equação:\n",
        "\n",
        "\n"
      ],
      "metadata": {
        "id": "TlkMK_EEP8Sn"
      }
    },
    {
      "cell_type": "code",
      "source": [
        "x = datas"
      ],
      "metadata": {
        "id": "4cUHUSbFPqz2"
      },
      "execution_count": null,
      "outputs": []
    },
    {
      "cell_type": "code",
      "source": [
        "y = 2 * x + 80"
      ],
      "metadata": {
        "id": "qD_BIpsjRNeD"
      },
      "execution_count": null,
      "outputs": []
    },
    {
      "cell_type": "code",
      "source": [
        "plt.plot(datas, Moscow)\n",
        "plt.plot(x, y)"
      ],
      "metadata": {
        "colab": {
          "base_uri": "https://localhost:8080/",
          "height": 447
        },
        "id": "SorKsVsMRXMz",
        "outputId": "d833c6a5-443e-46d0-ff0e-ea18207b8272"
      },
      "execution_count": null,
      "outputs": [
        {
          "output_type": "execute_result",
          "data": {
            "text/plain": [
              "[<matplotlib.lines.Line2D at 0x794ded4e4610>]"
            ]
          },
          "metadata": {},
          "execution_count": 30
        },
        {
          "output_type": "display_data",
          "data": {
            "text/plain": [
              "<Figure size 640x480 with 1 Axes>"
            ],
            "image/png": "[encoded data removed]"
          },
          "metadata": {}
        }
      ]
    },
    {
      "cell_type": "markdown",
      "source": [
        "É possível perceber que foi criada uma reta, mas a mesma está bem distante dos dados do gráfico original, logo, precisamos ajustar essa reta no gráfico. Para isso, vamos fazer um cálculo de diferença entre arrays, pois ao diminuir a distância entre os dados, conseguimos obter com precisão a variação deles."
      ],
      "metadata": {
        "id": "V-DplEhiRnNS"
      }
    },
    {
      "cell_type": "code",
      "source": [
        "#Primeiro, pegamos a potência quadrada da diferença dos dados de Moscow e y\n",
        "#Segundo, pegamos a soma dos valores obtidos nas arrays\n",
        "#Terceiro, fazemos a raíz quadrada da soma\n",
        "np.sqrt(np.sum(np.power(Moscow - y, 2)))"
      ],
      "metadata": {
        "colab": {
          "base_uri": "https://localhost:8080/"
        },
        "id": "rS4-w6XORhO8",
        "outputId": "10490bcb-4db1-4211-f3ec-7976e448a132"
      },
      "execution_count": null,
      "outputs": [
        {
          "output_type": "execute_result",
          "data": {
            "text/plain": [
              "749.2329171225728"
            ]
          },
          "metadata": {},
          "execution_count": 32
        }
      ]
    },
    {
      "cell_type": "markdown",
      "source": [
        "Vamos refazer a lógica através da tentativa de outros valores para os coeficientes a e b:"
      ],
      "metadata": {
        "id": "hjBAC5uOUCtu"
      }
    },
    {
      "cell_type": "code",
      "source": [
        "y = 0.52 * x + 80"
      ],
      "metadata": {
        "id": "NTnKkFHyT40s"
      },
      "execution_count": null,
      "outputs": []
    },
    {
      "cell_type": "code",
      "source": [
        "plt.plot(datas, Moscow)\n",
        "plt.plot(x, y)"
      ],
      "metadata": {
        "colab": {
          "base_uri": "https://localhost:8080/",
          "height": 447
        },
        "id": "xQJ5i7PBUNwg",
        "outputId": "a9058c4c-77e5-4615-9d47-f61735228c26"
      },
      "execution_count": null,
      "outputs": [
        {
          "output_type": "execute_result",
          "data": {
            "text/plain": [
              "[<matplotlib.lines.Line2D at 0x794decb37e20>]"
            ]
          },
          "metadata": {},
          "execution_count": 34
        },
        {
          "output_type": "display_data",
          "data": {
            "text/plain": [
              "<Figure size 640x480 with 1 Axes>"
            ],
            "image/png": "[encoded data removed]"
          },
          "metadata": {}
        }
      ]
    },
    {
      "cell_type": "code",
      "source": [
        "np.sqrt(np.sum(np.power(Moscow - y, 2)))"
      ],
      "metadata": {
        "colab": {
          "base_uri": "https://localhost:8080/"
        },
        "id": "cG617nYlUXdh",
        "outputId": "1bfeb0c9-8052-4967-e68a-1b22d0e67319"
      },
      "execution_count": null,
      "outputs": [
        {
          "output_type": "execute_result",
          "data": {
            "text/plain": [
              "110.48504740461489"
            ]
          },
          "metadata": {},
          "execution_count": 35
        }
      ]
    },
    {
      "cell_type": "markdown",
      "source": [
        "Para não precisar utilizar esse cálculo enorme com diversas funções da Numpy, utilizaremos um que resume exatamente o que estamos tentando fazer que é a função `np.linalg.norm()`. Ela retorna o mesmo valor da equação que utilizamos anteriormente."
      ],
      "metadata": {
        "id": "XHyKO4y1Ue11"
      }
    },
    {
      "cell_type": "code",
      "source": [
        "np.linalg.norm(Moscow-y)"
      ],
      "metadata": {
        "colab": {
          "base_uri": "https://localhost:8080/"
        },
        "id": "sp-xES7JUYFj",
        "outputId": "8e638a25-3200-467f-81af-0a2a7dda23f7"
      },
      "execution_count": null,
      "outputs": [
        {
          "output_type": "execute_result",
          "data": {
            "text/plain": [
              "110.48504740461489"
            ]
          },
          "metadata": {},
          "execution_count": 36
        }
      ]
    },
    {
      "cell_type": "markdown",
      "source": [
        "#Multiplicação\n",
        "\n",
        "a = coeficiente angular\n",
        "\n",
        "n -> número de elementos\n",
        "\n",
        "Y = Moscow\n",
        "\n",
        "X = datas\n",
        "\n",
        "O coeficiente angular pode ser obtido usando a equação:\n",
        "\n",
        "#$$\\hat a = \\frac{n * Soma(X_i * Y_i) - Soma(X_i) * Soma(Y_i)}{nSoma(X^2_i) - (Soma(X_i))^2}$$"
      ],
      "metadata": {
        "id": "vYPk34QKkcUp"
      }
    },
    {
      "cell_type": "markdown",
      "source": [
        "##Calculando o coeficiente angular(a)"
      ],
      "metadata": {
        "id": "t_HJicWErq4u"
      }
    },
    {
      "cell_type": "code",
      "source": [
        "Y = Moscow\n",
        "X = datas\n",
        "n = np.size(Moscow)"
      ],
      "metadata": {
        "id": "0gkUAUjwVFUW"
      },
      "execution_count": null,
      "outputs": []
    },
    {
      "cell_type": "code",
      "source": [
        "(X**2).shape"
      ],
      "metadata": {
        "colab": {
          "base_uri": "https://localhost:8080/"
        },
        "id": "8gnmyPsxsPF5",
        "outputId": "fd6c9414-cb41-4425-8182-21c14cdaf135"
      },
      "execution_count": null,
      "outputs": [
        {
          "output_type": "execute_result",
          "data": {
            "text/plain": [
              "(87,)"
            ]
          },
          "metadata": {},
          "execution_count": 24
        }
      ]
    },
    {
      "cell_type": "code",
      "source": [
        "a = (n*np.sum(X*Y) - np.sum(X)*np.sum(Y)) / (n*np.sum(X**2)- np.sum(X)**2)"
      ],
      "metadata": {
        "id": "ocwWhRgDsVrz"
      },
      "execution_count": null,
      "outputs": []
    },
    {
      "cell_type": "markdown",
      "source": [
        "##Coeficiente linear\n",
        "\n",
        "#$$\\hat b = Media(Y_i) - \\hat a * Media(X_i)$$"
      ],
      "metadata": {
        "id": "ZO5rlbHytDgA"
      }
    },
    {
      "cell_type": "code",
      "source": [
        "b = np.mean(Y) - a*np.mean(X)"
      ],
      "metadata": {
        "id": "HS3l6sjJs5vT"
      },
      "execution_count": null,
      "outputs": []
    },
    {
      "cell_type": "code",
      "source": [
        "y = a*X + b"
      ],
      "metadata": {
        "id": "jYs46nOJuDYq"
      },
      "execution_count": null,
      "outputs": []
    },
    {
      "cell_type": "code",
      "source": [
        "np.linalg.norm(Moscow - y)"
      ],
      "metadata": {
        "colab": {
          "base_uri": "https://localhost:8080/"
        },
        "id": "1hA1LwheuKr-",
        "outputId": "a5579478-0511-4fa8-edbe-9495300893d0"
      },
      "execution_count": null,
      "outputs": [
        {
          "output_type": "execute_result",
          "data": {
            "text/plain": [
              "143.50110264455222"
            ]
          },
          "metadata": {},
          "execution_count": 28
        }
      ]
    },
    {
      "cell_type": "markdown",
      "source": [
        "##Motivo da Regressão\n",
        "\n",
        "Fizemos o cálculo dos coeficientes linear e angular para obter uma aproximação da equação da reta que se ajuste melhor ao nosso gráfico. Chamamos isso de regressão"
      ],
      "metadata": {
        "id": "GbGVIa6_4EHd"
      }
    },
    {
      "cell_type": "code",
      "source": [
        "plt.plot(datas, Moscow)\n",
        "plt.plot(x,y)\n",
        "plt.plot(41.5, 41.5 * a+b, '*r')"
      ],
      "metadata": {
        "colab": {
          "base_uri": "https://localhost:8080/",
          "height": 447
        },
        "id": "ZhScp8HIuaCd",
        "outputId": "9967a4a3-8741-4746-e9ea-6fd294baebb0"
      },
      "execution_count": null,
      "outputs": [
        {
          "output_type": "execute_result",
          "data": {
            "text/plain": [
              "[<matplotlib.lines.Line2D at 0x7a4f06429510>]"
            ]
          },
          "metadata": {},
          "execution_count": 21
        },
        {
          "output_type": "display_data",
          "data": {
            "text/plain": [
              "<Figure size 640x480 with 1 Axes>"
            ],
            "image/png": "[encoded data removed]"
          },
          "metadata": {}
        }
      ]
    },
    {
      "cell_type": "markdown",
      "source": [
        "##Estimando valores no futuro\n",
        "\n",
        "Teremos a projeção da reta no mês 100 com o código `plt.plot(100, 100*a+b,'*r')`"
      ],
      "metadata": {
        "id": "805p8eSc8Db5"
      }
    },
    {
      "cell_type": "code",
      "source": [
        "plt.plot(datas, Moscow)\n",
        "plt.plot(x,y)\n",
        "plt.plot(41.5, 41.5 * a+b, '*r')\n",
        "plt.plot(100, 100*a+b,'*r')"
      ],
      "metadata": {
        "colab": {
          "base_uri": "https://localhost:8080/",
          "height": 447
        },
        "id": "0JVjqF-84Xv7",
        "outputId": "5972cdde-7a3f-4786-9022-1e18410185e1"
      },
      "execution_count": null,
      "outputs": [
        {
          "output_type": "execute_result",
          "data": {
            "text/plain": [
              "[<matplotlib.lines.Line2D at 0x7a4f064bc820>]"
            ]
          },
          "metadata": {},
          "execution_count": 22
        },
        {
          "output_type": "display_data",
          "data": {
            "text/plain": [
              "<Figure size 640x480 with 1 Axes>"
            ],
            "image/png": "[encoded data removed]"
          },
          "metadata": {}
        }
      ]
    },
    {
      "cell_type": "markdown",
      "source": [
        "#Valores em um intervalo\n",
        "##Gerando números aleatórios com a Numpy\n",
        " A função `random.randint()` gera números inteiros aleatórios"
      ],
      "metadata": {
        "id": "BAyViro70NEL"
      }
    },
    {
      "cell_type": "code",
      "source": [
        "np.random.randint(low=40, high=100, size = 100)"
      ],
      "metadata": {
        "colab": {
          "base_uri": "https://localhost:8080/"
        },
        "id": "UdPTrmRS8Qz9",
        "outputId": "f9855146-ecf6-4f4c-f118-00811e887d25"
      },
      "execution_count": null,
      "outputs": [
        {
          "output_type": "execute_result",
          "data": {
            "text/plain": [
              "array([68, 84, 65, 92, 57, 75, 68, 74, 47, 69, 76, 97, 64, 48, 49, 58, 90,\n",
              "       57, 84, 98, 93, 67, 76, 53, 74, 84, 74, 82, 77, 61, 62, 49, 89, 90,\n",
              "       92, 50, 53, 65, 84, 47, 50, 41, 77, 74, 55, 52, 44, 69, 78, 84, 46,\n",
              "       45, 41, 49, 80, 87, 40, 66, 47, 62, 56, 87, 98, 70, 70, 88, 44, 49,\n",
              "       50, 51, 58, 50, 92, 49, 90, 97, 69, 44, 42, 86, 48, 52, 65, 89, 51,\n",
              "       84, 65, 90, 98, 73, 79, 78, 99, 50, 60, 51, 48, 79, 46, 87])"
            ]
          },
          "metadata": {},
          "execution_count": 13
        }
      ]
    },
    {
      "cell_type": "markdown",
      "source": [
        "A função `random.uniform()` gera valores do tipo float aleatórios.\n",
        "\n",
        "Como nosso coeficiente angular está no intervalo 0.1 e 0.5, pegamos uma amostra de 100 números aleatórios dentro desse intervalo e armazenamos dentro de uma variável"
      ],
      "metadata": {
        "id": "kVsH5fiA1J_9"
      }
    },
    {
      "cell_type": "code",
      "source": [
        "coef_angulares = np.random.uniform(low=0.1, high=0.5, size=100)"
      ],
      "metadata": {
        "id": "sWqNPbXl1Vv7"
      },
      "execution_count": null,
      "outputs": []
    },
    {
      "cell_type": "markdown",
      "source": [
        "Agora vamos testar esses valores aleatórios:"
      ],
      "metadata": {
        "id": "00nKfx892QE9"
      }
    },
    {
      "cell_type": "code",
      "source": [
        "norma = np.array([])\n",
        "for i in range(100):\n",
        "  norma = np.append(norma, np.linalg.norm(Moscow - (coef_angulares[i]* X+b)))"
      ],
      "metadata": {
        "id": "HFpz6W8O1fQe"
      },
      "execution_count": null,
      "outputs": []
    },
    {
      "cell_type": "code",
      "source": [
        "norma"
      ],
      "metadata": {
        "colab": {
          "base_uri": "https://localhost:8080/"
        },
        "id": "5p9D5bCo2yv-",
        "outputId": "8ea869a0-3cc5-42a6-c952-944d5ec3304c"
      },
      "execution_count": null,
      "outputs": [
        {
          "output_type": "execute_result",
          "data": {
            "text/plain": [
              "array([151.83097899, 153.81473125, 149.1533594 , 150.88785169,\n",
              "       149.36615606, 153.6561365 , 150.57644087, 154.40902492,\n",
              "       154.91820385, 151.67441356, 152.90645155, 149.71263141,\n",
              "       154.64772167, 154.35423162, 154.72132007, 150.17183767,\n",
              "       147.86509323, 148.01281204, 147.7433584 , 151.38960362,\n",
              "       148.69998432, 154.85333074, 154.16481279, 150.89309461,\n",
              "       151.83307386, 149.81010748, 151.0259186 , 152.02170731,\n",
              "       149.41672507, 153.4532334 , 148.9232584 , 152.59638496,\n",
              "       147.9111185 , 148.46478019, 148.05380295, 151.43236624,\n",
              "       148.18391723, 152.63988769, 149.73004828, 151.32141068,\n",
              "       147.8523387 , 154.78924004, 152.43900569, 154.2432065 ,\n",
              "       154.25649087, 154.91948677, 150.75632224, 147.56945122,\n",
              "       153.55745974, 155.92945706, 148.4319467 , 148.8731675 ,\n",
              "       156.16331718, 148.82194807, 152.75556188, 150.73752003,\n",
              "       153.1215358 , 151.8730949 , 153.11615173, 151.22639437,\n",
              "       152.58240152, 147.65358805, 150.87914771, 154.76914055,\n",
              "       151.34524569, 149.19868851, 149.8658724 , 155.20562512,\n",
              "       150.73684396, 151.81449212, 153.02425053, 149.1393847 ,\n",
              "       154.52555925, 149.52300257, 151.37115849, 154.12550136,\n",
              "       148.49528081, 153.01624962, 150.88263497, 151.48494391,\n",
              "       150.59928341, 150.85030821, 153.80939101, 154.05487885,\n",
              "       150.59834068, 147.62783308, 148.20732534, 152.89092493,\n",
              "       147.66128943, 150.04246282, 152.28444863, 149.91643617,\n",
              "       150.90558152, 150.02228713, 149.31614679, 152.18031013,\n",
              "       152.42153621, 148.6691214 , 149.62929486, 154.09998112])"
            ]
          },
          "metadata": {},
          "execution_count": 33
        }
      ]
    },
    {
      "cell_type": "code",
      "source": [
        "coef_angulares[1]"
      ],
      "metadata": {
        "colab": {
          "base_uri": "https://localhost:8080/"
        },
        "id": "YXSMMLYR3sBE",
        "outputId": "e96ead55-b71c-4854-8e0b-9fc0353ce24d"
      },
      "execution_count": null,
      "outputs": [
        {
          "output_type": "execute_result",
          "data": {
            "text/plain": [
              "0.4093419587317455"
            ]
          },
          "metadata": {},
          "execution_count": 34
        }
      ]
    },
    {
      "cell_type": "markdown",
      "source": [
        "#Reprodutibilidade\n",
        "\n",
        "A função `random.seed()` seleciona um número semente fixo para inicializar o gerador aleatório"
      ],
      "metadata": {
        "id": "sZ_RMkYR4xOY"
      }
    },
    {
      "cell_type": "code",
      "source": [
        "np.random.seed(16)\n",
        "np.random.uniform(low=0.1, high=0.5, size=100)"
      ],
      "metadata": {
        "colab": {
          "base_uri": "https://localhost:8080/"
        },
        "id": "Bijrw7ch31bi",
        "outputId": "7c523af3-8ed4-4660-c6b5-332592b6386c"
      },
      "execution_count": null,
      "outputs": [
        {
          "output_type": "execute_result",
          "data": {
            "text/plain": [
              "array([0.18931643, 0.30926534, 0.32028058, 0.11824078, 0.24429153,\n",
              "       0.18923238, 0.37549046, 0.16549257, 0.12812995, 0.47640434,\n",
              "       0.32547255, 0.13119694, 0.3890562 , 0.16338087, 0.20011252,\n",
              "       0.2173949 , 0.37864429, 0.28570564, 0.18602486, 0.2787305 ,\n",
              "       0.1483515 , 0.4670748 , 0.32657853, 0.28880773, 0.22582657,\n",
              "       0.11728629, 0.40097797, 0.31730762, 0.40687617, 0.41617951,\n",
              "       0.12888855, 0.36388633, 0.12131974, 0.37400978, 0.27734038,\n",
              "       0.28719846, 0.36442373, 0.37598665, 0.20533179, 0.10459157,\n",
              "       0.40851778, 0.42645693, 0.15585664, 0.3312027 , 0.23626971,\n",
              "       0.19288619, 0.1794575 , 0.20859631, 0.49074111, 0.18617159,\n",
              "       0.24256297, 0.10735998, 0.34671611, 0.19216216, 0.39694069,\n",
              "       0.33370008, 0.26804142, 0.38370113, 0.48881821, 0.42401565,\n",
              "       0.27226207, 0.48309144, 0.11910324, 0.39311272, 0.37026658,\n",
              "       0.31080207, 0.32679498, 0.3891781 , 0.37304134, 0.41812507,\n",
              "       0.14513821, 0.17966505, 0.38852769, 0.25754693, 0.23567416,\n",
              "       0.16137827, 0.14022961, 0.26289884, 0.33316619, 0.39628821,\n",
              "       0.44814434, 0.48661046, 0.28222594, 0.2601692 , 0.21957585,\n",
              "       0.43134403, 0.46393647, 0.40645467, 0.12732591, 0.34241061,\n",
              "       0.47568645, 0.14085706, 0.49101581, 0.24267549, 0.36167487,\n",
              "       0.14911428, 0.48454088, 0.36047257, 0.47467112, 0.46353092])"
            ]
          },
          "metadata": {},
          "execution_count": 36
        }
      ]
    },
    {
      "cell_type": "markdown",
      "source": [
        "##O valor passado para o seed importa?\n",
        "\n",
        "Sim, importa. No entanto, não interfere na qualidade dos números gerados, mas gera sequências diferentes."
      ],
      "metadata": {
        "id": "bD0gOKPe6IFJ"
      }
    },
    {
      "cell_type": "code",
      "source": [
        "np.random.seed(84)\n",
        "coef_angulares = np.random.uniform(low=0.1, high=0.5, size=100)\n",
        "norma = np.array([])\n",
        "for i in range(100):\n",
        "  norma = np.append(norma, np.linalg.norm(Moscow - (coef_angulares[i]* X+b)))"
      ],
      "metadata": {
        "id": "kwvKobKZ5rHI"
      },
      "execution_count": null,
      "outputs": []
    },
    {
      "cell_type": "code",
      "source": [
        "norma"
      ],
      "metadata": {
        "colab": {
          "base_uri": "https://localhost:8080/"
        },
        "id": "MrIkxq79_71q",
        "outputId": "6c32d097-db1e-4d5c-c145-e8838e5e11bb"
      },
      "execution_count": null,
      "outputs": [
        {
          "output_type": "execute_result",
          "data": {
            "text/plain": [
              "array([147.76475849, 150.15843663, 149.15402509, 152.41675074,\n",
              "       156.07549237, 148.3403833 , 148.64643431, 149.27539165,\n",
              "       150.55639243, 148.34340549, 149.5228875 , 151.21414033,\n",
              "       155.82505749, 149.57697485, 152.63554498, 151.56966933,\n",
              "       154.97546759, 154.74206838, 155.54088025, 148.16824699,\n",
              "       152.2749223 , 148.68261035, 147.95245605, 156.13895234,\n",
              "       150.04502421, 154.48316182, 152.50643945, 148.90974839,\n",
              "       155.94858557, 148.39540032, 151.72731595, 149.33976797,\n",
              "       149.6891583 , 149.84212363, 148.44785117, 154.29205123,\n",
              "       148.55675232, 151.24067312, 149.84238746, 148.80098304,\n",
              "       148.45137145, 152.96769514, 156.12462303, 149.47868645,\n",
              "       151.84430906, 148.26853624, 147.74709466, 148.53339443,\n",
              "       150.67929555, 150.21539357, 147.85857339, 152.38279699,\n",
              "       151.14872069, 150.50052406, 150.83645385, 151.72179885,\n",
              "       155.47993012, 149.32199445, 147.57947511, 153.08004559,\n",
              "       154.15597622, 152.54651289, 151.49755144, 154.41037184,\n",
              "       150.00332191, 148.76239555, 147.57692374, 155.97350273,\n",
              "       154.19323509, 155.75813903, 147.54755289, 149.46596579,\n",
              "       149.0413305 , 147.48341573, 149.98601331, 150.73681914,\n",
              "       148.70392783, 151.32378641, 149.46354482, 155.66413141,\n",
              "       151.03655993, 149.28855442, 149.66806729, 147.60342332,\n",
              "       149.46260951, 149.27249751, 155.62007915, 153.31771715,\n",
              "       154.37652783, 151.91019343, 148.2892995 , 151.96232695,\n",
              "       151.64648649, 151.10432824, 152.20486912, 151.59716713,\n",
              "       150.72238905, 153.23014117, 149.73623611, 149.78465797])"
            ]
          },
          "metadata": {},
          "execution_count": 41
        }
      ]
    },
    {
      "cell_type": "code",
      "source": [
        "coef_angulares"
      ],
      "metadata": {
        "colab": {
          "base_uri": "https://localhost:8080/"
        },
        "id": "7MWoBVFcBp1m",
        "outputId": "2bdbabfb-5394-4c7d-8640-89828e150b59"
      },
      "execution_count": null,
      "outputs": [
        {
          "output_type": "execute_result",
          "data": {
            "text/plain": [
              "array([0.1184164 , 0.24809693, 0.19692731, 0.351392  , 0.49604402,\n",
              "       0.15223522, 0.16943567, 0.20332562, 0.26735959, 0.15240756,\n",
              "       0.21618005, 0.29812244, 0.48680173, 0.21895595, 0.36072077,\n",
              "       0.31424516, 0.45481055, 0.4458393 , 0.47621313, 0.14233326,\n",
              "       0.34528893, 0.17143632, 0.12967082, 0.4983731 , 0.24250959,\n",
              "       0.4357898 , 0.35522857, 0.18384955, 0.49137078, 0.15536455,\n",
              "       0.32128924, 0.20669375, 0.22467672, 0.23239934, 0.15833237,\n",
              "       0.42830367, 0.16444698, 0.29933735, 0.23241258, 0.17793691,\n",
              "       0.15853103, 0.3746904 , 0.49784764, 0.21390283, 0.32647677,\n",
              "       0.14812302, 0.11734518, 0.16314078, 0.27320572, 0.25088617,\n",
              "       0.12407055, 0.34993499, 0.29511866, 0.26468645, 0.28061394,\n",
              "       0.32104378, 0.47392775, 0.20576561, 0.10707173, 0.37936507,\n",
              "       0.42293711, 0.35693713, 0.31100163, 0.43294542, 0.24044373,\n",
              "       0.17582545, 0.10691381, 0.49228998, 0.42440958, 0.48431811,\n",
              "       0.10509242, 0.213246  , 0.19092789, 0.10109288, 0.23958448,\n",
              "       0.27592595, 0.17261215, 0.30313062, 0.21312092, 0.48081896,\n",
              "       0.28994095, 0.20401572, 0.22360493, 0.10855175, 0.21307259,\n",
              "       0.20317379, 0.47917513, 0.3891729 , 0.43162002, 0.32938342,\n",
              "       0.14931443, 0.33167601, 0.3176854 , 0.29307359, 0.34225781,\n",
              "       0.31547837, 0.27524451, 0.38557161, 0.22706294, 0.22950848])"
            ]
          },
          "metadata": {},
          "execution_count": 42
        }
      ]
    },
    {
      "cell_type": "markdown",
      "source": [
        "##Salvando os Resultados\n",
        "\n",
        "A função `np.column_stack()` une dois ou mais arrays, lado a lado, como colunas, em uma matriz"
      ],
      "metadata": {
        "id": "M8wfmeZNB3Hz"
      }
    },
    {
      "cell_type": "code",
      "source": [
        "dados = np.column_stack([norma, coef_angulares])"
      ],
      "metadata": {
        "id": "_Vd03VAPBvFx"
      },
      "execution_count": null,
      "outputs": []
    },
    {
      "cell_type": "code",
      "source": [
        "dados.shape"
      ],
      "metadata": {
        "colab": {
          "base_uri": "https://localhost:8080/"
        },
        "id": "vd3qgukGCaHq",
        "outputId": "6e436886-9555-4c6f-e9de-1bcc2cbf4af5"
      },
      "execution_count": null,
      "outputs": [
        {
          "output_type": "execute_result",
          "data": {
            "text/plain": [
              "(100, 2)"
            ]
          },
          "metadata": {},
          "execution_count": 44
        }
      ]
    },
    {
      "cell_type": "markdown",
      "source": [
        "A função `savetxt()` salva um array em um arquivo de texto"
      ],
      "metadata": {
        "id": "Yyv4S44wCjEX"
      }
    },
    {
      "cell_type": "code",
      "source": [
        "np.savetxt('dados.csv', dados, delimiter=',')"
      ],
      "metadata": {
        "id": "EdFINA2RCb_W"
      },
      "execution_count": null,
      "outputs": []
    },
    {
      "cell_type": "markdown",
      "source": [
        "O arquivo aparece na seção arquivos do colab para poder baixar"
      ],
      "metadata": {
        "id": "s6O1uDV2DEtd"
      }
    }
  ]
}