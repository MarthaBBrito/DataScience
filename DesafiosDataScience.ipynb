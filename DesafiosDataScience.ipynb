{
  "nbformat": 4,
  "nbformat_minor": 0,
  "metadata": {
    "colab": {
      "provenance": [],
      "authorship_tag": "ABX9TyMp5PA7Y0BT277c+AigGAQn",
      "include_colab_link": true
    },
    "kernelspec": {
      "name": "python3",
      "display_name": "Python 3"
    },
    "language_info": {
      "name": "python"
    }
  },
  "cells": [
    {
      "cell_type": "markdown",
      "metadata": {
        "id": "view-in-github",
        "colab_type": "text"
      },
      "source": [
        "<a href=\"https://colab.research.google.com/github/MarthaBBrito/DataScience/blob/main/DesafiosDataScience.ipynb\" target=\"_parent\"><img src=\"https://colab.research.google.com/assets/colab-badge.svg\" alt=\"Open In Colab\"/></a>"
      ]
    },
    {
      "cell_type": "markdown",
      "source": [
        "# Desafio 1\n",
        "##**Começando com Python**\n",
        "Utilizando a função `print()`"
      ],
      "metadata": {
        "id": "OH1oDOqW2YRt"
      }
    },
    {
      "cell_type": "code",
      "execution_count": null,
      "metadata": {
        "colab": {
          "base_uri": "https://localhost:8080/"
        },
        "id": "gJZ4iV0-g_fV",
        "outputId": "500840a7-42a8-46db-febb-80ee8b745da5"
      },
      "outputs": [
        {
          "output_type": "stream",
          "name": "stdout",
          "text": [
            "Escola de Dados da Alura!\n"
          ]
        }
      ],
      "source": [
        "print('Escola de Dados da Alura!')"
      ]
    },
    {
      "cell_type": "code",
      "source": [
        "nome = 'Martha'\n",
        "sobrenome = 'Barbosa'\n",
        "print(nome)\n",
        "print(sobrenome)"
      ],
      "metadata": {
        "colab": {
          "base_uri": "https://localhost:8080/"
        },
        "id": "hLPBbrAShMRo",
        "outputId": "9073d95a-cf8c-4740-b1c0-5573cade8402"
      },
      "execution_count": null,
      "outputs": [
        {
          "output_type": "stream",
          "name": "stdout",
          "text": [
            "Martha\n",
            "Barbosa\n"
          ]
        }
      ]
    },
    {
      "cell_type": "code",
      "source": [
        "print(nome[0])\n",
        "print(nome[1])\n",
        "print(nome[2])\n",
        "print(nome[3])\n",
        "print(nome[4])\n",
        "print(nome[5])"
      ],
      "metadata": {
        "colab": {
          "base_uri": "https://localhost:8080/"
        },
        "id": "6XbG7F-Yho1_",
        "outputId": "0009ef1c-e02e-4559-e5fe-1259102be04b"
      },
      "execution_count": null,
      "outputs": [
        {
          "output_type": "stream",
          "name": "stdout",
          "text": [
            "M\n",
            "a\n",
            "r\n",
            "t\n",
            "h\n",
            "a\n"
          ]
        }
      ]
    },
    {
      "cell_type": "code",
      "source": [
        "dia = 8\n",
        "mes = 'junho'\n",
        "ano = 2001\n",
        "anoAtual = 2023\n",
        "print('Meu aniversário é no dia', dia, 'de', mes)"
      ],
      "metadata": {
        "colab": {
          "base_uri": "https://localhost:8080/"
        },
        "id": "Tgh5ar6kiKgG",
        "outputId": "e340d72f-afae-4676-ab2a-512e35325f41"
      },
      "execution_count": null,
      "outputs": [
        {
          "output_type": "stream",
          "name": "stdout",
          "text": [
            "Meu aniversário é no dia 8 de junho\n"
          ]
        }
      ]
    },
    {
      "cell_type": "code",
      "source": [
        "print('Eu nasci em', ano)"
      ],
      "metadata": {
        "colab": {
          "base_uri": "https://localhost:8080/"
        },
        "id": "L2W1ngdcigF8",
        "outputId": "6c6c1d29-ad4b-4373-efbd-8c59797e7df0"
      },
      "execution_count": null,
      "outputs": [
        {
          "output_type": "stream",
          "name": "stdout",
          "text": [
            "Eu nasci em 2001\n"
          ]
        }
      ]
    },
    {
      "cell_type": "code",
      "source": [
        "print('Eu nasci no dia', dia, 'de junho de', ano)"
      ],
      "metadata": {
        "colab": {
          "base_uri": "https://localhost:8080/"
        },
        "id": "CcSvgXtyiuDS",
        "outputId": "0e029731-3f08-4031-e317-231556a21787"
      },
      "execution_count": null,
      "outputs": [
        {
          "output_type": "stream",
          "name": "stdout",
          "text": [
            "Eu nasci no dia 8 de junho de 2001\n"
          ]
        }
      ]
    },
    {
      "cell_type": "code",
      "source": [
        "print('Ano atual:', anoAtual)"
      ],
      "metadata": {
        "colab": {
          "base_uri": "https://localhost:8080/"
        },
        "id": "Vcha2GOKjAfW",
        "outputId": "f03e8060-200e-4d8b-e09a-a2979f0dd4a8"
      },
      "execution_count": null,
      "outputs": [
        {
          "output_type": "stream",
          "name": "stdout",
          "text": [
            "Ano atual: 2023\n"
          ]
        }
      ]
    },
    {
      "cell_type": "markdown",
      "source": [
        "# Desafio 2\n",
        "##**Manipulando Dados no Python**\n",
        "Utilizando a função `input()`"
      ],
      "metadata": {
        "id": "0hDFJmSO2vQL"
      }
    },
    {
      "cell_type": "markdown",
      "source": [
        "##Coleta e amostragem de dados"
      ],
      "metadata": {
        "id": "4E2GgIZh7y7s"
      }
    },
    {
      "cell_type": "code",
      "source": [
        "nome = input('Digite seu nome: ')\n",
        "idade = int(input('Digite sua idade:'))\n",
        "altura = float(input('Digite sua altura em metros: '))\n",
        "print(f'Olá, {nome}! Você tem {idade} anos e tem {altura} metros de altura')"
      ],
      "metadata": {
        "colab": {
          "base_uri": "https://localhost:8080/"
        },
        "id": "AgO_UyOw25mm",
        "outputId": "9a3dad67-bb7e-4b96-a4b5-469c970c6db6"
      },
      "execution_count": null,
      "outputs": [
        {
          "output_type": "stream",
          "name": "stdout",
          "text": [
            "Digite seu nome: Martha\n",
            "Digite sua idade:22\n",
            "Digite sua altura em metros: 1.74\n",
            "Olá, Martha! Você tem 22 anos e tem 1.74 metros de altura\n"
          ]
        }
      ]
    },
    {
      "cell_type": "markdown",
      "source": [
        "##Calculadora com operadores"
      ],
      "metadata": {
        "id": "t5he5RKf8Aap"
      }
    },
    {
      "cell_type": "code",
      "source": [
        "print('Vamos fazer uma soma de dois números!')\n",
        "n1 = int(input('Digite um número inteiro: '))\n",
        "n2 = int(input('Digite outro número inteiro: '))\n",
        "soma = n1 + n2\n",
        "print(f'A soma de {n1} e {n2} é igual a {soma}')"
      ],
      "metadata": {
        "colab": {
          "base_uri": "https://localhost:8080/"
        },
        "id": "4yUbOVks4w9_",
        "outputId": "bf0502f0-6bd6-4b2f-beee-1b0e491ca480"
      },
      "execution_count": null,
      "outputs": [
        {
          "output_type": "stream",
          "name": "stdout",
          "text": [
            "Vamos fazer uma soma de dois números!\n",
            "Digite um número inteiro: 2\n",
            "Digite outro número inteiro: 3\n",
            "A soma de 2 e 3 é igual a 5\n"
          ]
        }
      ]
    },
    {
      "cell_type": "code",
      "source": [
        "print('Vamos fazer uma soma de três números!')\n",
        "n1 = int(input('Digite um número inteiro: '))\n",
        "n2 = int(input('Digite outro número inteiro: '))\n",
        "n3 = int(input('Digite outro número inteiro: '))\n",
        "soma = n1 + n2 + n3\n",
        "print(f'A soma de {n1}, {n2} e {n3} é igual a {soma}')"
      ],
      "metadata": {
        "colab": {
          "base_uri": "https://localhost:8080/"
        },
        "id": "UpYa7NvM60CL",
        "outputId": "ad0a767d-7b12-4fd0-c85a-bee81d61b903"
      },
      "execution_count": null,
      "outputs": [
        {
          "output_type": "stream",
          "name": "stdout",
          "text": [
            "Vamos fazer uma soma de três números!\n",
            "Digite um número inteiro: 2\n",
            "Digite outro número inteiro: 3\n",
            "Digite outro número inteiro: 6\n",
            "A soma de 2, 3 e 6 é igual a 11\n"
          ]
        }
      ]
    },
    {
      "cell_type": "code",
      "source": [
        "print('Vamos fazer uma subtração!')\n",
        "n1 = int(input('Digite um número inteiro: '))\n",
        "n2 = int(input('Digite outro número inteiro: '))\n",
        "diferenca = n1 - n2\n",
        "print(f'A subtração de {n1} e {n2} é igual a {diferenca}')"
      ],
      "metadata": {
        "colab": {
          "base_uri": "https://localhost:8080/"
        },
        "id": "hv9rS_e77WOd",
        "outputId": "dc5c6726-e390-48c9-9951-ec07e760e126"
      },
      "execution_count": null,
      "outputs": [
        {
          "output_type": "stream",
          "name": "stdout",
          "text": [
            "Vamos fazer uma subtração!\n",
            "Digite um número inteiro: 2\n",
            "Digite outro número inteiro: 3\n",
            "A subtração de 2 e 3 é igual a -1\n"
          ]
        }
      ]
    },
    {
      "cell_type": "code",
      "source": [
        "print('Vamos fazer uma multiplicação!')\n",
        "n1 = float(input('Digite um número: '))\n",
        "n2 = float(input('Digite outro número: '))\n",
        "multiplicacao = n1 * n2\n",
        "print(f'A multiplicação de {n1} e {n2} é igual a {multiplicacao}')"
      ],
      "metadata": {
        "colab": {
          "base_uri": "https://localhost:8080/"
        },
        "id": "4M1rztVp8S3s",
        "outputId": "1293d894-c801-40d4-d8dd-554389cbc0de"
      },
      "execution_count": null,
      "outputs": [
        {
          "output_type": "stream",
          "name": "stdout",
          "text": [
            "Vamos fazer uma multiplicação!\n",
            "Digite um número: 6.5\n",
            "Digite outro número: 7\n",
            "A multiplicação de 6.5 e 7.0 é igual a 45.5\n"
          ]
        }
      ]
    },
    {
      "cell_type": "code",
      "source": [
        "print('Vamos fazer uma divisão!')\n",
        "n1 = float(input('Digite um número para o numerador: '))\n",
        "n2 = float(input('Digite um número para o denominador, que não seja 0: '))\n",
        "divisao = n1 / n2\n",
        "print(f'A divisão de {n1} por {n2} é igual a {divisao}')"
      ],
      "metadata": {
        "colab": {
          "base_uri": "https://localhost:8080/"
        },
        "id": "jCAxsTNN840e",
        "outputId": "b6de53cd-9cb5-4ac7-97e8-6a3096cf7700"
      },
      "execution_count": null,
      "outputs": [
        {
          "output_type": "stream",
          "name": "stdout",
          "text": [
            "Vamos fazer uma divisão!\n",
            "Digite um número para o numerador: 16.5\n",
            "Digite um número para o denominador, que não seja 0: 14.2\n",
            "A divisão de 16.5 por 14.2 é igual a 1.1619718309859155\n"
          ]
        }
      ]
    },
    {
      "cell_type": "code",
      "source": [
        "print('Vamos fazer uma exponenciação!')\n",
        "n1 = int(input('Digite um número inteiro para a base: '))\n",
        "n2 = int(input('Digite outro número inteiro para a potência: '))\n",
        "potencia = n1 ** n2\n",
        "print(f'O resultado da potência de {n1} elevado a {n2} é igual a {potencia}')"
      ],
      "metadata": {
        "colab": {
          "base_uri": "https://localhost:8080/"
        },
        "id": "qs48B-Go9laZ",
        "outputId": "37c2812d-96e9-441b-8771-8ea9d7309e72"
      },
      "execution_count": null,
      "outputs": [
        {
          "output_type": "stream",
          "name": "stdout",
          "text": [
            "Vamos fazer uma exponenciação!\n",
            "Digite um número inteiro para a base: 10\n",
            "Digite outro número inteiro para a potência: 6\n",
            "O resultado da potência de 10 elevado a 6 é igual a 1000000\n"
          ]
        }
      ]
    },
    {
      "cell_type": "code",
      "source": [
        "print('Vamos fazer uma divisão inteira!')\n",
        "n1 = int(input('Digite um número inteiro para o numerador: '))\n",
        "n2 = int(input('Digite um número inteiro para o denominador, que não seja 0: '))\n",
        "divisao = n1 / n2\n",
        "print(f'A divisão de {n1} por {n2} é igual a {divisao}')"
      ],
      "metadata": {
        "colab": {
          "base_uri": "https://localhost:8080/"
        },
        "id": "fAAX9LLQ_4wy",
        "outputId": "b47cb17a-c151-4ffc-8c0a-f47627cc8be3"
      },
      "execution_count": null,
      "outputs": [
        {
          "output_type": "stream",
          "name": "stdout",
          "text": [
            "Vamos fazer uma divisão inteira!\n",
            "Digite um número inteiro para o numerador: 45\n",
            "Digite um número inteiro para o denominador, que não seja 0: 9\n",
            "A divisão de 45 por 9 é igual a 5.0\n"
          ]
        }
      ]
    },
    {
      "cell_type": "code",
      "source": [
        "print('Vamos achar o resto de uma divisão!')\n",
        "n1 = float(input('Digite um número para o numerador: '))\n",
        "n2 = float(input('Digite um número para o denominador, que não seja 0: '))\n",
        "resto = n1 % n2\n",
        "print(f'O resto da divisão de {n1} por {n2} é igual a {resto}')"
      ],
      "metadata": {
        "colab": {
          "base_uri": "https://localhost:8080/"
        },
        "id": "9SvA6M-4EGW1",
        "outputId": "6a8ac650-3e19-4947-ab0e-510e7d500b59"
      },
      "execution_count": null,
      "outputs": [
        {
          "output_type": "stream",
          "name": "stdout",
          "text": [
            "Vamos achar o resto de uma divisão!\n",
            "Digite um número para o numerador: 62\n",
            "Digite um número para o denominador, que não seja 0: 5\n",
            "O resto da divisão de 62.0 por 5.0 é igual a 2.0\n"
          ]
        }
      ]
    },
    {
      "cell_type": "code",
      "source": [
        "print('Vamos calcular a média de um aluno!')\n",
        "nota1 = float(input('Digite a primeira nota: '))\n",
        "nota2 = float(input('Digite a segunda nota: '))\n",
        "nota3 = float(input('Digite a terceira nota: '))\n",
        "media = (nota1 + nota2 + nota3)/3\n",
        "print(f'A média desse aluno é {media}')"
      ],
      "metadata": {
        "colab": {
          "base_uri": "https://localhost:8080/"
        },
        "id": "mgHdQZABLfiW",
        "outputId": "0bced11d-6091-49a1-f028-eec2d62d838b"
      },
      "execution_count": null,
      "outputs": [
        {
          "output_type": "stream",
          "name": "stdout",
          "text": [
            "Vamos calcular a média de um aluno!\n",
            "Digite a primeira nota: 5.5\n",
            "Digite a segunda nota: 6.4\n",
            "Digite a terceira nota: 8\n",
            "A média desse aluno é 6.633333333333333\n"
          ]
        }
      ]
    },
    {
      "cell_type": "code",
      "source": [
        "num1 = 5\n",
        "num2 = 12\n",
        "num3 = 20\n",
        "num4 = 15\n",
        "mediapond = (num1 + 2*num2 + 3*num3 + 4*num4) / (1+2+3+4)\n",
        "print(f'A média ponderada é {mediapond}')"
      ],
      "metadata": {
        "colab": {
          "base_uri": "https://localhost:8080/"
        },
        "id": "JIjjmrDFMw7Z",
        "outputId": "5525ec5b-dad1-479f-d800-55f13efec9f1"
      },
      "execution_count": null,
      "outputs": [
        {
          "output_type": "stream",
          "name": "stdout",
          "text": [
            "A média ponderada é 14.9\n"
          ]
        }
      ]
    },
    {
      "cell_type": "markdown",
      "source": [
        "##Editando textos"
      ],
      "metadata": {
        "id": "i4EV85Q-PUob"
      }
    },
    {
      "cell_type": "code",
      "source": [
        "frase = 'we live, we love, we lie'\n",
        "print(f'Ele disse que estava indo ali e começou a tocar {frase}')"
      ],
      "metadata": {
        "colab": {
          "base_uri": "https://localhost:8080/"
        },
        "id": "uRVEp2afOmJZ",
        "outputId": "73173a89-293c-45d2-ca9d-064a68cf5f55"
      },
      "execution_count": null,
      "outputs": [
        {
          "output_type": "stream",
          "name": "stdout",
          "text": [
            "Ele disse que estava indo ali e começou a tocar we live, we love, we lie\n"
          ]
        }
      ]
    },
    {
      "cell_type": "code",
      "source": [
        "fraseInput = str(input('Digite uma frase que te defina: '))\n",
        "print(f'Uau, é realmente inspirador! \\n{fraseInput}')"
      ],
      "metadata": {
        "colab": {
          "base_uri": "https://localhost:8080/"
        },
        "id": "VZgRaqVD9LHe",
        "outputId": "98cc5c67-e3ab-4021-c008-3f7d13a63e8a"
      },
      "execution_count": null,
      "outputs": [
        {
          "output_type": "stream",
          "name": "stdout",
          "text": [
            "Digite uma frase que te defina: we live, we love, we lie\n",
            "Uau, é realmente inspirador! \n",
            "we live, we love, we lie\n"
          ]
        }
      ]
    },
    {
      "cell_type": "code",
      "source": [
        "fraseUp = str(input('Digite uma frase que te defina: '))\n",
        "fraseUp = fraseUp.upper()\n",
        "print(f'Uau, é realmente inspirador! \\n{fraseUp}')"
      ],
      "metadata": {
        "colab": {
          "base_uri": "https://localhost:8080/"
        },
        "id": "_WPvM2a_-zrO",
        "outputId": "6c303b5e-61ed-45b6-ddea-0a5030abf757"
      },
      "execution_count": null,
      "outputs": [
        {
          "output_type": "stream",
          "name": "stdout",
          "text": [
            "Digite uma frase que te defina: o gato miou\n",
            "Uau, é realmente inspirador! \n",
            "O GATO MIOU\n"
          ]
        }
      ]
    },
    {
      "cell_type": "code",
      "source": [
        "fraseLow = str(input('Digite uma frase que te defina: '))\n",
        "fraseLow = fraseLow.lower()\n",
        "print(f'Uau, é realmente inspirador! \\n{fraseLow}')"
      ],
      "metadata": {
        "colab": {
          "base_uri": "https://localhost:8080/"
        },
        "id": "Cw38Lr2hBpTy",
        "outputId": "1da7916e-3343-4bfa-cdbe-ff3ee62334e9"
      },
      "execution_count": null,
      "outputs": [
        {
          "output_type": "stream",
          "name": "stdout",
          "text": [
            "Digite uma frase que te defina: QUERO CAGAR\n",
            "Uau, é realmente inspirador! \n",
            "quero cagar\n"
          ]
        }
      ]
    },
    {
      "cell_type": "code",
      "source": [
        "sentence = '  that makes me crazy?  '\n",
        "print(sentence.strip())"
      ],
      "metadata": {
        "colab": {
          "base_uri": "https://localhost:8080/"
        },
        "id": "VxqFjkszDSHK",
        "outputId": "476eae27-5da8-4b6f-9a2b-5ec05f4941ff"
      },
      "execution_count": null,
      "outputs": [
        {
          "output_type": "stream",
          "name": "stdout",
          "text": [
            "that makes me crazy?\n"
          ]
        }
      ]
    },
    {
      "cell_type": "code",
      "source": [
        "sentenceTwo = input('Digite uma frase inspiradora: ')\n",
        "print(sentenceTwo.strip())"
      ],
      "metadata": {
        "colab": {
          "base_uri": "https://localhost:8080/"
        },
        "id": "FCHXULhUENJV",
        "outputId": "3a7a4047-1442-474a-dbd9-16610d7de50f"
      },
      "execution_count": null,
      "outputs": [
        {
          "output_type": "stream",
          "name": "stdout",
          "text": [
            "Digite uma frase inspiradora:     Pretty Girl   \n",
            "Pretty Girl\n"
          ]
        }
      ]
    },
    {
      "cell_type": "code",
      "source": [
        "sentenceThree = input('Digite uma frase inspiradora: ')\n",
        "print(sentenceThree.lower().strip())"
      ],
      "metadata": {
        "colab": {
          "base_uri": "https://localhost:8080/"
        },
        "id": "s69xk7oZHogS",
        "outputId": "25b005e2-a86d-400d-e75d-bb7f92349a0b"
      },
      "execution_count": null,
      "outputs": [
        {
          "output_type": "stream",
          "name": "stdout",
          "text": [
            "Digite uma frase inspiradora:    SATURDAY DAYS   \n",
            "saturday days\n"
          ]
        }
      ]
    },
    {
      "cell_type": "code",
      "source": [
        "change = input('Vamos brincar! Digite uma frase: ')\n",
        "print(change.replace('e','f'))"
      ],
      "metadata": {
        "colab": {
          "base_uri": "https://localhost:8080/"
        },
        "id": "oGfZpVjLIKyg",
        "outputId": "7a6c5027-ab74-45cc-8e7c-8ded8ab873d4"
      },
      "execution_count": null,
      "outputs": [
        {
          "output_type": "stream",
          "name": "stdout",
          "text": [
            "Vamos brincar! Digite uma frase: eu sou legal\n",
            "fu sou lfgal\n"
          ]
        }
      ]
    },
    {
      "cell_type": "code",
      "source": [
        "changeTwo = input('Vamos brincar! Digite uma frase: ')\n",
        "print(changeTwo.replace('a','@'))"
      ],
      "metadata": {
        "colab": {
          "base_uri": "https://localhost:8080/"
        },
        "id": "-z78o687JABf",
        "outputId": "a90309f6-ab99-486e-f44a-7ee4aa8e15b3"
      },
      "execution_count": null,
      "outputs": [
        {
          "output_type": "stream",
          "name": "stdout",
          "text": [
            "Vamos brincar! Digite uma frase: agora me falta sonhar\n",
            "@gor@ me f@lt@ sonh@r\n"
          ]
        }
      ]
    },
    {
      "cell_type": "code",
      "source": [
        "changeThree = input('Vamos brincar! Digite uma frase: ')\n",
        "print(changeThree.replace('s','$'))"
      ],
      "metadata": {
        "colab": {
          "base_uri": "https://localhost:8080/"
        },
        "id": "YzJPgSBLJY3R",
        "outputId": "a9ae3094-4b01-424e-9de7-514576648eb5"
      },
      "execution_count": null,
      "outputs": [
        {
          "output_type": "stream",
          "name": "stdout",
          "text": [
            "Vamos brincar! Digite uma frase: sad station store\n",
            "$ad $tation $tore\n"
          ]
        }
      ]
    },
    {
      "cell_type": "markdown",
      "source": [
        "#Desafio 3\n",
        "##**Estruturas Condicionais**\n",
        "\n",
        "##Aquecendo na programação"
      ],
      "metadata": {
        "id": "cqFZ5e2SusR4"
      }
    },
    {
      "cell_type": "code",
      "source": [
        "print('Vamos comparar os números!')\n",
        "num = float(input('Escreva um número: '))\n",
        "num_2 = float(input('Escreva outro número: '))\n",
        "\n",
        "if num > num_2:\n",
        "  print(f'{num} é maior que {num_2}')\n",
        "elif num == num_2:\n",
        "  print(f'{num} e {num_2} são iguais!')\n",
        "elif num < num_2:\n",
        "  print(f'{num} é menor que {num_2}')\n"
      ],
      "metadata": {
        "id": "YsKbMvtQJq43",
        "colab": {
          "base_uri": "https://localhost:8080/"
        },
        "outputId": "dc37c71b-9655-42c2-9bfc-8c46a1c8a08b"
      },
      "execution_count": null,
      "outputs": [
        {
          "output_type": "stream",
          "name": "stdout",
          "text": [
            "Vamos comparar os números!\n",
            "Escreva um número: 6\n",
            "Escreva outro número: 5\n",
            "6.0 é maior que 5.0\n"
          ]
        }
      ]
    },
    {
      "cell_type": "code",
      "source": [
        "print('Vamos comparar o índice de crescimento de uma empresa!')\n",
        "percent = float(input('Informe o percentual de crescimento: '))\n",
        "\n",
        "if percent > 0 :\n",
        "  print(f'Houve um crescimento de {percent}%')\n",
        "elif percent < 0 :\n",
        "  print(f'Houve um decrescimento de {percent}%')\n",
        "else:\n",
        "  print(f'Não houve variação')"
      ],
      "metadata": {
        "colab": {
          "base_uri": "https://localhost:8080/"
        },
        "id": "hZwqowdJwd_r",
        "outputId": "0ee3a253-332d-459c-a529-ed6c4d444a0a"
      },
      "execution_count": null,
      "outputs": [
        {
          "output_type": "stream",
          "name": "stdout",
          "text": [
            "Vamos comparar o índice de crescimento de uma empresa!\n",
            "Informe o percentual de crescimento: -16\n",
            "Houve um decrescimento de -16.0%\n"
          ]
        }
      ]
    },
    {
      "cell_type": "code",
      "source": [
        "print('Vogal ou consoante?')\n",
        "vogal = 'aeiou'\n",
        "letra = input('Forneça UMA letra: ').lower()\n",
        "\n",
        "if letra in vogal:\n",
        "  print(f'{letra} é uma vogal!')\n",
        "else:\n",
        "  print(f'{letra} é uma consoante!')"
      ],
      "metadata": {
        "colab": {
          "base_uri": "https://localhost:8080/"
        },
        "id": "y4Jy8K74yMv0",
        "outputId": "d986c1b1-56d1-482b-91b5-7a2242cf4c05"
      },
      "execution_count": null,
      "outputs": [
        {
          "output_type": "stream",
          "name": "stdout",
          "text": [
            "Vogal ou consoante?\n",
            "Forneça UMA letra: b\n",
            "b é uma consoante!\n"
          ]
        }
      ]
    },
    {
      "cell_type": "code",
      "source": [
        "print('Média de preço de um carro')\n",
        "precoano1 = float(input('Forneça o valor do carro no primeiro ano: '))\n",
        "precoano2 = float(input('Forneça o valor do carro no segundo ano: '))\n",
        "precoano3 = float(input('Forneça o valor do carro no terceiro ano: '))\n",
        "\n",
        "maior = precoano1\n",
        "if precoano2 > maior:\n",
        "  maior = precoano2\n",
        "elif precoano3 > maior:\n",
        "  maior = precoano3\n",
        "\n",
        "menor = precoano1\n",
        "if precoano2 < menor:\n",
        "  menor = precoano2\n",
        "elif precoano3 < menor:\n",
        "  menor = precoano3\n",
        "\n",
        "print(f'O maior preço foi de R$ {maior}')\n",
        "print(f'O menor preço foi de R$ {menor}')"
      ],
      "metadata": {
        "colab": {
          "base_uri": "https://localhost:8080/"
        },
        "id": "BhboKH-GzrUL",
        "outputId": "14b746e8-1b1e-4142-eb34-590e5e5fa421"
      },
      "execution_count": null,
      "outputs": [
        {
          "output_type": "stream",
          "name": "stdout",
          "text": [
            "Média de preço de um carro\n",
            "Forneça o valor do carro no primeiro ano: 14000\n",
            "Forneça o valor do carro no segundo ano: 13000\n",
            "Forneça o valor do carro no terceiro ano: 16500\n",
            "O maior preço foi de R$ 16500.0\n",
            "O menor preço foi de R$ 13000.0\n"
          ]
        }
      ]
    },
    {
      "cell_type": "code",
      "source": [
        "print('Qual é o produto mais barato?')\n",
        "produto_1 = float(input('Informe o preço do primeiro produto: '))\n",
        "produto_2 = float(input('Informe o preço do segundo produto: '))\n",
        "produto_3 = float(input('Informe o preço do terceiro produto: '))\n",
        "\n",
        "menorP = produto_1\n",
        "if produto_2 < menorP:\n",
        "  menorP = produto_2\n",
        "elif produto_3 < menorP:\n",
        "  menorP = produto_3\n",
        "\n",
        "print(f'O produto mais barato custa R${menorP}')"
      ],
      "metadata": {
        "colab": {
          "base_uri": "https://localhost:8080/"
        },
        "id": "ewpWYGYP3sN7",
        "outputId": "9cb70132-570d-40d5-eae3-755ee7ea15db"
      },
      "execution_count": null,
      "outputs": [
        {
          "output_type": "stream",
          "name": "stdout",
          "text": [
            "Qual é o produto mais barato?\n",
            "Informe o preço do primeiro produto: 8.90\n",
            "Informe o preço do segundo produto: 7.50\n",
            "Informe o preço do terceiro produto: 9\n",
            "O produto mais barato custa R$7.5\n"
          ]
        }
      ]
    },
    {
      "cell_type": "code",
      "source": [
        "print('Ordem decrescente dos números!')\n",
        "numero1 = int(input('Digite um número inteiro: '))\n",
        "numero2 = int(input('Digite um outro número inteiro: '))\n",
        "numero3 = int(input('Digite um outro número inteiro: '))\n",
        "\n",
        "if (numero1 >= numero2) and (numero1 >= numero3):\n",
        "  print(numero1)\n",
        "  if numero2 >= numero3:\n",
        "    print(numero2)\n",
        "    print(numero3)\n",
        "  else:\n",
        "    print(numero3)\n",
        "    print(numero2)\n",
        "elif (numero2 >= numero1) and (numero2 >= numero3):\n",
        "  print(numero2)\n",
        "  if numero1 >= numero3:\n",
        "    print(numero1)\n",
        "    print(numero3)\n",
        "  else:\n",
        "    print(numero3)\n",
        "    print(numero1)\n",
        "else:\n",
        "  print(numero3)\n",
        "  if numero1 >= numero2:\n",
        "    print(numero1)\n",
        "    print(numero2)\n",
        "  else:\n",
        "    print(numero2)\n",
        "    print(numero1)\n",
        "\n"
      ],
      "metadata": {
        "id": "JeveIR3o8Xe8",
        "colab": {
          "base_uri": "https://localhost:8080/"
        },
        "outputId": "a44d5d30-171e-4d3a-8118-5ba3ed1cbb70"
      },
      "execution_count": null,
      "outputs": [
        {
          "output_type": "stream",
          "name": "stdout",
          "text": [
            "Ordem decrescente dos números!\n",
            "Digite um número inteiro: 4\n",
            "Digite um outro número inteiro: 2\n",
            "Digite um outro número inteiro: 8\n",
            "8\n",
            "4\n",
            "2\n"
          ]
        }
      ]
    },
    {
      "cell_type": "code",
      "source": [
        "turno = input('Em qual turno você estuda: ').lower()\n",
        "\n",
        "if turno == 'manhã':\n",
        "  print('Bom dia!')\n",
        "elif turno == 'tarde':\n",
        "  print('Boa tarde!')\n",
        "elif turno == 'noite':\n",
        "  print('Boa noite!')\n",
        "else:\n",
        "  print('Valor inválido! Digite manhã, tarde ou noite!')"
      ],
      "metadata": {
        "colab": {
          "base_uri": "https://localhost:8080/"
        },
        "id": "0CEOfV5lomcc",
        "outputId": "a2cd890e-5c15-46df-d853-98b52abef948"
      },
      "execution_count": null,
      "outputs": [
        {
          "output_type": "stream",
          "name": "stdout",
          "text": [
            "Em qual turno você estuda: manhã\n",
            "Bom dia!\n"
          ]
        }
      ]
    },
    {
      "cell_type": "code",
      "source": [
        "print('Par ou ímpar?')\n",
        "num = int(input('Digite um número inteiro: '))\n",
        "\n",
        "if num % 2 == 0:\n",
        "  print('O número é par!')\n",
        "else:\n",
        "  print('O número é ímpar!')"
      ],
      "metadata": {
        "colab": {
          "base_uri": "https://localhost:8080/"
        },
        "id": "QeSA_FAOuLjy",
        "outputId": "618f8af0-b0d3-46da-b060-b9f7a6140fcc"
      },
      "execution_count": null,
      "outputs": [
        {
          "output_type": "stream",
          "name": "stdout",
          "text": [
            "Par ou ímpar?\n",
            "Digite um número inteiro: 17123\n",
            "O número é ímpar!\n"
          ]
        }
      ]
    },
    {
      "cell_type": "code",
      "source": [
        "print('Inteiro ou decimal?')\n",
        "number = float(input('Digite um número: '))\n",
        "\n",
        "if number % 1 == 0:\n",
        "  print(f'{number} é inteiro!')\n",
        "else:\n",
        "  print(f'{number} é decimal!')"
      ],
      "metadata": {
        "colab": {
          "base_uri": "https://localhost:8080/"
        },
        "id": "rqJWrQcgxofN",
        "outputId": "427bdcc7-bb2b-4615-b959-510800e93d69"
      },
      "execution_count": null,
      "outputs": [
        {
          "output_type": "stream",
          "name": "stdout",
          "text": [
            "Inteiro ou decimal?\n",
            "Digite um número: 15.4\n",
            "15.4 é decimal!\n"
          ]
        }
      ]
    },
    {
      "cell_type": "markdown",
      "source": [
        "##Momento do projeto"
      ],
      "metadata": {
        "id": "MrNHeWcQwosb"
      }
    },
    {
      "cell_type": "code",
      "source": [
        "#Calculadora\n",
        "\n",
        "#Entrada de dados\n",
        "num1 = float(input('Digite um número: '))\n",
        "num2 = float(input('Digite outro número: '))\n",
        "operacao = input('Qual operação deseja realizar?(+, -, *, /): ')\n",
        "\n",
        "#Manipulação de Dados\n",
        "if operacao == '+':\n",
        "  resultado = num1 + num2\n",
        "  print(resultado)\n",
        "elif operacao == '-':\n",
        "  resultado = num1 - num2\n",
        "  print(resultado)\n",
        "elif operacao == '*':\n",
        "  resultado = num1 * num2\n",
        "  print(resultado)\n",
        "elif operacao == '/':\n",
        "  resultado = num1 / num2\n",
        "  print(resultado)\n",
        "else:\n",
        "  print('Valor inválido! Digite um valor válido:(+, -, *, /)')\n",
        "  resultado = 0\n",
        "\n",
        "#Definindo se o resultado da operação é inteiro ou decimal, negativo ou positivo\n",
        "#, par ou ímpar\n",
        "if resultado % 1 == 0:\n",
        "  print('O resultado é inteiro!')\n",
        "else:\n",
        "  print('O resultado é decimal!')\n",
        "\n",
        "if resultado < 0:\n",
        "  print('O resultado é negativo!')\n",
        "else:\n",
        "  print('O resultado é positivo!')\n",
        "\n",
        "if resultado % 2 == 0:\n",
        "  print('O resultado é par!')\n",
        "else:\n",
        "  print('O resultado é ímpar!')"
      ],
      "metadata": {
        "colab": {
          "base_uri": "https://localhost:8080/"
        },
        "id": "2ApwwHqvyXr4",
        "outputId": "bf03f1a1-a100-4201-fc16-f71f783ffe2e"
      },
      "execution_count": null,
      "outputs": [
        {
          "output_type": "stream",
          "name": "stdout",
          "text": [
            "Digite um número: 6\n",
            "Digite outro número: 9\n",
            "Qual operação deseja realizar?(+, -, *, /): *\n",
            "54.0\n",
            "O resultado é inteiro!\n",
            "O resultado é positivo!\n",
            "O resultado é par!\n"
          ]
        }
      ]
    },
    {
      "cell_type": "code",
      "source": [
        "lado1 = float(input('Digite um valor: '))\n",
        "lado2 = float(input('Digite um outro valor: '))\n",
        "lado3 = float(input('Digite um outro valor: '))\n",
        "resposta = input('Esses valores podem ser utilizados para formar um triângulo? (sim = +, não = -) ')\n",
        "\n",
        "if resposta == '+':\n",
        "  print('Ok, vamos lá!')\n",
        "  if lado1 == lado2 == lado3:\n",
        "    print(f'O triângulo é equilátero! Todos os lados iguais: {lado1},{lado2},{lado3}')\n",
        "  elif lado1 == lado2 != lado3:\n",
        "    print(f'O triângulo é isóceles! Dois lados iguais e um diferente: {lado1},{lado2},{lado3}')\n",
        "  elif lado1 == lado3 != lado2:\n",
        "    print(f'O triângulo é isóceles! Dois lados iguais e um diferente: {lado1},{lado2},{lado3}')\n",
        "  elif lado2 == lado3 != lado1:\n",
        "    print(f'O triângulo é isóceles! Dois lados iguais e um diferente: {lado1},{lado2},{lado3}')\n",
        "  elif lado1 != lado2 != lado3:\n",
        "    print(f'O triângulo é escaleno! Todos os lados são diferentes: {lado1},{lado2},{lado3}')\n",
        "else:\n",
        "  print(f'Tudo bem. Aqui estão os valores digitados:\\n{lado1}, {lado2}, {lado3}')\n",
        "\n"
      ],
      "metadata": {
        "colab": {
          "base_uri": "https://localhost:8080/"
        },
        "id": "FsYdiDcqzoGu",
        "outputId": "6ba29cb7-8599-4707-b13d-253799e313fd"
      },
      "execution_count": null,
      "outputs": [
        {
          "output_type": "stream",
          "name": "stdout",
          "text": [
            "Digite um valor: 45\n",
            "Digite um outro valor: 55\n",
            "Digite um outro valor: 45\n",
            "Esses valores podem ser utilizados para formar um triângulo? (sim = +, não = -) +\n",
            "Ok, vamos lá!\n",
            "O triângulo é isóceles! Dois lados iguais e um diferente: 45.0,55.0,45.0\n"
          ]
        }
      ]
    },
    {
      "cell_type": "code",
      "source": [
        "print('Coletaremos os lados de um triângulo.')\n",
        "lado1 = float(input('Digite o comprimento do primeiro lado: '))\n",
        "lado2 = float(input('Digite o comprimento do segundo lado: '))\n",
        "lado3 = float(input('Digite o comprimento do terceiro lado: '))\n",
        "\n",
        "if (lado1 + lado2 > lado3) and (lado2 + lado3 > lado1) and (lado1 + lado3 > lado2):\n",
        "    print('Os valores podem formar um triângulo!')\n",
        "\n",
        "    if (lado1 == lado2) and (lado2 == lado3):\n",
        "        print('O triângulo é equilátero.')\n",
        "    elif (lado1 != lado2) and (lado2 != lado3) and (lado1 != lado3):\n",
        "        print('O triângulo é escaleno.')\n",
        "    else:\n",
        "        print('O triângulo é isósceles.')\n",
        "else:\n",
        "    print('Os valores não podem formar um triângulo!')"
      ],
      "metadata": {
        "id": "LXx4H8-889sQ"
      },
      "execution_count": null,
      "outputs": []
    },
    {
      "cell_type": "code",
      "source": [
        "#Vamos calcular o desconto no valor do etanol ou diesel\n",
        "combustivel = input('Digite o tipo de combustível (E(etanol) ou D(diesel): ')\n",
        "quantidade = float(input('Digite a quantidade de litros abastecida: '))\n",
        "\n",
        "if combustivel == 'E':\n",
        "  preco = 1.70 * quantidade\n",
        "  print('Preço sem desconto:')\n",
        "  print(preco)\n",
        "  if 0 < quantidade <= 15:\n",
        "    preco = preco - (preco * 0.02)\n",
        "    print('Preço com desconto:')\n",
        "    print(preco)\n",
        "  else:\n",
        "    preco = preco - (preco * 0.04)\n",
        "    print('Preço com desconto:')\n",
        "    print(preco)\n",
        "\n",
        "if combustivel == 'D':\n",
        "  preco = 2.00 * quantidade\n",
        "  print('Preço sem desconto:')\n",
        "  print(preco)\n",
        "  if 0 < quantidade <= 15:\n",
        "    preco = preco - (preco * 0.03)\n",
        "    print('Preço com desconto:')\n",
        "    print(preco)\n",
        "  else:\n",
        "    preco = preco - (preco * 0.05)\n",
        "    print('Preço com desconto:')\n",
        "    print(preco)\n"
      ],
      "metadata": {
        "colab": {
          "base_uri": "https://localhost:8080/"
        },
        "id": "w9Q3jx5W67Wl",
        "outputId": "47b2088a-0839-4bb7-aead-ec2cb27a038e"
      },
      "execution_count": null,
      "outputs": [
        {
          "output_type": "stream",
          "name": "stdout",
          "text": [
            "Digite o tipo de combustível (E(etanol) ou D(diesel): D\n",
            "Digite a quantidade de litros abastecida: 10\n",
            "Preço sem desconto:\n",
            "20.0\n",
            "Preço com desconto:\n",
            "19.4\n"
          ]
        }
      ]
    },
    {
      "cell_type": "code",
      "source": [
        "#análise de dados da venda de imóveis\n",
        "vendas2022 = float(input('Digite a quantidade de vendas no ano de 2022: '))\n",
        "vendas2023 = float(input('Digite a quantidade de vendas no ano de 2023: '))\n",
        "\n",
        "valor_percentual = ((vendas2023 / vendas2022) - 1) * 100\n",
        "\n",
        "if valor_percentual > 20:\n",
        "  print('Bonificação para o time de vendas!')\n",
        "elif 2 <= valor_percentual <= 20:\n",
        "  print('Pequena bonificação para o time de vendas!')\n",
        "elif -10 <= valor_percentual < 2:\n",
        "  print('Planejamento de políticas de  incentivo de vendas')\n",
        "elif valor_percentual < -10:\n",
        "  print('Corte de gastos')\n",
        "\n"
      ],
      "metadata": {
        "colab": {
          "base_uri": "https://localhost:8080/"
        },
        "id": "Oy0RaxSxAhEH",
        "outputId": "1d14d249-429f-4537-d5cd-727e48b52ae9"
      },
      "execution_count": null,
      "outputs": [
        {
          "output_type": "stream",
          "name": "stdout",
          "text": [
            "Digite a quantidade de vendas no ano de 2022: 40000000\n",
            "Digite a quantidade de vendas no ano de 2023: 67410000\n",
            "Bonificação para o time de vendas!\n"
          ]
        }
      ]
    },
    {
      "cell_type": "markdown",
      "source": [
        "#Desafio 4\n",
        "##**Estruturas de repetição**\n",
        "\n",
        "##Aquecendo na programação"
      ],
      "metadata": {
        "id": "MiHt0WjQjbNu"
      }
    },
    {
      "cell_type": "code",
      "source": [
        "num1 = int(input('Digite um número inteiro: '))\n",
        "num2 = int(input('Digite um outro número inteiro: '))\n",
        "\n",
        "if num1 < num2:\n",
        "  print('Os números entre eles são: ')\n",
        "  for i in range(num1 + 1, num2):\n",
        "    print(i)\n",
        "elif num1 > num2:\n",
        "  print('Os números entre eles são: ')\n",
        "  for i in range(num2 + 1, num1):\n",
        "    print(i)\n",
        "else:\n",
        "  print('Os números são iguais')\n"
      ],
      "metadata": {
        "colab": {
          "base_uri": "https://localhost:8080/"
        },
        "id": "WypoomJZIBvm",
        "outputId": "fa9b05f3-9b5b-4c2e-ea2d-d4bcc822761d"
      },
      "execution_count": null,
      "outputs": [
        {
          "output_type": "stream",
          "name": "stdout",
          "text": [
            "Digite um número inteiro: 10\n",
            "Digite um outro número inteiro: 1\n",
            "Os números entre eles são: \n",
            "2\n",
            "3\n",
            "4\n",
            "5\n",
            "6\n",
            "7\n",
            "8\n",
            "9\n"
          ]
        }
      ]
    },
    {
      "cell_type": "code",
      "source": [
        "bacteria_A = 4\n",
        "bacteria_B = 10\n",
        "\n",
        "taxa_A = 0.03\n",
        "taxa_B = 0.015\n",
        "\n",
        "dias = 0\n",
        "\n",
        "while bacteria_A < bacteria_B:\n",
        "  bacteria_A *= 1 + taxa_A\n",
        "  bacteria_B *= 1 + taxa_B\n",
        "\n",
        "  dias += 1\n",
        "\n",
        "print(f'Levará {dias} dias para a a colônia A superar a colônia B')"
      ],
      "metadata": {
        "colab": {
          "base_uri": "https://localhost:8080/"
        },
        "id": "Xd9_tezxm-pb",
        "outputId": "555b83bd-42e4-4dd1-ba93-2790d80551a3"
      },
      "execution_count": null,
      "outputs": [
        {
          "output_type": "stream",
          "name": "stdout",
          "text": [
            "Levará 63 dias para a a colônia A superar a colônia B\n"
          ]
        }
      ]
    },
    {
      "cell_type": "code",
      "source": [
        "notas_validas = 0\n",
        "notas_invalidas = 0\n",
        "\n",
        "for _ in range(15):\n",
        "    avaliacao = int(input('Digite uma nota de 0 a 5: '))\n",
        "    while (avaliacao < 0) or (avaliacao > 5):\n",
        "        print('Digite um valor válido!')\n",
        "        notas_invalidas += 1\n",
        "        avaliacao = int(input('Digite uma nota de 0 a 5: '))\n",
        "    notas_validas += 1\n",
        "\n",
        "print(f'Número de notas válidas: {notas_validas}')\n",
        "print(f'Número de notas inválidas: {notas_invalidas}')\n",
        "print('Verificação feita! Todas as notas foram verificadas!')\n"
      ],
      "metadata": {
        "colab": {
          "base_uri": "https://localhost:8080/"
        },
        "id": "GXRpZkPzeHaL",
        "outputId": "500d0d8a-b823-4550-fde0-a670cdf9e869"
      },
      "execution_count": null,
      "outputs": [
        {
          "output_type": "stream",
          "name": "stdout",
          "text": [
            "Digite uma nota de 0 a 5: 5\n",
            "Digite uma nota de 0 a 5: 4\n",
            "Digite uma nota de 0 a 5: 7\n",
            "Digite um valor válido!\n",
            "Digite uma nota de 0 a 5: 3\n",
            "Digite uma nota de 0 a 5: 2\n",
            "Digite uma nota de 0 a 5: 1\n",
            "Digite uma nota de 0 a 5: 0\n",
            "Digite uma nota de 0 a 5: 8\n",
            "Digite um valor válido!\n",
            "Digite uma nota de 0 a 5: 9\n",
            "Digite um valor válido!\n",
            "Digite uma nota de 0 a 5: 5\n",
            "Digite uma nota de 0 a 5: 3\n",
            "Digite uma nota de 0 a 5: 2\n",
            "Digite uma nota de 0 a 5: 4\n",
            "Digite uma nota de 0 a 5: 5\n",
            "Digite uma nota de 0 a 5: 2\n",
            "Digite uma nota de 0 a 5: 1\n",
            "Digite uma nota de 0 a 5: 3\n",
            "Digite uma nota de 0 a 5: 2\n",
            "Número de notas válidas: 15\n",
            "Número de notas inválidas: 3\n",
            "Verificação feita! Todas as notas foram verificadas!\n"
          ]
        }
      ]
    },
    {
      "cell_type": "code",
      "source": [
        "temperatura = float(input('Insira uma temperatura em °C: '))\n",
        "\n",
        "soma = 0\n",
        "contadora = 0\n",
        "while temperatura != -273:\n",
        "  soma += temperatura\n",
        "  contadora += 1\n",
        "  temperatura = float(input('Insira uma temperatura em °C: '))\n",
        "\n",
        "media = soma / contadora\n",
        "print(f'A média das temperaturas é {media}')"
      ],
      "metadata": {
        "colab": {
          "base_uri": "https://localhost:8080/"
        },
        "id": "8c3lomGTfkqP",
        "outputId": "84e73705-85bb-4c13-fee1-e8dfe23f0ef1"
      },
      "execution_count": null,
      "outputs": [
        {
          "output_type": "stream",
          "name": "stdout",
          "text": [
            "Insira uma temperatura em °C: 45\n",
            "Insira uma temperatura em °C: 30\n",
            "Insira uma temperatura em °C: 23\n",
            "Insira uma temperatura em °C: 14\n",
            "Insira uma temperatura em °C: 5\n",
            "Insira uma temperatura em °C: 9\n",
            "Insira uma temperatura em °C: 34\n",
            "Insira uma temperatura em °C: 23\n",
            "Insira uma temperatura em °C: 34\n",
            "Insira uma temperatura em °C: 23\n",
            "Insira uma temperatura em °C: 56\n",
            "Insira uma temperatura em °C: 34\n",
            "Insira uma temperatura em °C: 32\n",
            "Insira uma temperatura em °C: 23\n",
            "Insira uma temperatura em °C: 25\n",
            "Insira uma temperatura em °C: 36\n",
            "Insira uma temperatura em °C: 27\n",
            "Insira uma temperatura em °C: 39\n",
            "Insira uma temperatura em °C: 35\n",
            "Insira uma temperatura em °C: 45\n",
            "Insira uma temperatura em °C: 22\n",
            "Insira uma temperatura em °C: 11\n",
            "Insira uma temperatura em °C: 23\n",
            "Insira uma temperatura em °C: 34\n",
            "Insira uma temperatura em °C: 45\n",
            "Insira uma temperatura em °C: 34\n",
            "Insira uma temperatura em °C: 32\n",
            "Insira uma temperatura em °C: 32\n",
            "Insira uma temperatura em °C: 11\n",
            "Insira uma temperatura em °C: -273\n",
            "A média das temperaturas é 28.82758620689655\n"
          ]
        }
      ]
    },
    {
      "cell_type": "code",
      "source": [
        "#Vamos calcular um fatorial de um número fornecido pelo usuário\n",
        "\n",
        "#entrada dos dados\n",
        "fat = int(input('Forneça um número inteiro: '))\n",
        "\n",
        "#inicializadores do looping\n",
        "multiplicacao = 1\n",
        "i = fat\n",
        "\n",
        "#manipulação\n",
        "while i > 0:\n",
        "    multiplicacao *= i\n",
        "    i -= 1\n",
        "print(f'O fatorial de {fat} é igual a {multiplicacao}')\n",
        "\n"
      ],
      "metadata": {
        "colab": {
          "base_uri": "https://localhost:8080/"
        },
        "id": "bMK_jCs-uG0t",
        "outputId": "3f8eb0f8-d9bb-4a64-880c-e247a6256910"
      },
      "execution_count": null,
      "outputs": [
        {
          "output_type": "stream",
          "name": "stdout",
          "text": [
            "Forneça um número inteiro: 4\n",
            "O fatorial de 4 é igual a 24\n"
          ]
        }
      ]
    },
    {
      "cell_type": "markdown",
      "source": [
        "##Momento projetos"
      ],
      "metadata": {
        "id": "hp5wVRqJs09y"
      }
    },
    {
      "cell_type": "code",
      "source": [
        "#Tabuada\n",
        "\n",
        "#entrada dos dados\n",
        "num = int(input('Digite um número inteiro de 1 a 10: '))\n",
        "\n",
        "#manipulação dos dados\n",
        "for i in range(1,11):\n",
        "  resultado = num * 1\n",
        "  print(f'{num} x {i} = {resultado}')"
      ],
      "metadata": {
        "colab": {
          "base_uri": "https://localhost:8080/"
        },
        "id": "7TzW58BbogsO",
        "outputId": "403b8d57-85e9-4e54-e981-21f385bbc350"
      },
      "execution_count": null,
      "outputs": [
        {
          "output_type": "stream",
          "name": "stdout",
          "text": [
            "Digite um número inteiro de 1 a 10: 2\n",
            "2 x 1 = 2\n",
            "2 x 2 = 2\n",
            "2 x 3 = 2\n",
            "2 x 4 = 2\n",
            "2 x 5 = 2\n",
            "2 x 6 = 2\n",
            "2 x 7 = 2\n",
            "2 x 8 = 2\n",
            "2 x 9 = 2\n",
            "2 x 10 = 2\n"
          ]
        }
      ]
    },
    {
      "cell_type": "code",
      "source": [
        "#é número primo ou não?\n",
        "\n",
        "#entrada de dados\n",
        "primo = int(input('Forneça um número inteiro: '))\n",
        "\n",
        "#manipulação de dados\n",
        "if primo > 1:\n",
        "  for i in range(2, primo):\n",
        "    if (primo % i) == 0:\n",
        "      print(f'{primo} não é um número primo!')\n",
        "      break\n",
        "  else:\n",
        "      print(f'{primo} é um número primo!')\n",
        "\n",
        "else:\n",
        "    print(f'{primo} não é um número primo!')"
      ],
      "metadata": {
        "colab": {
          "base_uri": "https://localhost:8080/"
        },
        "id": "W_5em8Juv4LI",
        "outputId": "43c06593-983d-4a13-fafb-ad2291a0bd55"
      },
      "execution_count": null,
      "outputs": [
        {
          "output_type": "stream",
          "name": "stdout",
          "text": [
            "Forneça um número inteiro: 1\n",
            "1 não é um número primo!\n"
          ]
        }
      ]
    },
    {
      "cell_type": "code",
      "source": [
        "#entrada de dados\n",
        "idade = int(input('Digite uma idade (ou um número negativo para encerrar): '))\n",
        "\n",
        "#contadores de looping\n",
        "contador_0_25 = 0\n",
        "contador_26_50 = 0\n",
        "contador_51_75 = 0\n",
        "contador_76_100 = 0\n",
        "\n",
        "#manipulação de dados\n",
        "while idade >= 0:\n",
        "  if 0 <= idade <= 25:\n",
        "    contador_0_25 += 1\n",
        "  elif 26 <= idade <=50:\n",
        "    contador_26_50 += 1\n",
        "  elif 51 <= idade <= 75:\n",
        "    contador_51_75 += 1\n",
        "  elif 76 <= idade <= 100:\n",
        "    contador_76_100 += 1\n",
        "\n",
        "  idade = int(input('Digite uma idade (ou um número negativo para encerrar): '))\n",
        "\n",
        "#print dos resultados\n",
        "print('Distribuição de idades:')\n",
        "print('idade [0-25]: ', contador_0_25)\n",
        "print('idade [26-50]: ', contador_26_50)\n",
        "print('idade [51-75]: ', contador_51_75)\n",
        "print('idade [76-100]: ', contador_76_100)"
      ],
      "metadata": {
        "colab": {
          "base_uri": "https://localhost:8080/"
        },
        "id": "uVFGO05Wz7Lo",
        "outputId": "9c8fb156-4c3a-4136-9f9b-e104b8e16681"
      },
      "execution_count": null,
      "outputs": [
        {
          "output_type": "stream",
          "name": "stdout",
          "text": [
            "Digite uma idade (ou um número negativo para encerrar): 67\n",
            "Digite uma idade (ou um número negativo para encerrar): 76\n",
            "Digite uma idade (ou um número negativo para encerrar): 58\n",
            "Digite uma idade (ou um número negativo para encerrar): 48\n",
            "Digite uma idade (ou um número negativo para encerrar): 34\n",
            "Digite uma idade (ou um número negativo para encerrar): 56\n",
            "Digite uma idade (ou um número negativo para encerrar): 75\n",
            "Digite uma idade (ou um número negativo para encerrar): 74\n",
            "Digite uma idade (ou um número negativo para encerrar): 98\n",
            "Digite uma idade (ou um número negativo para encerrar): 13\n",
            "Digite uma idade (ou um número negativo para encerrar): 34\n",
            "Digite uma idade (ou um número negativo para encerrar): 23\n",
            "Digite uma idade (ou um número negativo para encerrar): 22\n",
            "Digite uma idade (ou um número negativo para encerrar): 45\n",
            "Digite uma idade (ou um número negativo para encerrar): 33\n",
            "Digite uma idade (ou um número negativo para encerrar): 45\n",
            "Digite uma idade (ou um número negativo para encerrar): 65\n",
            "Digite uma idade (ou um número negativo para encerrar): 19\n",
            "Digite uma idade (ou um número negativo para encerrar): 14\n",
            "Digite uma idade (ou um número negativo para encerrar): 27\n",
            "Digite uma idade (ou um número negativo para encerrar): 35\n",
            "Digite uma idade (ou um número negativo para encerrar): 25\n",
            "Digite uma idade (ou um número negativo para encerrar): -1\n",
            "Distribuição de idades:\n",
            "idade [0-25]:  6\n",
            "idade [26-50]:  8\n",
            "idade [51-75]:  6\n",
            "idade [76-100]:  2\n"
          ]
        }
      ]
    },
    {
      "cell_type": "code",
      "source": [
        "#contadores de looping\n",
        "voto_1 = 0\n",
        "voto_2 = 0\n",
        "voto_3 = 0\n",
        "voto_4 = 0\n",
        "voto_5 = 0\n",
        "voto_6 = 0\n",
        "\n",
        "#manipulação dos dados\n",
        "for i in range(0,20):\n",
        "  #entrada de dados\n",
        "  eleicao = int(input('Vote em um candidato (1 a 4) ou vote branco (5) ou nulo (6): '))\n",
        "  if eleicao == 1:\n",
        "    voto_1 += 1\n",
        "  elif eleicao == 2:\n",
        "    voto_2 += 1\n",
        "  elif eleicao == 3:\n",
        "    voto_3 += 1\n",
        "  elif eleicao == 4:\n",
        "    voto_4 += 1\n",
        "  elif eleicao == 5:\n",
        "    voto_5 += 1\n",
        "  elif eleicao == 6:\n",
        "    voto_6 += 1\n",
        "  else:\n",
        "    print('Digite um valor válido')\n",
        "\n",
        "#saída de dados\n",
        "print('Número de votos:')\n",
        "print(f'candidato 1: {voto_1}')\n",
        "print(f'candidato 2: {voto_2}')\n",
        "print(f'candidato 3: {voto_3}')\n",
        "print(f'candidato 4: {voto_4}')\n",
        "print(f'votos em branco: {voto_5}')\n",
        "print(f'votos nulos: {voto_6}')\n"
      ],
      "metadata": {
        "id": "OtGiKoSo0ALy",
        "colab": {
          "base_uri": "https://localhost:8080/"
        },
        "outputId": "e608a88a-c674-4f66-ff01-19a26066efe8"
      },
      "execution_count": null,
      "outputs": [
        {
          "output_type": "stream",
          "name": "stdout",
          "text": [
            "Vote em um candidato (1 a 4) ou vote branco (5) ou nulo (6): 2\n",
            "Vote em um candidato (1 a 4) ou vote branco (5) ou nulo (6): 1\n",
            "Vote em um candidato (1 a 4) ou vote branco (5) ou nulo (6): 3\n",
            "Vote em um candidato (1 a 4) ou vote branco (5) ou nulo (6): 4\n",
            "Vote em um candidato (1 a 4) ou vote branco (5) ou nulo (6): 3\n",
            "Vote em um candidato (1 a 4) ou vote branco (5) ou nulo (6): 2\n",
            "Vote em um candidato (1 a 4) ou vote branco (5) ou nulo (6): 5\n",
            "Vote em um candidato (1 a 4) ou vote branco (5) ou nulo (6): 6\n",
            "Vote em um candidato (1 a 4) ou vote branco (5) ou nulo (6): 2\n",
            "Vote em um candidato (1 a 4) ou vote branco (5) ou nulo (6): 3\n",
            "Vote em um candidato (1 a 4) ou vote branco (5) ou nulo (6): 9\n",
            "Digite um valor válido\n",
            "Vote em um candidato (1 a 4) ou vote branco (5) ou nulo (6): 1\n",
            "Vote em um candidato (1 a 4) ou vote branco (5) ou nulo (6): 1\n",
            "Vote em um candidato (1 a 4) ou vote branco (5) ou nulo (6): 2\n",
            "Vote em um candidato (1 a 4) ou vote branco (5) ou nulo (6): 4\n",
            "Vote em um candidato (1 a 4) ou vote branco (5) ou nulo (6): 3\n",
            "Vote em um candidato (1 a 4) ou vote branco (5) ou nulo (6): 6\n",
            "Vote em um candidato (1 a 4) ou vote branco (5) ou nulo (6): 1\n",
            "Vote em um candidato (1 a 4) ou vote branco (5) ou nulo (6): 2\n",
            "Vote em um candidato (1 a 4) ou vote branco (5) ou nulo (6): 2\n",
            "Número de votos:\n",
            "candidato 1: 4\n",
            "candidato 2: 6\n",
            "candidato 3: 4\n",
            "candidato 4: 2\n",
            "votos em branco: 1\n",
            "votos nulos: 2\n"
          ]
        }
      ]
    },
    {
      "cell_type": "markdown",
      "source": [
        "#Desafio 5\n",
        "##**Estrutura de Dados**\n",
        "##Aquecendo na programação"
      ],
      "metadata": {
        "id": "C04eFuFsJGoj"
      }
    },
    {
      "cell_type": "code",
      "source": [
        "gastos = [2172.54, 3701.35, 3518.09, 3456.61, 3249.38, 2840.82, 3891.45, 3075.26, 2317.64, 3219.08]\n",
        "\n",
        "soma_gastos = sum(gastos)\n",
        "print(f'A soma dos gastos é {soma_gastos}')\n",
        "quantidade_gastos = len(gastos)\n",
        "print(f'A quantidade de gastos é {quantidade_gastos}')\n",
        "media_gastos = soma_gastos / quantidade_gastos\n",
        "print(f'A média dos gastos é de {media_gastos}')"
      ],
      "metadata": {
        "id": "CZx6OmJSzhfu",
        "colab": {
          "base_uri": "https://localhost:8080/"
        },
        "outputId": "37080203-8efc-45a8-b1a5-45af14f6e9d0"
      },
      "execution_count": null,
      "outputs": [
        {
          "output_type": "stream",
          "name": "stdout",
          "text": [
            "A soma dos gastos é 31442.22\n",
            "A quantidade de gastos é 10\n",
            "A média dos gastos é de 3144.222\n"
          ]
        }
      ]
    },
    {
      "cell_type": "code",
      "source": [
        "gastos = [2172.54, 3701.35, 3518.09, 3456.61, 3249.38, 2840.82, 3891.45, 3075.26, 2317.64, 3219.08]\n",
        "\n",
        "contador_gasto_3000 = 0\n",
        "\n",
        "for gasto in gastos:\n",
        "  if gasto > 3000:\n",
        "    contador_gasto_3000 += 1\n",
        "\n",
        "porcentagem_gasto_3000 = 100 * contador_gasto_3000 / quantidade_gastos\n",
        "\n",
        "print(f'A quantidade de gastos de mais de 3000 foram {contador_gasto_3000}')\n",
        "print(f'A porcentagem de gastos no valor de 3000 foram {porcentagem_gasto_3000}')"
      ],
      "metadata": {
        "colab": {
          "base_uri": "https://localhost:8080/"
        },
        "id": "HZr4sBRmX3OR",
        "outputId": "77c64d51-6e4e-459e-ac23-ef4fcdc01190"
      },
      "execution_count": null,
      "outputs": [
        {
          "output_type": "stream",
          "name": "stdout",
          "text": [
            "A quantidade de gastos de mais de 3000 foram 7\n",
            "A porcentagem de gastos no valor de 3000 foram 70.0\n"
          ]
        }
      ]
    },
    {
      "cell_type": "code",
      "source": [
        "lista_numeros = []\n",
        "\n",
        "for i in range(0,5):\n",
        "  n1 = int(input('Digite um número inteiro: '))\n",
        "  lista_numeros.append(n1)\n",
        "\n",
        "print(f'A lista de números fornecidos é: {lista_numeros}')\n"
      ],
      "metadata": {
        "colab": {
          "base_uri": "https://localhost:8080/"
        },
        "id": "JJGuU64ocj8B",
        "outputId": "61b4039e-bc4a-4616-ce32-87f672623ef8"
      },
      "execution_count": null,
      "outputs": [
        {
          "output_type": "stream",
          "name": "stdout",
          "text": [
            "Digite um número inteiro: 5\n",
            "Digite um número inteiro: 7\n",
            "Digite um número inteiro: 3\n",
            "Digite um número inteiro: 9\n",
            "Digite um número inteiro: 0\n",
            "A lista de números fornecidos é: [5, 7, 3, 9, 0]\n"
          ]
        }
      ]
    },
    {
      "cell_type": "code",
      "source": [
        "lista_numeros = []\n",
        "\n",
        "for i in range(0,5):\n",
        "  n1 = int(input('Digite um número inteiro: '))\n",
        "  lista_numeros.append(n1)\n",
        "\n",
        "print(f'A lista de números fornecidos é: {lista_numeros[::-1]}')"
      ],
      "metadata": {
        "colab": {
          "base_uri": "https://localhost:8080/"
        },
        "id": "_PvuG4VNeFfF",
        "outputId": "b65e2b69-5633-484c-9371-71721a4f5e9f"
      },
      "execution_count": null,
      "outputs": [
        {
          "output_type": "stream",
          "name": "stdout",
          "text": [
            "Digite um número inteiro: 5\n",
            "Digite um número inteiro: 7\n",
            "Digite um número inteiro: 3\n",
            "Digite um número inteiro: 9\n",
            "Digite um número inteiro: 0\n",
            "A lista de números fornecidos é: [0, 9, 3, 7, 5]\n"
          ]
        }
      ]
    },
    {
      "cell_type": "code",
      "source": [
        "#entrada de dados\n",
        "numero = int(input('Digite um  número inteiro: '))\n",
        "\n",
        "#lista\n",
        "lista_numeros = []\n",
        "\n",
        "#manipulação dos dados\n",
        "for num in range(2, numero):\n",
        "  primo = True\n",
        "  for teste in range(2, num):\n",
        "    if num % teste == 0:\n",
        "      primo = False\n",
        "      break\n",
        "  if primo:\n",
        "      lista_numeros.append(num)\n",
        "\n",
        "#saída dos dados\n",
        "print(f'A lista de números primos: {lista_numeros}')\n"
      ],
      "metadata": {
        "colab": {
          "base_uri": "https://localhost:8080/"
        },
        "id": "JI3KPkA4eqRm",
        "outputId": "f4725488-7460-45ec-d179-ca7871f602d4"
      },
      "execution_count": null,
      "outputs": [
        {
          "output_type": "stream",
          "name": "stdout",
          "text": [
            "Digite um  número inteiro: 300\n",
            "A lista de números primos: [2, 3, 5, 7, 11, 13, 17, 19, 23, 29, 31, 37, 41, 43, 47, 53, 59, 61, 67, 71, 73, 79, 83, 89, 97, 101, 103, 107, 109, 113, 127, 131, 137, 139, 149, 151, 157, 163, 167, 173, 179, 181, 191, 193, 197, 199, 211, 223, 227, 229, 233, 239, 241, 251, 257, 263, 269, 271, 277, 281, 283, 293]\n"
          ]
        }
      ]
    },
    {
      "cell_type": "code",
      "source": [
        "#entrada de dados\n",
        "dia = int(input(\"Digite o dia: \"))\n",
        "mes = int(input(\"Digite o mês: \"))\n",
        "ano = int(input(\"Digite o ano: \"))\n",
        "\n",
        "# Verifica se o ano é bissexto (divisível por 4 e não divisível por 100, exceto\n",
        "#se divisível por 400)\n",
        "if mes == 2:\n",
        "  if ano % 4 == 0 and (ano % 400 == 0 or ano % 100 != 0):\n",
        "    dias_fevereiro = 29\n",
        "  else:\n",
        "    dias_fevereiro = 28\n",
        "  if dia >= 1 and dia <= dias_fevereiro:\n",
        "    print('Data válida')\n",
        "  else:\n",
        "    print('Data inválida')\n",
        "\n",
        "# Verificamos meses terminados em 31 dias\n",
        "elif mes in [1, 3, 5, 7, 8, 10, 12]:\n",
        "  if dia >= 1 and dia <= 31:\n",
        "    print('Data válida')\n",
        "  else:\n",
        "    print('Data inválida')\n",
        "# Verificamos meses terminados em 30 dias\n",
        "elif mes in [4, 6, 9, 11]:\n",
        "  if dia >= 1 and dia <= 30:\n",
        "    print('Data válida')\n",
        "  else:\n",
        "    print('Data inválida')\n",
        "# Caso o mês não esteja entre 1 e 12\n",
        "else:\n",
        "  print('Data inválida')"
      ],
      "metadata": {
        "colab": {
          "base_uri": "https://localhost:8080/"
        },
        "id": "Ju8x0OrthItf",
        "outputId": "74c851e2-b40d-4c08-c6cc-f19ef7498f6e"
      },
      "execution_count": null,
      "outputs": [
        {
          "output_type": "stream",
          "name": "stdout",
          "text": [
            "Digite o dia: 18\n",
            "Digite o mês: 5\n",
            "Digite o ano: 1999\n",
            "Data válida\n"
          ]
        }
      ]
    },
    {
      "cell_type": "markdown",
      "source": [
        "##Momento Projetos"
      ],
      "metadata": {
        "id": "FDbFxqM6nrlL"
      }
    },
    {
      "cell_type": "code",
      "source": [
        "lista_bacterias = [1.2, 2.1, 3.3, 5.0, 7.8, 11.3, 16.6, 25.1, 37.8, 56.9]\n",
        "lista_percentual = []\n",
        "\n",
        "for i in range(1,len(lista_bacterias)):\n",
        "  porcentagem = 100 * (lista_bacterias[i] - lista_bacterias[i-1]) / lista_bacterias[i-1]\n",
        "  lista_percentual.append(porcentagem)\n",
        "\n",
        "print(f'Lista percentual de reprodução das bactérias:\\n{lista_percentual}')\n"
      ],
      "metadata": {
        "colab": {
          "base_uri": "https://localhost:8080/"
        },
        "id": "tRdruOH3hXSE",
        "outputId": "fbeaaffa-08ed-4366-db02-1465ca9dc9c1"
      },
      "execution_count": null,
      "outputs": [
        {
          "output_type": "stream",
          "name": "stdout",
          "text": [
            "Lista percentual de reprodução das bactérias:\n",
            "[75.00000000000001, 57.142857142857125, 51.51515151515153, 56.0, 44.87179487179489, 46.90265486725664, 51.20481927710843, 50.59760956175297, 50.52910052910054]\n"
          ]
        }
      ]
    },
    {
      "cell_type": "code",
      "source": [
        "ids = []\n",
        "\n",
        "contador_amargos = 0\n",
        "contador_doces = 0\n",
        "\n",
        "for i in range(0,10):\n",
        "  ids.append(int(input('Digite o ID do produto: ')))\n",
        "\n",
        "for id in ids:\n",
        "  if id % 2 == 0:\n",
        "    contador_doces += 1\n",
        "  else:\n",
        "    contador_amargos += 1\n",
        "\n",
        "print(f'número de produtos doces: {contador_doces}')\n",
        "print(f'número de produtos amargos: {contador_amargos}')"
      ],
      "metadata": {
        "colab": {
          "base_uri": "https://localhost:8080/"
        },
        "id": "kOKpmnYyEr3s",
        "outputId": "bab6a177-d8ed-44ae-ec99-3a32c05e060c"
      },
      "execution_count": null,
      "outputs": [
        {
          "output_type": "stream",
          "name": "stdout",
          "text": [
            "Digite o ID do produto: 3\n",
            "Digite o ID do produto: 5\n",
            "Digite o ID do produto: 7\n",
            "Digite o ID do produto: 8\n",
            "Digite o ID do produto: 81\n",
            "Digite o ID do produto: 9\n",
            "Digite o ID do produto: 45\n",
            "Digite o ID do produto: 24\n",
            "Digite o ID do produto: 86\n",
            "Digite o ID do produto: 10\n",
            "número de produtos doces: 4\n",
            "número de produtos amargos: 6\n"
          ]
        }
      ]
    },
    {
      "cell_type": "code",
      "source": [
        "# Inicializamos os dados\n",
        "respostas = []\n",
        "gabarito = ['D', 'A', 'C', 'B', 'A', 'D', 'C', 'C', 'A', 'B']\n",
        "nota = 0\n",
        "\n",
        "# Recebemos as respostas do aluno\n",
        "for i in range(0, 10):\n",
        "  respostas.append(input(f'Insira a resposta da questão {i + 1}: ').upper())\n",
        "\n",
        "# Verificamos se as respostas são iguais e adicionamos à nota\n",
        "for i in range(0,10):\n",
        "  if respostas[i] == gabarito[i]:\n",
        "    nota += 1\n",
        "\n",
        "# Exibindo nota final\n",
        "print(f'Nota final: {nota}')\n"
      ],
      "metadata": {
        "id": "6So9Ic70Ez2p",
        "colab": {
          "base_uri": "https://localhost:8080/"
        },
        "outputId": "9d0e0dfa-56ea-4657-daf1-2101915c7a89"
      },
      "execution_count": null,
      "outputs": [
        {
          "output_type": "stream",
          "name": "stdout",
          "text": [
            "Insira a resposta da questão 1: d\n",
            "Insira a resposta da questão 2: a\n",
            "Insira a resposta da questão 3: c\n",
            "Insira a resposta da questão 4: a\n",
            "Insira a resposta da questão 5: b\n",
            "Insira a resposta da questão 6: d\n",
            "Insira a resposta da questão 7: c\n",
            "Insira a resposta da questão 8: c\n",
            "Insira a resposta da questão 9: b\n",
            "Insira a resposta da questão 10: a\n",
            "Nota final: 6\n"
          ]
        }
      ]
    },
    {
      "cell_type": "code",
      "source": [
        "temperaturas = []\n",
        "\n",
        "for i in range(0,12):\n",
        "  temperaturas.append(float(input(f'Digite a média de temperatura do mês {i+1}: ')))\n",
        "\n",
        "meses = ['Janeiro', 'Fevereiro', 'Março', 'Abril', 'Maio', 'Junho', 'Julho',\n",
        "         'Agosto', 'Setembro', 'Outubro', 'Novembro', 'Dezembro']\n",
        "media_anual = sum(temperaturas) / len(temperaturas)\n",
        "\n",
        "print('Temperaturas acima da média em: ')\n",
        "for i in range(0,12):\n",
        "  if temperaturas[i] > media_anual:\n",
        "      print(meses[i])\n",
        "\n"
      ],
      "metadata": {
        "id": "Rc-AAksbMKf4",
        "colab": {
          "base_uri": "https://localhost:8080/"
        },
        "outputId": "9f56b497-d623-462c-e5c1-b87c96fbac3c"
      },
      "execution_count": null,
      "outputs": [
        {
          "output_type": "stream",
          "name": "stdout",
          "text": [
            "Digite a média de temperatura do mês 1: 30\n",
            "Digite a média de temperatura do mês 2: 31\n",
            "Digite a média de temperatura do mês 3: 32\n",
            "Digite a média de temperatura do mês 4: 29\n",
            "Digite a média de temperatura do mês 5: 27\n",
            "Digite a média de temperatura do mês 6: 22\n",
            "Digite a média de temperatura do mês 7: 25\n",
            "Digite a média de temperatura do mês 8: 29\n",
            "Digite a média de temperatura do mês 9: 30\n",
            "Digite a média de temperatura do mês 10: 32\n",
            "Digite a média de temperatura do mês 11: 24\n",
            "Digite a média de temperatura do mês 12: 31\n",
            "Temperaturas acima da média em: \n",
            "Janeiro\n",
            "Fevereiro\n",
            "Março\n",
            "Abril\n",
            "Agosto\n",
            "Setembro\n",
            "Outubro\n",
            "Dezembro\n"
          ]
        }
      ]
    },
    {
      "cell_type": "code",
      "source": [
        "#dados do dicionário\n",
        "dados_vendas = {'Produto A': 300,\n",
        "          'Produto B': 80,\n",
        "          'Produto C': 60,\n",
        "          'Produto D': 200,\n",
        "          'Produto E': 250,\n",
        "          'Produto F': 30}\n",
        "\n",
        "#variáveis\n",
        "total_vendas = 0\n",
        "produto_mais_vendido = ''\n",
        "unidades_produto_mais_vendido = 0\n",
        "\n",
        "#Manipulação dos dados\n",
        "for produto in dados_vendas.keys():\n",
        "  total_vendas += dados_vendas[produto]\n",
        "  if dados_vendas[produto] > unidades_produto_mais_vendido:\n",
        "    unidades_produto_mais_vendido = dados_vendas[produto]\n",
        "    produto_mais_vendido = produto\n",
        "\n",
        "#saída dos dados\n",
        "print(f'O total de vendas é igual a {total_vendas}')\n",
        "print(f'O produto mais vendido é o {produto_mais_vendido}')\n",
        "\n"
      ],
      "metadata": {
        "colab": {
          "base_uri": "https://localhost:8080/"
        },
        "id": "3d2qYBz1jM-E",
        "outputId": "462a5df2-4002-4486-fceb-9fb2c0b64707"
      },
      "execution_count": null,
      "outputs": [
        {
          "output_type": "stream",
          "name": "stdout",
          "text": [
            "O total de vendas é igual a 920\n",
            "O produto mais vendido é o Produto A\n"
          ]
        }
      ]
    },
    {
      "cell_type": "code",
      "source": [
        "#dados do dicionário\n",
        "votos_marca = {'Design 1': 1334,\n",
        "               'Design 2': 982,\n",
        "               'Design 3': 1751,\n",
        "               'Design 4': 210,\n",
        "               'Design 5': 1811}\n",
        "\n",
        "#variáveis\n",
        "total_votos = 0\n",
        "marca_mais_votos = ''\n",
        "unidades_design_mais_votado = 0\n",
        "\n",
        "#manipulação dos dados\n",
        "for votos in votos_marca.keys():\n",
        "  total_votos += votos_marca[votos]\n",
        "  if votos_marca[votos] > unidades_design_mais_votado:\n",
        "    unidades_design_mais_votado = votos_marca[votos]\n",
        "    marca_mais_votos = votos\n",
        "\n",
        "percentual_votos = 100 * (unidades_design_mais_votado) / (total_votos)\n",
        "\n",
        "#saída dos dados\n",
        "print(f'O total foi de {total_votos} votos.')\n",
        "print(f'O design mais votado foi o {marca_mais_votos}')\n",
        "print(f'A porcentagem do vencedor foi de {percentual_votos}')"
      ],
      "metadata": {
        "colab": {
          "base_uri": "https://localhost:8080/"
        },
        "id": "QcRTgo7Nju4_",
        "outputId": "8585b7fe-d8b8-4020-d4c9-f0d00186b2f2"
      },
      "execution_count": null,
      "outputs": [
        {
          "output_type": "stream",
          "name": "stdout",
          "text": [
            "O total foi de 6088 votos.\n",
            "O design mais votado foi o Design 5\n",
            "A porcentagem do vencedor foi de 29.747043363994745\n"
          ]
        }
      ]
    },
    {
      "cell_type": "code",
      "source": [
        "#lista\n",
        "salarios = [1172, 1644, 2617, 5130, 5532, 6341, 6650, 7238, 7685, 7782, 7903]\n",
        "\n",
        "#variáveis\n",
        "dic_abonos = {}\n",
        "total_abonos = 0\n",
        "abono_minimo = 0\n",
        "maior_abono = 0\n",
        "\n",
        "#manipulação dos dados\n",
        "for salario in salarios:\n",
        "  abono = salario * 0.1\n",
        "  if abono < 200:\n",
        "    abono = 200\n",
        "\n",
        "  dic_abonos[salario] = abono\n",
        "\n",
        "for abono in dic_abonos.values():\n",
        "  if abono == 200:\n",
        "    abono_minimo += 1\n",
        "  if abono > maior_abono:\n",
        "    maior_abono = abono\n",
        "\n",
        "  total_abonos += abono\n",
        "\n",
        "#saída de dados\n",
        "print(f'Abonos: {dic_abonos}')\n",
        "print(f'O total de gastos com abonos é: {total_abonos}')\n",
        "print(f'Número de funcionários que receberam o abono mínimo: {abono_minimo}')\n",
        "print(f'Maior valor de abono: {maior_abono}')\n"
      ],
      "metadata": {
        "colab": {
          "base_uri": "https://localhost:8080/"
        },
        "id": "bZt9U8yU0VYu",
        "outputId": "7ed9831e-852f-40f6-c41b-422d81c69ce1"
      },
      "execution_count": null,
      "outputs": [
        {
          "output_type": "stream",
          "name": "stdout",
          "text": [
            "Abonos: {1172: 200, 1644: 200, 2617: 261.7, 5130: 513.0, 5532: 553.2, 6341: 634.1, 6650: 665.0, 7238: 723.8000000000001, 7685: 768.5, 7782: 778.2, 7903: 790.3000000000001}\n",
            "O total de gastos com abonos é: 6087.8\n",
            "Número de funcionários que receberam o abono mínimo: 2\n",
            "Maior valor de abono: 790.3000000000001\n"
          ]
        }
      ]
    },
    {
      "cell_type": "code",
      "source": [
        "#dicionário\n",
        "biodiversidade = {'Área Norte': [2819, 7236],\n",
        "                  'Área Leste': [1440, 9492],\n",
        "                  'Área Sul': [5969, 7496],\n",
        "                  'Área Oeste': [14446, 49688],\n",
        "                  'Área Centro': [22558, 45148]}\n",
        "\n",
        "#variáveis\n",
        "soma_media = 0\n",
        "maior_soma_especies = 0\n",
        "area_com_mais_diversidade = ''\n",
        "\n",
        "#manipulação de dados\n",
        "for area, especies in biodiversidade.items():\n",
        "  soma_especies = sum(especies)\n",
        "  media = soma_especies / len(especies)\n",
        "\n",
        "  print(f'A {area} tem em média {media} especies')\n",
        "\n",
        "  if soma_especies > maior_soma_especies:\n",
        "    maior_soma_especies = soma_especies\n",
        "    area_com_mais_diversidade = area\n",
        "\n",
        "  soma_media += media\n",
        "\n",
        "media_total = soma_media / len(biodiversidade)\n",
        "\n",
        "#saída de dados\n",
        "print(f'A média total de espécies é de {media_total}')\n",
        "print(f'Área com maior biodiversidade: {area_com_mais_diversidade}')"
      ],
      "metadata": {
        "colab": {
          "base_uri": "https://localhost:8080/"
        },
        "id": "RAG2BrMx2iJ2",
        "outputId": "59d346ab-61b5-48de-c177-9cc5768fcc83"
      },
      "execution_count": null,
      "outputs": [
        {
          "output_type": "stream",
          "name": "stdout",
          "text": [
            "A Área Norte tem em média 5027.5 especies\n",
            "A Área Leste tem em média 5466.0 especies\n",
            "A Área Sul tem em média 6732.5 especies\n",
            "A Área Oeste tem em média 32067.0 especies\n",
            "A Área Centro tem em média 33853.0 especies\n",
            "A média total de espécies é de 16629.2\n",
            "Área com maior biodiversidade: Área Centro\n"
          ]
        }
      ]
    },
    {
      "cell_type": "code",
      "source": [
        "#dicionário\n",
        "idades = {'Setor A': [22, 26, 30, 30, 35, 38, 40, 56, 57, 65],\n",
        "          'Setor B': [22, 24, 26, 33, 41, 49, 50, 54, 60, 64],\n",
        "          'Setor C': [23, 26, 26, 29, 34, 35, 36, 41, 52, 56],\n",
        "          'Setor D': [19, 20, 25, 27, 34, 39, 42, 44, 50, 65]}\n",
        "\n",
        "#variáveis\n",
        "total_idades = 0\n",
        "\n",
        "#manipulação dos dados\n",
        "for setor, anos in idades.items():\n",
        "  soma_idades = sum(anos)\n",
        "  media_anos = soma_idades / len(anos)\n",
        "\n",
        "  print(f'O {setor} tem funcionários com uma média de {media_anos} anos')\n",
        "\n",
        "  # Somamos as médias\n",
        "  total_idades += sum(anos)\n",
        "\n",
        "# Média das médias\n",
        "media_total = total_idades / (len(anos) * len(idades))\n",
        "print(f'A média de idade geral é de {media_total} anos')\n",
        "\n",
        "#variável para contar a quantidade de idades acima da média\n",
        "quantidade_maior_idade = 0\n",
        "\n",
        "#novo laço\n",
        "for setor, anos in idades.items():\n",
        "  for id in anos:\n",
        "   if id > media_total:\n",
        "    quantidade_maior_idade += 1\n",
        "\n",
        "print(f'{quantidade_maior_idade} pessoas estão com idade acima da média geral')\n"
      ],
      "metadata": {
        "colab": {
          "base_uri": "https://localhost:8080/"
        },
        "id": "fOpKitv33whq",
        "outputId": "eb4cfe38-b5b4-4763-cfbf-33ea28b4e387"
      },
      "execution_count": null,
      "outputs": [
        {
          "output_type": "stream",
          "name": "stdout",
          "text": [
            "O Setor A tem funcionários com uma média de 39.9 anos\n",
            "O Setor B tem funcionários com uma média de 42.3 anos\n",
            "O Setor C tem funcionários com uma média de 35.8 anos\n",
            "O Setor D tem funcionários com uma média de 36.5 anos\n",
            "A média de idade geral é de 38.625 anos\n",
            "18 pessoas estão com idade acima da média geral\n"
          ]
        }
      ]
    },
    {
      "cell_type": "markdown",
      "source": [
        "#Python para Data Science: trabalhando com funções, estruturas de dados e exceções\n",
        "\n",
        "#Desafio 1\n",
        "##Aquecendo na programação\n"
      ],
      "metadata": {
        "id": "b78sUdO0ILU_"
      }
    },
    {
      "cell_type": "code",
      "source": [
        "!pip install matplotlib==3.7.1"
      ],
      "metadata": {
        "id": "0u7mzFH98H9Y",
        "colab": {
          "base_uri": "https://localhost:8080/"
        },
        "outputId": "adac4ab5-4dd9-4f05-cf01-22f0d773042b"
      },
      "execution_count": null,
      "outputs": [
        {
          "output_type": "stream",
          "name": "stdout",
          "text": [
            "Requirement already satisfied: matplotlib==3.7.1 in /usr/local/lib/python3.10/dist-packages (3.7.1)\n",
            "Requirement already satisfied: contourpy>=1.0.1 in /usr/local/lib/python3.10/dist-packages (from matplotlib==3.7.1) (1.1.1)\n",
            "Requirement already satisfied: cycler>=0.10 in /usr/local/lib/python3.10/dist-packages (from matplotlib==3.7.1) (0.12.0)\n",
            "Requirement already satisfied: fonttools>=4.22.0 in /usr/local/lib/python3.10/dist-packages (from matplotlib==3.7.1) (4.43.1)\n",
            "Requirement already satisfied: kiwisolver>=1.0.1 in /usr/local/lib/python3.10/dist-packages (from matplotlib==3.7.1) (1.4.5)\n",
            "Requirement already satisfied: numpy>=1.20 in /usr/local/lib/python3.10/dist-packages (from matplotlib==3.7.1) (1.23.5)\n",
            "Requirement already satisfied: packaging>=20.0 in /usr/local/lib/python3.10/dist-packages (from matplotlib==3.7.1) (23.2)\n",
            "Requirement already satisfied: pillow>=6.2.0 in /usr/local/lib/python3.10/dist-packages (from matplotlib==3.7.1) (9.4.0)\n",
            "Requirement already satisfied: pyparsing>=2.3.1 in /usr/local/lib/python3.10/dist-packages (from matplotlib==3.7.1) (3.1.1)\n",
            "Requirement already satisfied: python-dateutil>=2.7 in /usr/local/lib/python3.10/dist-packages (from matplotlib==3.7.1) (2.8.2)\n",
            "Requirement already satisfied: six>=1.5 in /usr/local/lib/python3.10/dist-packages (from python-dateutil>=2.7->matplotlib==3.7.1) (1.16.0)\n"
          ]
        }
      ]
    },
    {
      "cell_type": "code",
      "source": [
        "import numpy as np"
      ],
      "metadata": {
        "id": "ehbDqYU9IoBg"
      },
      "execution_count": null,
      "outputs": []
    },
    {
      "cell_type": "code",
      "source": [
        "from random import choice\n",
        "\n",
        "lista = [8, 12, 54, 23, 43, 1, 90, 87, 105, 77]\n",
        "\n",
        "lista_1 = choice(lista)\n",
        "lista_1"
      ],
      "metadata": {
        "colab": {
          "base_uri": "https://localhost:8080/"
        },
        "id": "_mxijK5sJECu",
        "outputId": "1e8697ce-e746-4ebd-a029-1792af856a7f"
      },
      "execution_count": null,
      "outputs": [
        {
          "output_type": "execute_result",
          "data": {
            "text/plain": [
              "43"
            ]
          },
          "metadata": {},
          "execution_count": 7
        }
      ]
    },
    {
      "cell_type": "code",
      "source": [
        "from random import randrange\n",
        "randrange(100)"
      ],
      "metadata": {
        "colab": {
          "base_uri": "https://localhost:8080/"
        },
        "id": "5G3vMecJJsRA",
        "outputId": "2bea27c8-cdff-4fdb-fc4b-3bab365f916b"
      },
      "execution_count": null,
      "outputs": [
        {
          "output_type": "execute_result",
          "data": {
            "text/plain": [
              "53"
            ]
          },
          "metadata": {},
          "execution_count": 24
        }
      ]
    },
    {
      "cell_type": "code",
      "source": [
        "from math import pow\n",
        "num1 = int(input('Digite um número inteiro para ser a base: '))\n",
        "num2 = int(input('Digite outro número inteiro para ser a potência: '))\n",
        "\n",
        "potencia = pow(num1,num2)\n",
        "\n",
        "print(f'O número {num1} elevado a {num2} é igual a {potencia}')"
      ],
      "metadata": {
        "colab": {
          "base_uri": "https://localhost:8080/"
        },
        "id": "i1Us_CmXK_s8",
        "outputId": "4cd99ad6-44ab-44f4-f711-7f74e9f9b105"
      },
      "execution_count": null,
      "outputs": [
        {
          "output_type": "stream",
          "name": "stdout",
          "text": [
            "Digite um número inteiro para ser a base: 6\n",
            "Digite outro número inteiro para ser a potência: 3\n",
            "O número 6 elevado a 3 é igual a 216.0\n"
          ]
        }
      ]
    },
    {
      "cell_type": "markdown",
      "source": [
        "##Aplicando a projetos"
      ],
      "metadata": {
        "id": "mzxJ-yyiOsre"
      }
    },
    {
      "cell_type": "code",
      "source": [
        "from random import randrange\n",
        "\n",
        "num_sorteio = int(input('Forneça o número de participantes do sorteio: '))\n",
        "\n",
        "print(f'O número sorteado é {randrange(1, num_sorteio)}')"
      ],
      "metadata": {
        "colab": {
          "base_uri": "https://localhost:8080/"
        },
        "id": "QiKuVAcTNTvu",
        "outputId": "682ebc44-55e2-4a64-9455-a3384da5c4f4"
      },
      "execution_count": null,
      "outputs": [
        {
          "output_type": "stream",
          "name": "stdout",
          "text": [
            "Forneça o número de participantes do sorteio: 350\n",
            "O número sorteado é 158\n"
          ]
        }
      ]
    },
    {
      "cell_type": "code",
      "source": [
        "from random import randrange\n",
        "\n",
        "nome = input('Digite seu primeiro nome: ')\n",
        "token = randrange(1000, 10000, 2)\n",
        "\n",
        "print(f'\"Olá, {nome}, o seu token de acesso é {token}! Seja bem-vindo(a)!\"')"
      ],
      "metadata": {
        "colab": {
          "base_uri": "https://localhost:8080/"
        },
        "id": "OekkTEBbPhuN",
        "outputId": "b6db823d-fe57-430d-f804-cc3e077bb7e0"
      },
      "execution_count": null,
      "outputs": [
        {
          "output_type": "stream",
          "name": "stdout",
          "text": [
            "Digite seu primeiro nome: Maria\n",
            "\"Olá, Maria, o seu token de acesso é 1202! Seja bem-vindo(a)!\"\n"
          ]
        }
      ]
    },
    {
      "cell_type": "code",
      "source": [
        "from random import choices\n",
        "\n",
        "frutas = [\"maçã\", \"banana\", \"uva\", \"pêra\",\n",
        "          \"manga\", \"coco\", \"melancia\", \"mamão\",\n",
        "          \"laranja\", \"abacaxi\", \"kiwi\", \"ameixa\"]\n",
        "\n",
        "print(f'As frutas escolhidas foram: {choices(frutas, k = 3)}')\n"
      ],
      "metadata": {
        "colab": {
          "base_uri": "https://localhost:8080/"
        },
        "id": "jvw_YzmFRMGw",
        "outputId": "d9616912-941d-4624-e8e9-e4041a549fe7"
      },
      "execution_count": null,
      "outputs": [
        {
          "output_type": "stream",
          "name": "stdout",
          "text": [
            "As frutas escolhidas foram: ['coco', 'melancia', 'mamão']\n"
          ]
        }
      ]
    },
    {
      "cell_type": "code",
      "source": [
        "from math import sqrt\n",
        "\n",
        "numeros = [2, 8, 15, 23, 91, 112, 256]\n",
        "raiz = []\n",
        "\n",
        "for i in numeros:\n",
        "  raiz.append(sqrt(i))\n",
        "\n",
        "for numero in range(len(raiz)):\n",
        "  if raiz[numero] // 1 == raiz[numero]:\n",
        "    print(f'O número {numeros[numero]} possui raíz quadrada inteira igual a {int(raiz[numero])}')\n",
        "\n"
      ],
      "metadata": {
        "colab": {
          "base_uri": "https://localhost:8080/"
        },
        "id": "tKIfZKtId2_d",
        "outputId": "1db3b969-1d4b-4447-b78c-12e102abfac4"
      },
      "execution_count": null,
      "outputs": [
        {
          "output_type": "stream",
          "name": "stdout",
          "text": [
            "O número 256 possui raíz quadrada inteira igual a 16\n"
          ]
        }
      ]
    },
    {
      "cell_type": "code",
      "source": [
        "from math import pow\n",
        "from math import pi\n",
        "\n",
        "area = float(input('Forneça a área circular, em metros quadrados: '))\n",
        "\n",
        "A = pi * pow(area, 2)\n",
        "valor = A * 25.00\n",
        "\n",
        "print(f'Você precisará pagar R$ {round(valor, 2)} por um área de {round(A, 2)} metros de grama')"
      ],
      "metadata": {
        "colab": {
          "base_uri": "https://localhost:8080/"
        },
        "id": "13plNWYEg05A",
        "outputId": "48ec10c0-e874-41b9-a6e6-931041e56a03"
      },
      "execution_count": null,
      "outputs": [
        {
          "output_type": "stream",
          "name": "stdout",
          "text": [
            "Forneça a área circular, em metros quadrados: 2.5\n",
            "Você precisará pagar R$ 490.87 por um área de 19.63 metros de grama\n"
          ]
        }
      ]
    },
    {
      "cell_type": "markdown",
      "source": [
        "#Desafio 2\n",
        "\n",
        "##Aquecendo na programação"
      ],
      "metadata": {
        "id": "1-EFI3eEwA6W"
      }
    },
    {
      "cell_type": "code",
      "source": [
        "lista = [16, 14, 63, 65, 17, 99, 70, 11, 20, 48, 79, 32, 17, 89, 12, 25, 66]\n",
        "\n",
        "\n",
        "tam = len(lista)\n",
        "soma = sum(lista)\n",
        "maior = max(lista)\n",
        "menor = min(lista)\n",
        "\n",
        "print(f\"A lista possui {tam} números em que o maior número é {maior} e o menor número é {menor}. A soma dos valores presentes nela é igual a {soma}\")\n"
      ],
      "metadata": {
        "id": "yBdy0f_liFko",
        "colab": {
          "base_uri": "https://localhost:8080/"
        },
        "outputId": "72536ad2-16b7-4112-9b2d-b42e4c8f1898"
      },
      "execution_count": null,
      "outputs": [
        {
          "output_type": "stream",
          "name": "stdout",
          "text": [
            "A lista possui 17 números em que o maior número é 99 e o menor número é 11. A soma dos valores presentes nela é igual a 743\n"
          ]
        }
      ]
    },
    {
      "cell_type": "code",
      "source": [
        "num = int(input('Digite um número inteiro de 1 a 10: '))\n",
        "\n",
        "def tabuada(numero: int):\n",
        "  print(f'Tabuada do {numero}:')\n",
        "  for i in range(11):\n",
        "    resultado = numero * i\n",
        "    print(f'{numero} x {i} = {resultado}')\n",
        "\n",
        "tabuada(num)"
      ],
      "metadata": {
        "id": "kmh_REOzioxM",
        "colab": {
          "base_uri": "https://localhost:8080/"
        },
        "outputId": "5638a9e2-3938-4c58-cf63-466868df011d"
      },
      "execution_count": null,
      "outputs": [
        {
          "output_type": "stream",
          "name": "stdout",
          "text": [
            "Digite um número inteiro de 1 a 10: 5\n",
            "Tabuada do 5:\n",
            "5 x 0 = 0\n",
            "5 x 1 = 5\n",
            "5 x 2 = 10\n",
            "5 x 3 = 15\n",
            "5 x 4 = 20\n",
            "5 x 5 = 25\n",
            "5 x 6 = 30\n",
            "5 x 7 = 35\n",
            "5 x 8 = 40\n",
            "5 x 9 = 45\n",
            "5 x 10 = 50\n"
          ]
        }
      ]
    },
    {
      "cell_type": "code",
      "source": [
        "#Código para ler a lista e criar uma nova lista contendo apenas múltiplos de 3\n",
        "lista = [97, 80, 94, 88, 80, 1, 16, 53, 62, 32, 24, 99]\n",
        "\n",
        "mult_3 = []\n",
        "\n",
        "def multiplo_3(lista: list) -> list:\n",
        "  for i in range(len(lista)):\n",
        "    if lista[i] % 3 == 0:\n",
        "      mult_3.append(lista[i])\n",
        "\n",
        "  return mult_3\n",
        "\n",
        "mult_3 = multiplo_3(lista)\n",
        "mult_3"
      ],
      "metadata": {
        "colab": {
          "base_uri": "https://localhost:8080/"
        },
        "id": "MkCCc5QAzv4T",
        "outputId": "6751635f-1f85-43af-9400-bd595993d7b4"
      },
      "execution_count": null,
      "outputs": [
        {
          "output_type": "execute_result",
          "data": {
            "text/plain": [
              "[24, 99]"
            ]
          },
          "metadata": {},
          "execution_count": 12
        }
      ]
    },
    {
      "cell_type": "code",
      "source": [
        "#Código que gera uma lista com o quadrado dos números da primeira lista\n",
        "lista = [1, 2, 3, 4, 5, 6, 7, 8, 9, 10]\n",
        "qualitativo = 2\n",
        "\n",
        "lista_quadrados = map(lambda x: x ** qualitativo, lista)\n",
        "lista_quadrados = list(lista_quadrados)\n",
        "lista_quadrados"
      ],
      "metadata": {
        "colab": {
          "base_uri": "https://localhost:8080/"
        },
        "id": "rbkI6U1F0L2S",
        "outputId": "8669d35b-98ba-4ef5-b409-a1c3480009fe"
      },
      "execution_count": null,
      "outputs": [
        {
          "output_type": "execute_result",
          "data": {
            "text/plain": [
              "[1, 4, 9, 16, 25, 36, 49, 64, 81, 100]"
            ]
          },
          "metadata": {},
          "execution_count": 14
        }
      ]
    },
    {
      "cell_type": "markdown",
      "source": [
        "##Momento Projetos"
      ],
      "metadata": {
        "id": "uz0vQzTqAQVG"
      }
    },
    {
      "cell_type": "code",
      "source": [
        "#Vamos cacular a pontuação de skatistas\n",
        "\n",
        "notas = []\n",
        "\n",
        "for i in range(1,6):\n",
        "  nota = float(input(f'Digite a nota {i}: '))\n",
        "  notas.append(nota)\n",
        "\n",
        "def media(lista):\n",
        "  lista.remove(max(lista))\n",
        "  lista.remove(min(lista))\n",
        "  return sum(lista) / len(lista)\n",
        "\n",
        "media = media(notas)\n",
        "print(f'Nota da manobra: {round(media, 1)}')\n"
      ],
      "metadata": {
        "colab": {
          "base_uri": "https://localhost:8080/"
        },
        "id": "FJobIXen_72s",
        "outputId": "c4cb5787-e8df-4367-b1d7-fc2fe4d83921"
      },
      "execution_count": null,
      "outputs": [
        {
          "output_type": "stream",
          "name": "stdout",
          "text": [
            "Digite a nota 1: 6\n",
            "Digite a nota 2: 7\n",
            "Digite a nota 3: 6\n",
            "Digite a nota 4: 7.6\n",
            "Digite a nota 5: 8\n",
            "Nota da manobra: 6.9\n"
          ]
        }
      ]
    },
    {
      "cell_type": "code",
      "source": [
        "notas = []\n",
        "\n",
        "for i in range(1,5):\n",
        "  nota = float(input(f'Digite a {i}ª nota do estudante: '))\n",
        "  notas.append(nota)\n",
        "\n",
        "maior = max(notas)\n",
        "menor = min(notas)\n",
        "media = sum(notas) / len(notas)\n",
        "\n",
        "if media >= 6:\n",
        "  situacao = 'APROVADO'\n",
        "else:\n",
        "  situacao = 'REPROVADO'\n",
        "\n",
        "print(f\"O(a) estudante obteve uma média de {media}, com a sua maior nota de {maior} pontos e a menor nota de {menor} pontos e foi {situacao}\")"
      ],
      "metadata": {
        "id": "k4ISIZMcDDX3",
        "colab": {
          "base_uri": "https://localhost:8080/"
        },
        "outputId": "97475168-99aa-4abb-f2cb-1717c67d5b97"
      },
      "execution_count": null,
      "outputs": [
        {
          "output_type": "stream",
          "name": "stdout",
          "text": [
            "Digite a 1ª nota do estudante: 5\n",
            "Digite a 2ª nota do estudante: 4\n",
            "Digite a 3ª nota do estudante: 5\n",
            "Digite a 4ª nota do estudante: 3\n",
            "O(a) estudante obteve uma média de 4.25, com a sua maior nota de 5.0 pontos e a menor nota de 3.0 pontos e foi REPROVADO\n"
          ]
        }
      ]
    },
    {
      "cell_type": "code",
      "source": [
        "nomes = [\"joão\", \"MaRia\", \"JOSÉ\"]\n",
        "sobrenomes = [\"SILVA\", \"souza\", \"Tavares\"]\n",
        "\n",
        "nome_completo = map(lambda nome, sobrenome: f'{nome.title()} {sobrenome.title()}', nomes, sobrenomes)\n",
        "\n",
        "for n in nome_completo:\n",
        "  print(f'Nome completo: {n}')"
      ],
      "metadata": {
        "id": "Xznu_Gg0GpOk",
        "colab": {
          "base_uri": "https://localhost:8080/"
        },
        "outputId": "158965b7-dca1-4f20-dd3a-bb8dbf016b38"
      },
      "execution_count": null,
      "outputs": [
        {
          "output_type": "stream",
          "name": "stdout",
          "text": [
            "Nome completo: João Silva\n",
            "Nome completo: Maria Souza\n",
            "Nome completo: José Tavares\n"
          ]
        }
      ]
    },
    {
      "cell_type": "code",
      "source": [
        "gols_marcados = [2, 1, 3, 1, 0]\n",
        "gols_sofridos = [1, 2, 2, 1, 3]\n",
        "\n",
        "def calcula_pontos(gols_marcados, gols_sofridos):\n",
        "  pontos = 0\n",
        "  for i in range(len(gols_marcados)):\n",
        "    if gols_marcados[i] > gols_sofridos[i]:\n",
        "      pontos += 3\n",
        "    elif gols_marcados[i] == gols_sofridos[i]:\n",
        "      pontos += 1\n",
        "\n",
        "  aprov = 100 * pontos / (len(gols_marcados) * 3)\n",
        "  return (pontos, aprov)\n",
        "\n",
        "(pontos, aprov) = calcula_pontos(gols_marcados, gols_sofridos)\n",
        "\n",
        "print(f\"A pontuação do time foi de {pontos} e seu aproveitamento foi de {round(aprov)}%\")"
      ],
      "metadata": {
        "colab": {
          "base_uri": "https://localhost:8080/"
        },
        "id": "TvRnuTMjHNet",
        "outputId": "984c5f5a-c934-4efb-e78d-ec967dd3609b"
      },
      "execution_count": null,
      "outputs": [
        {
          "output_type": "stream",
          "name": "stdout",
          "text": [
            "A pontuação do time foi de 7 e seu aproveitamento foi de 47%\n"
          ]
        }
      ]
    },
    {
      "cell_type": "code",
      "source": [
        "#Gastos de uma viagem\n",
        "cidade = input(\"Qual a cidade? [Salvador, Fortaleza, Natal ou Aracaju]: \")\n",
        "dias = int(input(\"Quantas diárias? \"))\n",
        "passeios = [200, 400, 250, 300]\n",
        "distancia = [850, 800, 300, 550]\n",
        "km_l = 14\n",
        "gasolina = 5\n",
        "\n",
        "def gasto_hotel(dias):\n",
        "  #150 reais a diária fixa vezes o número de diárias\n",
        "  return 150 * dias\n",
        "\n",
        "def gasto_gasolina(cidade):\n",
        "  if cidade == 'Salvador':\n",
        "    #ida e volta(2 vezes) multiplicado pela distancia entre Recife e Salvador e\n",
        "    #pelo preço da gasolina dividido pelo km/l que o carro faz\n",
        "    return (2 * distancia[0] * gasolina) / km_l\n",
        "  elif cidade == 'Fortaleza':\n",
        "    return (2 * distancia[1] * gasolina) / km_l\n",
        "  elif cidade == 'Natal':\n",
        "    return(2 * distancia[2] * gasolina) / km_l\n",
        "  elif cidade == 'Aracaju':\n",
        "    return (2 * distancia[3] * gasolina) / km_l\n",
        "\n",
        "def gasto_passeio(cidade, dias):\n",
        "  #Multiplica o gasto de comida e passeios pelos dias de dias na cidade\n",
        "  if cidade == 'Salvador':\n",
        "    return passeios[0] * dias\n",
        "  elif cidade == 'Fortaleza':\n",
        "    return passeios[1] * dias\n",
        "  elif cidade == 'Natal':\n",
        "    return passeios[2] * dias\n",
        "  elif cidade == 'Aracaju':\n",
        "    return passeios[3] * dias\n",
        "\n",
        "gastos = gasto_hotel(dias) + gasto_gasolina(cidade) + gasto_passeio(cidade, dias)\n",
        "\n",
        "print(f\"Com base nos gastos definidos, uma viagem de {dias} dias para {cidade} saindo de Recife custaria {round(gastos, 2)} reais\")"
      ],
      "metadata": {
        "colab": {
          "base_uri": "https://localhost:8080/"
        },
        "id": "e1Z6ZtutHVjE",
        "outputId": "3cf0691c-5655-4183-f3a3-2a39a9e724e7"
      },
      "execution_count": null,
      "outputs": [
        {
          "output_type": "stream",
          "name": "stdout",
          "text": [
            "Qual a cidade? [Salvador, Fortaleza, Natal ou Aracaju]: Fortaleza\n",
            "Quantas diárias? 3\n",
            "Com base nos gastos definidos, uma viagem de 3 dias para Fortaleza saindo de Recife custaria 2221.43 reais\n"
          ]
        }
      ]
    },
    {
      "cell_type": "code",
      "source": [
        "cidade = input('Para qual cidade gostaria de ir? ')\n",
        "distancia = float(input('Qual a distância da cidade atual para a cidade escolhida? [km] '))\n",
        "transporte = input('Qual seria o meio de transporte? [carro ou avião] ')\n",
        "hotel = float(input('Quanto é a diária do hotel escolhido? '))\n",
        "pessoas = int(input('Quantos quartos serão alugados? '))\n",
        "dias = int(input('Quantos dias você(s) ficará(ão) hospedado(s)? '))\n",
        "passeios = float(input('Quanto, em média, você pretende gastar com alimentação por dia? '))\n",
        "gasolina = 6\n",
        "\n",
        "def gasto_hotel(hotel, pessoas, dias):\n",
        "  return hotel * pessoas * dias\n",
        "\n",
        "def gasto_gasolina(distancia, transporte):\n",
        "  if transporte == 'avião':\n",
        "   aviao_passagem = float(input('Qual o valor da passagem de avião? [ida e volta]'))\n",
        "   return aviao_passagem\n",
        "  elif transporte == 'carro':\n",
        "    gasolina_carro = float(input('Quantos quilômetros por litro o carro escolhido faz? '))\n",
        "    return (2 * distancia * gasolina) / gasolina_carro\n",
        "\n",
        "def gasto_passeio(passeios, dias):\n",
        "  return passeios * dias\n",
        "\n",
        "gastos = gasto_hotel(hotel, pessoas, dias) + gasto_gasolina(distancia, transporte) + gasto_passeio(passeios, dias)\n",
        "\n",
        "print(f\"Com base nos gastos definidos, uma viagem de {dias} dias para {cidade} saindo da cidade atual custaria {round(gastos, 2)} reais\")"
      ],
      "metadata": {
        "colab": {
          "base_uri": "https://localhost:8080/"
        },
        "id": "mCxboTB8KTV_",
        "outputId": "b13fd69a-0891-4476-9683-60818236abb0"
      },
      "execution_count": null,
      "outputs": [
        {
          "output_type": "stream",
          "name": "stdout",
          "text": [
            "Para qual cidade gostaria de ir? Brasília\n",
            "Qual a distância da cidade atual para a cidade escolhida? [km] 23\n",
            "Qual seria o meio de transporte? [carro ou avião] carro\n",
            "Quanto é a diária do hotel escolhido? 0\n",
            "Quantos quartos serão alugados? 0\n",
            "Quantos dias você(s) ficará(ão) hospedado(s)? 0\n",
            "Quanto, em média, você pretende gastar com alimentação por dia? 0\n",
            "Quantos quilômetros por litro o carro escolhido faz? 11\n",
            "Com base nos gastos definidos, uma viagem de 0 dias para Brasília saindo da cidade atual custaria 25.09 reais\n"
          ]
        }
      ]
    },
    {
      "cell_type": "code",
      "source": [
        "# Requisitando uma frase e separando-a pelos espaços. Usando replace para trocar\n",
        "# pontuações por espaço.\n",
        "frase = input(\"Digite uma frase: \")\n",
        "frase = frase.replace(',',' ').replace('.',' ').replace('!',' ').replace('?',' ').split()\n",
        "\n",
        "# Filtrando a frase no formato de lista, passando para a lista tamanho\n",
        "# apenas as palavras com 5 ou mais caracteres e imprimindo-a na tela\n",
        "tamanho = list(filter(lambda x: len(x) >= 5, frase))\n",
        "print(tamanho)\n"
      ],
      "metadata": {
        "colab": {
          "base_uri": "https://localhost:8080/"
        },
        "id": "uw4b4oyqfD99",
        "outputId": "b05cc502-bc69-4e1b-bb06-a67c0127d7b9"
      },
      "execution_count": null,
      "outputs": [
        {
          "output_type": "stream",
          "name": "stdout",
          "text": [
            "Digite uma frase: Você está bem?\n",
            "[]\n"
          ]
        }
      ]
    },
    {
      "cell_type": "markdown",
      "source": [
        "#Desafio 3\n",
        "##estruturas de dados"
      ],
      "metadata": {
        "id": "vO3tpQ91g8Cr"
      }
    },
    {
      "cell_type": "code",
      "source": [
        "lista_de_listas = [[4,6,5,9], [1,0,7,2], [3,4,1,8]]\n",
        "\n",
        "for lista in lista_de_listas:\n",
        "  print(sum(lista))"
      ],
      "metadata": {
        "colab": {
          "base_uri": "https://localhost:8080/"
        },
        "id": "oTvUMIjYfKw5",
        "outputId": "6c0bc346-a72b-4399-ecc9-04c46a195e52"
      },
      "execution_count": null,
      "outputs": [
        {
          "output_type": "stream",
          "name": "stdout",
          "text": [
            "24\n",
            "10\n",
            "16\n"
          ]
        }
      ]
    },
    {
      "cell_type": "code",
      "source": [
        "lista_de_tuplas = [('Pedro', 1.74, 81), ('Júlia', 1.65, 67), ('Otávio', 1.81, 83)]\n",
        "lista = []\n",
        "\n",
        "for tupla in lista_de_tuplas:\n",
        "  lista.append(tupla[2])\n",
        "\n",
        "print(lista)"
      ],
      "metadata": {
        "colab": {
          "base_uri": "https://localhost:8080/"
        },
        "id": "VDoysgBMfYPf",
        "outputId": "e59e7762-8c1e-413f-871e-39b9b053e2e9"
      },
      "execution_count": null,
      "outputs": [
        {
          "output_type": "stream",
          "name": "stdout",
          "text": [
            "[81, 67, 83]\n"
          ]
        }
      ]
    },
    {
      "cell_type": "code",
      "source": [
        "lista_de_tuplas = []\n",
        "for i in range(len(lista)):\n",
        "    lista_de_tuplas.append((i, lista[i]))\n",
        "print(lista_de_tuplas)"
      ],
      "metadata": {
        "colab": {
          "base_uri": "https://localhost:8080/"
        },
        "id": "ni8m17uRgXqe",
        "outputId": "a21b9b7c-16d5-45e6-964d-f5f611114d8a"
      },
      "execution_count": null,
      "outputs": [
        {
          "output_type": "stream",
          "name": "stdout",
          "text": [
            "[(0, 81), (1, 67), (2, 83)]\n"
          ]
        }
      ]
    },
    {
      "cell_type": "code",
      "source": [
        "aluguel = [('Apartamento', 1700), ('Apartamento', 1400), ('Casa', 2150), ('Apartamento', 1900), ('Casa', 1100)]\n",
        "\n",
        "lista = [tupla[1] for tupla in aluguel if tupla[0]== 'Apartamento']\n",
        "print(lista)\n"
      ],
      "metadata": {
        "colab": {
          "base_uri": "https://localhost:8080/"
        },
        "id": "kw7tla2Dhi5J",
        "outputId": "d002a4d7-c538-4380-e46b-c72e4c48f3e7"
      },
      "execution_count": null,
      "outputs": [
        {
          "output_type": "stream",
          "name": "stdout",
          "text": [
            "[1700, 1400, 1900]\n"
          ]
        }
      ]
    },
    {
      "cell_type": "code",
      "source": [
        "meses = ['Jan', 'Fev', 'Mar', 'Abr', 'Mai', 'Jun', 'Jul', 'Ago', 'Set', 'Out', 'Nov', 'Dez']\n",
        "despesa = [860, 490, 1010, 780, 900, 630, 590, 770, 620, 560, 840, 360]\n",
        "\n",
        "dicionario = [{meses[i]: despesa[i] for i in range(len(meses))}]\n",
        "dicionario"
      ],
      "metadata": {
        "colab": {
          "base_uri": "https://localhost:8080/"
        },
        "id": "HP6ukRJwi1Fw",
        "outputId": "45a78e48-6c51-4c51-d980-d619d249c68d"
      },
      "execution_count": null,
      "outputs": [
        {
          "output_type": "execute_result",
          "data": {
            "text/plain": [
              "[{'Jan': 860,\n",
              "  'Fev': 490,\n",
              "  'Mar': 1010,\n",
              "  'Abr': 780,\n",
              "  'Mai': 900,\n",
              "  'Jun': 630,\n",
              "  'Jul': 590,\n",
              "  'Ago': 770,\n",
              "  'Set': 620,\n",
              "  'Out': 560,\n",
              "  'Nov': 840,\n",
              "  'Dez': 360}]"
            ]
          },
          "metadata": {},
          "execution_count": 4
        }
      ]
    },
    {
      "cell_type": "markdown",
      "source": [
        "##Momento projetos"
      ],
      "metadata": {
        "id": "APzJ9AoBHKSc"
      }
    },
    {
      "cell_type": "code",
      "source": [
        "vendas = [('2023', 4093), ('2021', 4320), ('2021', 5959), ('2022', 8883), ('2023', 9859), ('2022', 5141), ('2022', 7688), ('2022', 9544), ('2023', 4794), ('2021', 7178), ('2022', 3030), ('2021', 7471), ('2022', 4226), ('2022', 8190), ('2021', 9680), ('2022', 5616)]\n",
        "\n",
        "lista_vendas = [tupla[1] for tupla in vendas if tupla[0] == '2022' and tupla[1] > 6000]\n",
        "print(lista_vendas)"
      ],
      "metadata": {
        "colab": {
          "base_uri": "https://localhost:8080/"
        },
        "id": "PNPlBxTsFyH4",
        "outputId": "d6c88d4e-5e36-42c4-f9bb-e01ad2b7dc13"
      },
      "execution_count": null,
      "outputs": [
        {
          "output_type": "stream",
          "name": "stdout",
          "text": [
            "[8883, 7688, 9544, 8190]\n"
          ]
        }
      ]
    },
    {
      "cell_type": "code",
      "source": [
        "glicemia = [129, 82, 60, 97, 101, 65, 62, 167, 87, 53, 58, 92, 66, 120, 109, 62, 86, 96, 103, 88, 155, 52, 89, 73]\n",
        "tipos = ['Hipoglicemia', 'Normal', 'Alterada', 'Diabetes']\n",
        "\n",
        "rotulos = [('Hipoglicemia', glicose) if glicose <= 70 else ('Normal', glicose) if glicose < 100 else ('Alterada', glicose) if glicose < 125 else ('Diabetes', glicose) for glicose in glicemia]\n",
        "print(rotulos)"
      ],
      "metadata": {
        "colab": {
          "base_uri": "https://localhost:8080/"
        },
        "id": "_y10CH7YI1q4",
        "outputId": "bdf91351-4e8e-42ce-c74e-7a0790a08133"
      },
      "execution_count": null,
      "outputs": [
        {
          "output_type": "stream",
          "name": "stdout",
          "text": [
            "[('Diabetes', 129), ('Normal', 82), ('Hipoglicemia', 60), ('Normal', 97), ('Alterada', 101), ('Hipoglicemia', 65), ('Hipoglicemia', 62), ('Diabetes', 167), ('Normal', 87), ('Hipoglicemia', 53), ('Hipoglicemia', 58), ('Normal', 92), ('Hipoglicemia', 66), ('Alterada', 120), ('Alterada', 109), ('Hipoglicemia', 62), ('Normal', 86), ('Normal', 96), ('Alterada', 103), ('Normal', 88), ('Diabetes', 155), ('Hipoglicemia', 52), ('Normal', 89), ('Normal', 73)]\n"
          ]
        }
      ]
    },
    {
      "cell_type": "code",
      "source": [
        "id = [0, 1, 2, 3, 4, 5, 6, 7, 8, 9]\n",
        "quantidade = [15, 12, 1, 15, 2, 11, 2, 12, 2, 4]\n",
        "preco = [93.0, 102.0, 18.0, 41.0, 122.0, 14.0, 71.0, 48.0, 14.0, 144.0]\n",
        "\n",
        "tabela = [('id', 'quantidade', 'preco', 'total')]\n",
        "tabela += [(id[i], quantidade[i], preco[i], quantidade[i]*preco[i]) for i in range(len(id))]\n",
        "\n",
        "print(tabela)"
      ],
      "metadata": {
        "colab": {
          "base_uri": "https://localhost:8080/"
        },
        "id": "TJ7oM4wtNGNj",
        "outputId": "7a7adbb3-e802-4468-a632-400807f3aa5e"
      },
      "execution_count": null,
      "outputs": [
        {
          "output_type": "stream",
          "name": "stdout",
          "text": [
            "[('id', 'quantidade', 'preco', 'total'), (0, 15, 93.0, 1395.0), (1, 12, 102.0, 1224.0), (2, 1, 18.0, 18.0), (3, 15, 41.0, 615.0), (4, 2, 122.0, 244.0), (5, 11, 14.0, 154.0), (6, 2, 71.0, 142.0), (7, 12, 48.0, 576.0), (8, 2, 14.0, 28.0), (9, 4, 144.0, 576.0)]\n"
          ]
        }
      ]
    },
    {
      "cell_type": "code",
      "source": [
        "estados = ['SP', 'ES', 'MG', 'MG', 'SP', 'MG', 'ES', 'ES', 'ES', 'SP', 'SP', 'MG', 'ES', 'SP', 'RJ', 'MG', 'RJ', 'SP', 'MG', 'SP', 'ES', 'SP', 'MG']\n",
        "# Armazenando os estados sem repetição de valor\n",
        "estados_unicos = list(set(estados))\n",
        "\n",
        "# Criando uma lista de listas com valores repetidos de cada estado\n",
        "lista_de_listas = []\n",
        "for estado in estados_unicos:\n",
        "    lista = [uf for uf in estados if uf == estado]\n",
        "    lista_de_listas.append(lista)\n",
        "\n",
        "# Criando um dicionário em que a chave é o nome de cada estado único e o valor é a contagem de elementos\n",
        "contagem_valores = {estados_unicos[i]: len(lista_de_listas[i]) for i in range(len(estados_unicos))}\n",
        "print(contagem_valores)"
      ],
      "metadata": {
        "colab": {
          "base_uri": "https://localhost:8080/"
        },
        "id": "XVPkH-muTwd9",
        "outputId": "413b43f3-c457-4c0f-a6c3-e3f8c5c8399f"
      },
      "execution_count": null,
      "outputs": [
        {
          "output_type": "stream",
          "name": "stdout",
          "text": [
            "{'ES': 6, 'RJ': 2, 'SP': 8, 'MG': 7}\n"
          ]
        }
      ]
    },
    {
      "cell_type": "code",
      "source": [
        "funcionarios = [('SP', 16), ('ES', 8), ('MG', 9), ('MG', 6), ('SP', 10), ('MG', 4), ('ES',9), ('ES', 7), ('ES', 12), ('SP', 7), ('SP', 11), ('MG',8), ('ES',8), ('SP',9), ('RJ', 13), ('MG', 5), ('RJ', 9), ('SP', 12), ('MG', 10), ('SP', 7), ('ES', 14), ('SP', 10), ('MG', 12)]\n",
        "\n",
        "# Armazenando os estados sem repetição de valor\n",
        "estados_unicos = list(set([tupla[0] for tupla in funcionarios]))\n",
        "\n",
        "# Criando uma lista de listas com valores de funcionários de cada estado\n",
        "lista_de_listas = []\n",
        "for estado in estados_unicos:\n",
        "    lista = [tupla[1] for tupla in funcionarios if tupla[0] == estado]\n",
        "    lista_de_listas.append(lista)\n",
        "print(lista_de_listas)\n",
        "\n",
        "# Criando um dicionário com dados agrupados de funcionário por estado\n",
        "agrupamento_por_estado = {estados_unicos[i]: lista_de_listas[i] for i in range(len(estados_unicos))}\n",
        "print(agrupamento_por_estado)\n",
        "\n",
        "# Criando um dicionário com a soma de funcionários por estado\n",
        "soma_por_estado = {estados_unicos[i]: sum(lista_de_listas[i]) for i in range(len(estados_unicos))}\n",
        "print(soma_por_estado)\n"
      ],
      "metadata": {
        "colab": {
          "base_uri": "https://localhost:8080/"
        },
        "id": "aIPIN0WETymK",
        "outputId": "538861d8-7653-411c-c860-a28cf8e141ae"
      },
      "execution_count": null,
      "outputs": [
        {
          "output_type": "stream",
          "name": "stdout",
          "text": [
            "[[8, 9, 7, 12, 8, 14], [13, 9], [16, 10, 7, 11, 9, 12, 7, 10], [9, 6, 4, 8, 5, 10, 12]]\n",
            "{'ES': [8, 9, 7, 12, 8, 14], 'RJ': [13, 9], 'SP': [16, 10, 7, 11, 9, 12, 7, 10], 'MG': [9, 6, 4, 8, 5, 10, 12]}\n",
            "{'ES': 58, 'RJ': 22, 'SP': 82, 'MG': 54}\n"
          ]
        }
      ]
    },
    {
      "cell_type": "markdown",
      "source": [
        "#Desafio 4\n",
        "##Aquecendo na programação"
      ],
      "metadata": {
        "id": "FpFXxf_j6aKv"
      }
    },
    {
      "cell_type": "code",
      "source": [
        "try:\n",
        "  numero_1 = float(input(\"Digite um número: \"))\n",
        "  numero_2 = float(input(\"Digite outro número: \"))\n",
        "  divisao = numero_1 / numero_2\n",
        "  print(divisao)\n",
        "except TypeError:\n",
        "  print(\"Não foi possível calcular a divisão. Os dados fornecidos são inválidos\")\n",
        "except ValueError:\n",
        "  print(\"Valor inválido. Refaça a operação.\")"
      ],
      "metadata": {
        "colab": {
          "base_uri": "https://localhost:8080/"
        },
        "id": "JjlL81KD6ge0",
        "outputId": "7932e269-7eed-46ec-e446-6cf418e77466"
      },
      "execution_count": null,
      "outputs": [
        {
          "output_type": "stream",
          "name": "stdout",
          "text": [
            "Digite um número: 2\n",
            "Digite outro número: r\n",
            "Valor inválido. Refaça a operação.\n"
          ]
        }
      ]
    },
    {
      "cell_type": "code",
      "source": [
        "try:\n",
        "    numero_1 = float(input())\n",
        "    numero_2 = float(input())\n",
        "    divisao = numero_1 / numero_2\n",
        "except Exception as e:\n",
        "    print(type(e), f'Erro: {e}')\n"
      ],
      "metadata": {
        "colab": {
          "base_uri": "https://localhost:8080/"
        },
        "id": "3mVbHv2hVZ--",
        "outputId": "2a5ac434-d9d6-4dd4-ee2b-b6c581848afb"
      },
      "execution_count": null,
      "outputs": [
        {
          "output_type": "stream",
          "name": "stdout",
          "text": [
            "2\n",
            "0\n",
            "<class 'ZeroDivisionError'> Erro: float division by zero\n"
          ]
        }
      ]
    },
    {
      "cell_type": "code",
      "source": [
        "idades = {'Júlia': 16, 'Carol': 23, 'Alberto': 19, 'Roberta': 17}\n",
        "\n",
        "try:\n",
        "  nome = input(\"Digite um nome de usuário: \")\n",
        "  resultado = idades[nome]\n",
        "  print(resultado)\n",
        "except KeyError:\n",
        "  print(\"Usuário não cadastrado(a) no sistema\")"
      ],
      "metadata": {
        "id": "YLXBHWSD6wVy",
        "colab": {
          "base_uri": "https://localhost:8080/"
        },
        "outputId": "b391b6ca-65d2-4eb1-edae-743e94f3d594"
      },
      "execution_count": null,
      "outputs": [
        {
          "output_type": "stream",
          "name": "stdout",
          "text": [
            "Digite um nome de usuário: Maria\n",
            "Usuário não cadastrado(a) no sistema\n"
          ]
        }
      ]
    },
    {
      "cell_type": "code",
      "source": [
        "def converte_lista(lista):\n",
        "    try:\n",
        "        nova_lista = [float(elemento) for elemento in lista]\n",
        "    except Exception as e:\n",
        "        print(type(e), f'Erro: {e}')\n",
        "    else:\n",
        "        return nova_lista\n",
        "    finally:\n",
        "        print('Fim da execução da função')"
      ],
      "metadata": {
        "id": "e3VVgR4ru78V"
      },
      "execution_count": null,
      "outputs": []
    },
    {
      "cell_type": "code",
      "source": [
        "lista1 = [4,6,7,9,10,4]\n",
        "lista2 = [-4,6,8,7,9]\n",
        "\n",
        "def soma_listas(lista1, lista2):\n",
        "  try:\n",
        "      if len(lista1) == len(lista2):\n",
        "          dados = [(lista1[i], lista2[i], lista1[i]+lista2[i]) for i in range(len(lista1))]\n",
        "      else:\n",
        "          raise IndexError('A quantidade de elementos em cada lista é diferente.')\n",
        "  except Exception as e:\n",
        "     print(type(e), f'Erro: {e}')\n",
        "  else:\n",
        "     return dados"
      ],
      "metadata": {
        "id": "rKjiCX_8zshX"
      },
      "execution_count": null,
      "outputs": []
    },
    {
      "cell_type": "code",
      "source": [
        "gabarito = ['D', 'A', 'B', 'C', 'A']\n",
        "\n",
        "# Criando a função que recebe a lista de listas com as notas dos estudantes\n",
        "def corretor(testes: list):\n",
        "  pontuacoes = [] # criando a lista que receberá as pontuações caso a exceção não seja lançada\n",
        "  try:\n",
        "    for teste in testes:\n",
        "      nota = 0 # variável que acumula a nota de cada estudante\n",
        "      for i in range(len(teste)):\n",
        "        if teste[i] not in ['A', 'B', 'C', 'D']: # Verificamos se temos uma alternativa valida\n",
        "          raise ValueError(f'A alternativa {teste[i]} não é uma opção de alternativa válida')\n",
        "        elif teste[i] == gabarito[i]: # Verificamos se as respostas são iguais e adicionamos à nota\n",
        "          nota += 1\n",
        "      pontuacoes.append(nota) # adicionamos a nota do(a) estudante na lista de pontuações\n",
        "  except Exception as e:\n",
        "    print(e)\n",
        "  else:\n",
        "    return pontuacoes # retornando a lista de pontuações se não lançarmos a exceção"
      ],
      "metadata": {
        "id": "GHsz0Bfq2Pgm"
      },
      "execution_count": null,
      "outputs": []
    },
    {
      "cell_type": "code",
      "source": [
        "# Testando no exemplo que não lança exceção\n",
        "testes_sem_ex = [['D', 'A', 'B', 'C', 'A'], ['C', 'A', 'A', 'C', 'A'], ['D', 'B', 'A', 'C', 'A']]\n",
        "corretor(testes_sem_ex)"
      ],
      "metadata": {
        "colab": {
          "base_uri": "https://localhost:8080/"
        },
        "id": "HtFED8DU4kTz",
        "outputId": "e2e64c32-3aba-43ac-e9d4-0d97302d334e"
      },
      "execution_count": null,
      "outputs": [
        {
          "output_type": "execute_result",
          "data": {
            "text/plain": [
              "[5, 3, 3]"
            ]
          },
          "metadata": {},
          "execution_count": 21
        }
      ]
    },
    {
      "cell_type": "code",
      "source": [
        "# Testando no exemplo que lança exceção\n",
        "testes_com_ex = [['D', 'A', 'B', 'C', 'A'], ['C', 'A', 'A', 'E', 'A'], ['D', 'B', 'A', 'C', 'A']]\n",
        "corretor(testes_com_ex)"
      ],
      "metadata": {
        "colab": {
          "base_uri": "https://localhost:8080/"
        },
        "id": "d5QZWxNq45kR",
        "outputId": "7c4a843c-29d0-4f78-874f-c153626c8067"
      },
      "execution_count": null,
      "outputs": [
        {
          "output_type": "stream",
          "name": "stdout",
          "text": [
            "A alternativa E não é uma opção de alternativa válida\n"
          ]
        }
      ]
    },
    {
      "cell_type": "code",
      "source": [
        "def avalia_texto(texto: list):\n",
        "  for palavra in texto:\n",
        "    if(',' or '.' or '!' or '?') in palavra:\n",
        "      raise ValueError(f'O texto apresenta pontuações na palavra \"{palavra}\".')\n",
        "  return \"Texto já tratado!\"\n"
      ],
      "metadata": {
        "id": "gcvIh_yX483t"
      },
      "execution_count": null,
      "outputs": []
    },
    {
      "cell_type": "code",
      "source": [
        "# Testando no exemplo que não lança exceção\n",
        "lista_tratada = ['Python', 'é', 'uma', 'linguagem', 'de', 'programação', 'poderosa', 'versátil',\n",
        "                  'e', 'fácil', 'de', 'aprender', 'utilizada', 'em', 'diversos', 'campos', 'desde',\n",
        "                  'análise', 'de', 'dados', 'até', 'inteligência', 'artificial']\n",
        "\n",
        "try:\n",
        "  avaliacao = avalia_texto(lista_tratada)\n",
        "except Exception as e:\n",
        "  print(e)\n",
        "else:\n",
        "  print(avaliacao)"
      ],
      "metadata": {
        "colab": {
          "base_uri": "https://localhost:8080/"
        },
        "id": "1L1919ZZ7S6z",
        "outputId": "03583291-cf58-4cb5-a4a5-fc67015c4f5d"
      },
      "execution_count": null,
      "outputs": [
        {
          "output_type": "stream",
          "name": "stdout",
          "text": [
            "Texto já tratado!\n"
          ]
        }
      ]
    },
    {
      "cell_type": "code",
      "source": [
        "# Testando no exemplo que lança exceção\n",
        "lista_nao_tratada = ['Python', 'é', 'uma', 'linguagem', 'de', 'programação', 'poderosa,', 'versátil',\n",
        "                  'e', 'fácil,', 'de', 'aprender', 'utilizada', 'em', 'diversos', 'campos,', 'desde',\n",
        "                  'análise', 'de', 'dados', 'até', 'inteligência', 'artificial!']\n",
        "\n",
        "try:\n",
        "  avaliacao = avalia_texto(lista_nao_tratada)\n",
        "except Exception as e:\n",
        "  print(e)\n",
        "else:\n",
        "  print(avaliacao)"
      ],
      "metadata": {
        "colab": {
          "base_uri": "https://localhost:8080/"
        },
        "id": "xC8LZzHk7emU",
        "outputId": "e1c41e8d-4154-4a4c-8b10-00f93a09d450"
      },
      "execution_count": null,
      "outputs": [
        {
          "output_type": "stream",
          "name": "stdout",
          "text": [
            "O texto apresenta pontuações na palavra \"poderosa,\".\n"
          ]
        }
      ]
    },
    {
      "cell_type": "code",
      "source": [
        "# criando a função que recebe as duas listas e a operação a ser realizada\n",
        "def divide_colunas(lista_1: list, lista_2: list) -> list:\n",
        "  # try-except que verifica se é possível calcular a divisão e lança exceção se as listas tem tamanhos diferentes\n",
        "  # ou se temos alguma divisão por zero em um dos cálculos entre os números das listas\n",
        "  try:\n",
        "    if len(lista_1) != len(lista_2): # Verificando se as listas tem o mesmo tamanho, se não lança uma exceção\n",
        "      raise ValueError(\"As listas precisam ter o mesmo tamanho\")\n",
        "\n",
        "    # A função zip pareia os elementos das listas e uma lista é gerada por meio da razão entre os pares\n",
        "    resultado = [round(a / b, 2) for a, b in zip(lista_1, lista_2)]\n",
        "  except ValueError as e:\n",
        "    print(e)\n",
        "  except ZeroDivisionError as e:\n",
        "    print(f\"{e}: A 2ª lista não pode possuir um valor igual a 0\")\n",
        "  else:\n",
        "    return resultado\n"
      ],
      "metadata": {
        "id": "ikO_EelR7lJE"
      },
      "execution_count": null,
      "outputs": []
    },
    {
      "cell_type": "code",
      "source": [
        "# Testando no exemplo que não lança exceção\n",
        "pressoes = [100, 120, 140, 160, 180]\n",
        "temperaturas = [20, 25, 30, 35, 40]\n",
        "\n",
        "divide_colunas(pressoes, temperaturas)\n"
      ],
      "metadata": {
        "colab": {
          "base_uri": "https://localhost:8080/"
        },
        "id": "MmTfB0g58d5N",
        "outputId": "9215c494-3d0c-4d39-d22f-4fa91e397ad9"
      },
      "execution_count": null,
      "outputs": [
        {
          "output_type": "execute_result",
          "data": {
            "text/plain": [
              "[5.0, 4.8, 4.67, 4.57, 4.5]"
            ]
          },
          "metadata": {},
          "execution_count": 31
        }
      ]
    },
    {
      "cell_type": "code",
      "source": [
        "# Testando no exemplo que lança exceção (ZeroDivisionError)\n",
        "pressoes = [60, 120, 140, 160, 180]\n",
        "temperaturas = [0, 25, 30, 35, 40]\n",
        "\n",
        "divide_colunas(pressoes, temperaturas)\n"
      ],
      "metadata": {
        "colab": {
          "base_uri": "https://localhost:8080/"
        },
        "id": "1aSM48Cs8en7",
        "outputId": "10c658f3-7c46-4462-c3c1-7117242572fa"
      },
      "execution_count": null,
      "outputs": [
        {
          "output_type": "stream",
          "name": "stdout",
          "text": [
            "division by zero: A 2ª lista não pode possuir um valor igual a 0\n"
          ]
        }
      ]
    },
    {
      "cell_type": "code",
      "source": [
        "# Testando no exemplo que lança exceção (ValueError)\n",
        "pressoes = [100, 120, 140, 160]\n",
        "temperaturas = [20, 25, 30, 35, 40]\n",
        "\n",
        "divide_colunas(pressoes, temperaturas)\n"
      ],
      "metadata": {
        "colab": {
          "base_uri": "https://localhost:8080/"
        },
        "id": "tggYiSks8x-_",
        "outputId": "4ae4e065-a73d-4dd9-dbea-ed6e938bc891"
      },
      "execution_count": null,
      "outputs": [
        {
          "output_type": "stream",
          "name": "stdout",
          "text": [
            "As listas precisam ter o mesmo tamanho\n"
          ]
        }
      ]
    },
    {
      "cell_type": "markdown",
      "source": [
        "#Biblioteca Numpy"
      ],
      "metadata": {
        "id": "mduyn8pdJl5A"
      }
    },
    {
      "cell_type": "code",
      "source": [
        "import numpy as np\n",
        "\n",
        "ano_inicial = 2002\n",
        "ano_final = 2102\n",
        "np.arange(ano_inicial, ano_final + 1, 4)"
      ],
      "metadata": {
        "colab": {
          "base_uri": "https://localhost:8080/"
        },
        "id": "8w995yMI82Hf",
        "outputId": "8309235a-9dfc-4ff8-b24b-046637519499"
      },
      "execution_count": null,
      "outputs": [
        {
          "output_type": "execute_result",
          "data": {
            "text/plain": [
              "array([2002, 2006, 2010, 2014, 2018, 2022, 2026, 2030, 2034, 2038, 2042,\n",
              "       2046, 2050, 2054, 2058, 2062, 2066, 2070, 2074, 2078, 2082, 2086,\n",
              "       2090, 2094, 2098, 2102])"
            ]
          },
          "metadata": {},
          "execution_count": 1
        }
      ]
    }
  ]
}