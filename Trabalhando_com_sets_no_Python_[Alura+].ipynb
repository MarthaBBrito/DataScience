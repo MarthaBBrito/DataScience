{
  "nbformat": 4,
  "nbformat_minor": 0,
  "metadata": {
    "colab": {
      "provenance": [],
      "collapsed_sections": [
        "ehKwJvXMbEuW"
      ],
      "include_colab_link": true
    },
    "kernelspec": {
      "name": "python3",
      "display_name": "Python 3"
    },
    "language_info": {
      "name": "python"
    }
  },
  "cells": [
    {
      "cell_type": "markdown",
      "metadata": {
        "id": "view-in-github",
        "colab_type": "text"
      },
      "source": [
        "<a href=\"https://colab.research.google.com/github/MarthaBBrito/DataScience/blob/main/Trabalhando_com_sets_no_Python_%5BAlura%2B%5D.ipynb\" target=\"_parent\"><img src=\"https://colab.research.google.com/assets/colab-badge.svg\" alt=\"Open In Colab\"/></a>"
      ]
    },
    {
      "cell_type": "markdown",
      "source": [
        "# **Trabalhando com Sets no Python**"
      ],
      "metadata": {
        "id": "a_0iJT3mqcck"
      }
    },
    {
      "cell_type": "markdown",
      "source": [
        "## **Criação dos sets**"
      ],
      "metadata": {
        "id": "hwdXSll0wgSW"
      }
    },
    {
      "cell_type": "markdown",
      "source": [
        "### **Utilizando as chaves `{ }`:**\n",
        "\n",
        "\n"
      ],
      "metadata": {
        "id": "yfaf8Gn6jALR"
      }
    },
    {
      "cell_type": "code",
      "source": [
        "carros = {'Jetta Variant', 'Passat', 'Crossfox', 'Dodge Jorney'}\n",
        "\n",
        "print(carros)"
      ],
      "metadata": {
        "id": "FK3qZ08ckgXK",
        "colab": {
          "base_uri": "https://localhost:8080/"
        },
        "outputId": "e1b6b335-fe11-4124-b364-d51fcade0728"
      },
      "execution_count": null,
      "outputs": [
        {
          "output_type": "stream",
          "name": "stdout",
          "text": [
            "{'Dodge Jorney', 'Crossfox', 'Jetta Variant', 'Passat'}\n",
            "{'Dodge Jorney', 'Crossfox', 'Jetta Variant', 'Passat'}\n"
          ]
        }
      ]
    },
    {
      "cell_type": "code",
      "source": [
        "# Sets com elementos diferentes\n",
        "\n",
        "elementos_diferentes = {2017, \"Onix\", 37123.04, True}\n",
        "print(elementos_diferentes)"
      ],
      "metadata": {
        "colab": {
          "base_uri": "https://localhost:8080/"
        },
        "id": "6A1qeFDQEKuM",
        "outputId": "d90b5af6-6831-4ff5-e0bb-283cdb367d52"
      },
      "execution_count": null,
      "outputs": [
        {
          "output_type": "stream",
          "name": "stdout",
          "text": [
            "{2017, 37123.04, 'Onix', True}\n"
          ]
        }
      ]
    },
    {
      "cell_type": "code",
      "source": [
        "carros[0]"
      ],
      "metadata": {
        "colab": {
          "base_uri": "https://localhost:8080/",
          "height": 166
        },
        "id": "LSffwZiinhIP",
        "outputId": "5fc8617b-68eb-4643-cac3-46bd9c09730f"
      },
      "execution_count": null,
      "outputs": [
        {
          "output_type": "error",
          "ename": "TypeError",
          "evalue": "ignored",
          "traceback": [
            "\u001b[0;31m---------------------------------------------------------------------------\u001b[0m",
            "\u001b[0;31mTypeError\u001b[0m                                 Traceback (most recent call last)",
            "\u001b[0;32m<ipython-input-4-196d22ee0193>\u001b[0m in \u001b[0;36m<module>\u001b[0;34m\u001b[0m\n\u001b[0;32m----> 1\u001b[0;31m \u001b[0mcarros\u001b[0m\u001b[0;34m[\u001b[0m\u001b[0;36m0\u001b[0m\u001b[0;34m]\u001b[0m\u001b[0;34m\u001b[0m\u001b[0;34m\u001b[0m\u001b[0m\n\u001b[0m",
            "\u001b[0;31mTypeError\u001b[0m: 'set' object is not subscriptable"
          ]
        }
      ]
    },
    {
      "cell_type": "code",
      "source": [
        "for i in carros:\n",
        "  print(i)"
      ],
      "metadata": {
        "id": "dcccTfDPa_bH",
        "colab": {
          "base_uri": "https://localhost:8080/"
        },
        "outputId": "032807a3-10d9-40c7-bf8d-d4c7e66888ec"
      },
      "execution_count": null,
      "outputs": [
        {
          "output_type": "stream",
          "name": "stdout",
          "text": [
            "Dodge Jorney\n",
            "Crossfox\n",
            "Jetta Variant\n",
            "Passat\n"
          ]
        }
      ]
    },
    {
      "cell_type": "markdown",
      "source": [
        "### **Utilizando listas e a função `set()`**"
      ],
      "metadata": {
        "id": "A7YsVhE6jHxL"
      }
    },
    {
      "cell_type": "code",
      "source": [
        "lista_escolas = ['Data Science', 'Programação', 'Front-end',\n",
        "                 'Mobile', 'DevOps', 'UX & Design', 'Inovação e Gestão']"
      ],
      "metadata": {
        "id": "SPF6Lemvr155"
      },
      "execution_count": null,
      "outputs": []
    },
    {
      "cell_type": "code",
      "source": [
        "escolas_set = set(lista_escolas)\n",
        "\n",
        "print(escolas_set)"
      ],
      "metadata": {
        "colab": {
          "base_uri": "https://localhost:8080/"
        },
        "id": "z4XSX7EUQZTk",
        "outputId": "32728ba8-0e33-4310-d0bc-4a5e1c7f6f55"
      },
      "execution_count": null,
      "outputs": [
        {
          "output_type": "stream",
          "name": "stdout",
          "text": [
            "{'UX & Design', 'Mobile', 'Programação', 'Data Science', 'Front-end', 'Inovação e Gestão', 'DevOps'}\n"
          ]
        }
      ]
    },
    {
      "cell_type": "markdown",
      "source": [
        "### **Trabalhando com elementos repetidos:**"
      ],
      "metadata": {
        "id": "L65NhBb1jawr"
      }
    },
    {
      "cell_type": "code",
      "source": [
        "lista_carros = ['Jetta Variant', 'Passat', 'Crossfox', 'Passat', 'Crossfox',\n",
        "                'Jetta Variant', 'Dodge Journey']\n",
        "nova_lista = set(lista_carros)"
      ],
      "metadata": {
        "id": "VzHw4PPKr1-O"
      },
      "execution_count": null,
      "outputs": []
    },
    {
      "cell_type": "code",
      "source": [
        "# Utilizando a função len() para verificar a quantidade de elementos\n",
        "print(len(lista_carros))"
      ],
      "metadata": {
        "colab": {
          "base_uri": "https://localhost:8080/"
        },
        "id": "LZAOxogMd8qW",
        "outputId": "0ce9f7b1-b05e-4f93-816f-66bc250a752e"
      },
      "execution_count": null,
      "outputs": [
        {
          "output_type": "stream",
          "name": "stdout",
          "text": [
            "7\n"
          ]
        }
      ]
    },
    {
      "cell_type": "code",
      "source": [
        "print(nova_lista)"
      ],
      "metadata": {
        "colab": {
          "base_uri": "https://localhost:8080/"
        },
        "id": "rGMVqeWhd9YO",
        "outputId": "62b896da-6f46-413f-b824-259f9eb9a838"
      },
      "execution_count": null,
      "outputs": [
        {
          "output_type": "stream",
          "name": "stdout",
          "text": [
            "{'Crossfox', 'Dodge Journey', 'Jetta Variant', 'Passat'}\n"
          ]
        }
      ]
    },
    {
      "cell_type": "code",
      "source": [
        "len(nova_lista)"
      ],
      "metadata": {
        "colab": {
          "base_uri": "https://localhost:8080/"
        },
        "id": "rXUxHPawWq8x",
        "outputId": "f3a43e8b-26e3-4707-cd8d-d92327bcc116"
      },
      "execution_count": null,
      "outputs": [
        {
          "output_type": "execute_result",
          "data": {
            "text/plain": [
              "4"
            ]
          },
          "metadata": {},
          "execution_count": 11
        }
      ]
    },
    {
      "cell_type": "markdown",
      "source": [
        "## **Operações com Sets**\n"
      ],
      "metadata": {
        "id": "U8Ur2s1KQlgv"
      }
    },
    {
      "cell_type": "markdown",
      "source": [
        "Para esse exercício, vamos precisar criar conjuntos com os **acessórios** de alguns modelos de carros, são eles: **Passat**, **Crossfox** e **Jetta Variant**."
      ],
      "metadata": {
        "id": "Jcko59YgXiT4"
      }
    },
    {
      "cell_type": "code",
      "source": [
        "acessorios_passat = {'Rodas de Liga', 'Travas Elétricas', 'Piloto Automático',\n",
        "                     'Central Multimídia'}\n",
        "print(acessorios_passat)"
      ],
      "metadata": {
        "colab": {
          "base_uri": "https://localhost:8080/"
        },
        "id": "zA95t7-YXoE4",
        "outputId": "e4cc4182-6c75-42bc-c2c0-7e9754bbf765"
      },
      "execution_count": null,
      "outputs": [
        {
          "output_type": "stream",
          "name": "stdout",
          "text": [
            "{'Central Multimídia', 'Rodas de Liga', 'Travas Elétricas', 'Piloto Automático'}\n"
          ]
        }
      ]
    },
    {
      "cell_type": "code",
      "source": [
        "acessorios_crossfox = {'Piloto Automático', 'Teto Panorâmico', '4 X 4',\n",
        "                       'Central Multimídia'}\n",
        "print(acessorios_crossfox)"
      ],
      "metadata": {
        "colab": {
          "base_uri": "https://localhost:8080/"
        },
        "id": "lfgMiNEyXoE5",
        "outputId": "c8a711c4-a901-4e80-8e7e-0286e55f6f00"
      },
      "execution_count": null,
      "outputs": [
        {
          "output_type": "stream",
          "name": "stdout",
          "text": [
            "{'4 X 4', 'Teto Panorâmico', 'Central Multimídia', 'Piloto Automático'}\n"
          ]
        }
      ]
    },
    {
      "cell_type": "code",
      "source": [
        "acessorios_jetta = {'Controle de Estabilidade', 'Câmbio Automático', 'Travas Elétricas',\n",
        "                    'Rodas de Liga'}\n",
        "print(acessorios_jetta)"
      ],
      "metadata": {
        "colab": {
          "base_uri": "https://localhost:8080/"
        },
        "id": "2dsJa9sAXoE5",
        "outputId": "98714cff-5097-468f-9043-9f93f49ce49f"
      },
      "execution_count": null,
      "outputs": [
        {
          "output_type": "stream",
          "name": "stdout",
          "text": [
            "{'Câmbio Automático', 'Controle de Estabilidade', 'Rodas de Liga', 'Travas Elétricas'}\n"
          ]
        }
      ]
    },
    {
      "cell_type": "markdown",
      "source": [
        "### **Disjunção**"
      ],
      "metadata": {
        "id": "Pp7URtpTQnXn"
      }
    },
    {
      "cell_type": "markdown",
      "source": [
        "<img src='https://i.imgur.com/o2wsgPo.png' width = 50%>"
      ],
      "metadata": {
        "id": "IRmgINkLWsjs"
      }
    },
    {
      "cell_type": "code",
      "source": [
        "set.isdisjoint(acessorios_passat, acessorios_crossfox)"
      ],
      "metadata": {
        "colab": {
          "base_uri": "https://localhost:8080/"
        },
        "id": "n3GfcrMHW4nu",
        "outputId": "5ef94e0c-0e81-42e0-d41b-9e76ac6dd48b"
      },
      "execution_count": null,
      "outputs": [
        {
          "output_type": "execute_result",
          "data": {
            "text/plain": [
              "False"
            ]
          },
          "metadata": {},
          "execution_count": 15
        }
      ]
    },
    {
      "cell_type": "markdown",
      "source": [
        "### **Interseção**"
      ],
      "metadata": {
        "id": "0YYUbNDFWpvB"
      }
    },
    {
      "cell_type": "markdown",
      "source": [
        "<img src='https://i.imgur.com/6W7bxU1.png' width = 50%>"
      ],
      "metadata": {
        "id": "0OPz9M8vW-BZ"
      }
    },
    {
      "cell_type": "code",
      "source": [
        "acessorios_passat & acessorios_crossfox"
      ],
      "metadata": {
        "colab": {
          "base_uri": "https://localhost:8080/"
        },
        "id": "7Xg8Tyb3XIbs",
        "outputId": "5f70469b-7e0b-4b55-b51b-099badfacd43"
      },
      "execution_count": null,
      "outputs": [
        {
          "output_type": "execute_result",
          "data": {
            "text/plain": [
              "{'Central Multimídia', 'Piloto Automático'}"
            ]
          },
          "metadata": {},
          "execution_count": 16
        }
      ]
    },
    {
      "cell_type": "code",
      "source": [
        "acessorios_passat & acessorios_jetta"
      ],
      "metadata": {
        "colab": {
          "base_uri": "https://localhost:8080/"
        },
        "id": "xQ6X-XbsYz_T",
        "outputId": "66e12a51-6e08-4537-8229-690b4051be68"
      },
      "execution_count": null,
      "outputs": [
        {
          "output_type": "execute_result",
          "data": {
            "text/plain": [
              "{'Rodas de Liga', 'Travas Elétricas'}"
            ]
          },
          "metadata": {},
          "execution_count": 17
        }
      ]
    },
    {
      "cell_type": "code",
      "source": [
        "set.intersection(acessorios_passat, acessorios_crossfox, acessorios_jetta)"
      ],
      "metadata": {
        "colab": {
          "base_uri": "https://localhost:8080/"
        },
        "id": "OHa9LqNdY2ht",
        "outputId": "aaed5e18-518e-414a-afd1-1134aa17665b"
      },
      "execution_count": null,
      "outputs": [
        {
          "output_type": "execute_result",
          "data": {
            "text/plain": [
              "set()"
            ]
          },
          "metadata": {},
          "execution_count": 6
        }
      ]
    },
    {
      "cell_type": "markdown",
      "source": [
        "### **União**"
      ],
      "metadata": {
        "id": "GzUoqpFVZGIu"
      }
    },
    {
      "cell_type": "markdown",
      "source": [
        "<img src='https://i.imgur.com/C3MrKmK.png' width = 50%>"
      ],
      "metadata": {
        "id": "Me_90Pk7ZG9d"
      }
    },
    {
      "cell_type": "code",
      "source": [
        "acessorios_passat | acessorios_crossfox"
      ],
      "metadata": {
        "colab": {
          "base_uri": "https://localhost:8080/"
        },
        "id": "kYo9i7g5WrX_",
        "outputId": "5d2b285d-d4f6-4ace-a754-1c0e99bcfb67"
      },
      "execution_count": null,
      "outputs": [
        {
          "output_type": "execute_result",
          "data": {
            "text/plain": [
              "{'4 X 4',\n",
              " 'Central Multimídia',\n",
              " 'Piloto Automático',\n",
              " 'Rodas de Liga',\n",
              " 'Teto Panorâmico',\n",
              " 'Travas Elétricas'}"
            ]
          },
          "metadata": {},
          "execution_count": 19
        }
      ]
    },
    {
      "cell_type": "code",
      "source": [
        "set.union(acessorios_passat, acessorios_crossfox, acessorios_jetta, {'Teto Solar'})"
      ],
      "metadata": {
        "colab": {
          "base_uri": "https://localhost:8080/"
        },
        "id": "h7RZmv19auKU",
        "outputId": "27286b33-f210-44b8-abb6-570a477347f8"
      },
      "execution_count": null,
      "outputs": [
        {
          "output_type": "execute_result",
          "data": {
            "text/plain": [
              "{'4 X 4',\n",
              " 'Central Multimídia',\n",
              " 'Controle de Estabilidade',\n",
              " 'Câmbio Automático',\n",
              " 'Piloto Automático',\n",
              " 'Rodas de Liga',\n",
              " 'Teto Panorâmico',\n",
              " 'Teto Solar',\n",
              " 'Travas Elétricas'}"
            ]
          },
          "metadata": {},
          "execution_count": 20
        }
      ]
    },
    {
      "cell_type": "markdown",
      "source": [
        "## **Perfomance**"
      ],
      "metadata": {
        "id": "wMelozu-ijag"
      }
    },
    {
      "cell_type": "code",
      "source": [
        "carros"
      ],
      "metadata": {
        "colab": {
          "base_uri": "https://localhost:8080/"
        },
        "id": "EhyRdV4CLvVX",
        "outputId": "fefef708-76fd-4c26-f167-5b68e328368d"
      },
      "execution_count": null,
      "outputs": [
        {
          "output_type": "execute_result",
          "data": {
            "text/plain": [
              "{'Crossfox', 'Dodge Jorney', 'Jetta Variant', 'Passat'}"
            ]
          },
          "metadata": {},
          "execution_count": 21
        }
      ]
    },
    {
      "cell_type": "code",
      "source": [
        "'Crossfox' in carros"
      ],
      "metadata": {
        "colab": {
          "base_uri": "https://localhost:8080/"
        },
        "id": "PnRZ7Dp0Lwrt",
        "outputId": "9289fce6-5c30-4215-fbdf-7b388f90e98f"
      },
      "execution_count": null,
      "outputs": [
        {
          "output_type": "execute_result",
          "data": {
            "text/plain": [
              "True"
            ]
          },
          "metadata": {},
          "execution_count": 22
        }
      ]
    },
    {
      "cell_type": "markdown",
      "source": [
        "### **Perfomance com vários elementos**"
      ],
      "metadata": {
        "id": "xLpWitV6L0At"
      }
    },
    {
      "cell_type": "code",
      "source": [
        "elementos_set = set(range(10000))\n",
        "elementos_list = list(range(10000))\n",
        "elementos_tuple = tuple(range(10000))"
      ],
      "metadata": {
        "id": "-OErengzhloO"
      },
      "execution_count": null,
      "outputs": []
    },
    {
      "cell_type": "code",
      "source": [
        "def verificar_elemento_in(elemento_iteravel):\n",
        "\n",
        "  for i in range(10000):\n",
        "    if i in elemento_iteravel:\n",
        "      pass"
      ],
      "metadata": {
        "id": "r5v0f69hhQpJ"
      },
      "execution_count": null,
      "outputs": []
    },
    {
      "cell_type": "code",
      "source": [
        "print(\"Tempo de execução set: \")\n",
        "%time verificar_elemento_in(elementos_set)\n",
        "print(\"=\"*30)\n",
        "\n",
        "print(\"Tempo de execução lista: \")\n",
        "%time verificar_elemento_in(elementos_list)\n",
        "print(\"=\"*30)\n",
        "\n",
        "print(\"Tempo de execução tuplas: \")\n",
        "%time verificar_elemento_in(elementos_tuple)\n",
        "print(\"=\"*30)"
      ],
      "metadata": {
        "colab": {
          "base_uri": "https://localhost:8080/"
        },
        "id": "Ny1_EsyZJxea",
        "outputId": "47b4804d-b711-4476-e686-2e66e9783ecd"
      },
      "execution_count": null,
      "outputs": [
        {
          "output_type": "stream",
          "name": "stdout",
          "text": [
            "Tempo de execução set: \n",
            "CPU times: user 1.31 ms, sys: 30 µs, total: 1.34 ms\n",
            "Wall time: 2.4 ms\n",
            "==============================\n",
            "Tempo de execução lista: \n",
            "CPU times: user 601 ms, sys: 3.42 ms, total: 605 ms\n",
            "Wall time: 612 ms\n",
            "==============================\n",
            "Tempo de execução tuplas: \n",
            "CPU times: user 621 ms, sys: 1.33 ms, total: 623 ms\n",
            "Wall time: 626 ms\n",
            "==============================\n"
          ]
        }
      ]
    }
  ]
}