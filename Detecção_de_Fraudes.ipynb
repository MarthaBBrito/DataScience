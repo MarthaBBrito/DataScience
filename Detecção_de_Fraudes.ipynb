{
  "nbformat": 4,
  "nbformat_minor": 0,
  "metadata": {
    "colab": {
      "provenance": [],
      "authorship_tag": "ABX9TyNrq0pznbs7cD8mgcpLa1MO",
      "include_colab_link": true
    },
    "kernelspec": {
      "name": "python3",
      "display_name": "Python 3"
    },
    "language_info": {
      "name": "python"
    }
  },
  "cells": [
    {
      "cell_type": "markdown",
      "metadata": {
        "id": "view-in-github",
        "colab_type": "text"
      },
      "source": [
        "<a href=\"https://colab.research.google.com/github/MarthaBBrito/DataScience/blob/main/Detec%C3%A7%C3%A3o_de_Fraudes.ipynb\" target=\"_parent\"><img src=\"https://colab.research.google.com/assets/colab-badge.svg\" alt=\"Open In Colab\"/></a>"
      ]
    },
    {
      "cell_type": "markdown",
      "source": [
        "#Detector de Fraudes\n",
        "Detectar fraudes em uma base de dados geralmente envolve a criação de um modelo de aprendizado de máquina que identifique padrões anômalos ou fraudulentos.\n",
        "\n",
        "##Bibliotecas necessárias\n",
        "\n"
      ],
      "metadata": {
        "id": "TaOP7dtKzD-G"
      }
    },
    {
      "cell_type": "code",
      "execution_count": 4,
      "metadata": {
        "id": "wOpgSV8dyzFx"
      },
      "outputs": [],
      "source": [
        "import pandas as pd\n",
        "import numpy as np\n",
        "from sklearn.model_selection import train_test_split\n",
        "from sklearn.ensemble import RandomForestClassifier\n",
        "from sklearn.metrics import classification_report, confusion_matrix"
      ]
    },
    {
      "cell_type": "markdown",
      "source": [
        "##Importando os dados"
      ],
      "metadata": {
        "id": "rP75nv25zYg_"
      }
    },
    {
      "cell_type": "code",
      "source": [
        "# Carregar os dados\n",
        "df = pd.read_csv(\"fraud_data_pt.csv\")\n",
        "# Visualizar as primeiras linhas\n",
        "print(df.head())\n",
        "# Verificar informações gerais\n",
        "print(df.info())\n",
        "# Resumo estatístico\n",
        "print(df.describe())"
      ],
      "metadata": {
        "colab": {
          "base_uri": "https://localhost:8080/"
        },
        "id": "0WEoZAPYzcOX",
        "outputId": "64675208-bd39-414b-c504-6dee8e2cdc66"
      },
      "execution_count": 5,
      "outputs": [
        {
          "output_type": "stream",
          "name": "stdout",
          "text": [
            "   id_transacao        valor tipo_transacao  idade_conta_dias  \\\n",
            "0             1   469.268090  transferência              1244   \n",
            "1             2  3010.121431      pagamento              4999   \n",
            "2             3  1316.745694          saque               163   \n",
            "3             4   912.942554          saque              1975   \n",
            "4             5   169.624870          saque              3292   \n",
            "\n",
            "   transacao_internacional  possui_chargeback  fraude  \n",
            "0                        0                  0       0  \n",
            "1                        0                  0       0  \n",
            "2                        0                  0       0  \n",
            "3                        0                  0       0  \n",
            "4                        1                  0       0  \n",
            "<class 'pandas.core.frame.DataFrame'>\n",
            "RangeIndex: 1000 entries, 0 to 999\n",
            "Data columns (total 7 columns):\n",
            " #   Column                   Non-Null Count  Dtype  \n",
            "---  ------                   --------------  -----  \n",
            " 0   id_transacao             1000 non-null   int64  \n",
            " 1   valor                    1000 non-null   float64\n",
            " 2   tipo_transacao           1000 non-null   object \n",
            " 3   idade_conta_dias         1000 non-null   int64  \n",
            " 4   transacao_internacional  1000 non-null   int64  \n",
            " 5   possui_chargeback        1000 non-null   int64  \n",
            " 6   fraude                   1000 non-null   int64  \n",
            "dtypes: float64(1), int64(5), object(1)\n",
            "memory usage: 54.8+ KB\n",
            "None\n",
            "       id_transacao        valor  idade_conta_dias  transacao_internacional  \\\n",
            "count   1000.000000  1000.000000       1000.000000              1000.000000   \n",
            "mean     500.500000  1000.126121       2520.677000                 0.229000   \n",
            "std      288.819436  1002.196732       1405.043866                 0.420399   \n",
            "min        1.000000     4.642784          7.000000                 0.000000   \n",
            "25%      250.750000   271.205819       1346.000000                 0.000000   \n",
            "50%      500.500000   709.461070       2452.000000                 0.000000   \n",
            "75%      750.250000  1391.298006       3710.500000                 0.000000   \n",
            "max     1000.000000  8172.445598       4999.000000                 1.000000   \n",
            "\n",
            "       possui_chargeback      fraude  \n",
            "count        1000.000000  1000.00000  \n",
            "mean            0.078000     0.03400  \n",
            "std             0.268306     0.18132  \n",
            "min             0.000000     0.00000  \n",
            "25%             0.000000     0.00000  \n",
            "50%             0.000000     0.00000  \n",
            "75%             0.000000     0.00000  \n",
            "max             1.000000     1.00000  \n"
          ]
        }
      ]
    },
    {
      "cell_type": "markdown",
      "source": [
        "##Pré-processamento\n",
        "\n",
        "Tratar valores ausentes:\n",
        "* Remova ou substitua valores nulos.\n",
        "* Codificar variáveis categóricas: Use `pd.get_dummies` ou `LabelEncoder`.\n",
        "* Escalar os dados: Normalize ou padronize variáveis numéricas."
      ],
      "metadata": {
        "id": "FSnL-DGd0U4f"
      }
    },
    {
      "cell_type": "code",
      "source": [
        "# Verificar valores nulos\n",
        "print(df.isnull().sum())\n",
        "\n",
        "# Preencher valores nulos com a média (exemplo)\n",
        "df.fillna(df.mean(), inplace=True)\n",
        "\n",
        "# Codificar variáveis categóricas\n",
        "df = pd.get_dummies(df, drop_first=True)\n",
        "\n",
        "# Separar recursos e rótulo\n",
        "X = df.drop(\"fraude\", axis=1)  # Suponha que \"is_fraud\" é a coluna alvo\n",
        "y = df[\"fraude\"]\n",
        "\n",
        "fraud_indices = df[df[\"fraude\"] == 1].index\n",
        "\n",
        "# Dividir os dados em treino e teste\n",
        "X_train, X_test, y_train, y_test = train_test_split(X, y, test_size=0.3, random_state=42)"
      ],
      "metadata": {
        "colab": {
          "base_uri": "https://localhost:8080/"
        },
        "id": "jq1WreQu0Z3O",
        "outputId": "f14b0f5d-7fd8-42e6-c843-a81519660068"
      },
      "execution_count": 11,
      "outputs": [
        {
          "output_type": "stream",
          "name": "stdout",
          "text": [
            "id_transacao                    0\n",
            "valor                           0\n",
            "idade_conta_dias                0\n",
            "transacao_internacional         0\n",
            "possui_chargeback               0\n",
            "fraude                          0\n",
            "tipo_transacao_pagamento        0\n",
            "tipo_transacao_saque            0\n",
            "tipo_transacao_transferência    0\n",
            "dtype: int64\n"
          ]
        }
      ]
    },
    {
      "cell_type": "markdown",
      "source": [
        "##Treinando o modelo\n",
        "\n",
        "Vamos usar um Random Forest, que é robusto para detecção de fraudes:"
      ],
      "metadata": {
        "id": "lQ_vZHKt1gb_"
      }
    },
    {
      "cell_type": "code",
      "source": [
        "# Criar o modelo\n",
        "model = RandomForestClassifier(random_state=42)\n",
        "# Treinar o modelo\n",
        "model.fit(X_train, y_train)\n",
        "# Fazer previsões\n",
        "y_pred = model.predict(X_test)"
      ],
      "metadata": {
        "id": "gGvEm9lO1jEe"
      },
      "execution_count": 12,
      "outputs": []
    },
    {
      "cell_type": "markdown",
      "source": [
        "##Avaliando a eficácia do modelo\n",
        "Avalie a eficácia do modelo usando métricas como precisão, recall e F1-score."
      ],
      "metadata": {
        "id": "Fc7i90Ze109V"
      }
    },
    {
      "cell_type": "code",
      "source": [
        "# Matriz de confusão\n",
        "print(confusion_matrix(y_test, y_pred))\n",
        "\n",
        "# Relatório de classificação\n",
        "print(classification_report(y_test, y_pred))"
      ],
      "metadata": {
        "colab": {
          "base_uri": "https://localhost:8080/"
        },
        "id": "R3JA3Rrh1xLG",
        "outputId": "22b024ed-4844-4926-c0b6-27c82191e02c"
      },
      "execution_count": 13,
      "outputs": [
        {
          "output_type": "stream",
          "name": "stdout",
          "text": [
            "[[291   1]\n",
            " [  1   7]]\n",
            "              precision    recall  f1-score   support\n",
            "\n",
            "           0       1.00      1.00      1.00       292\n",
            "           1       0.88      0.88      0.88         8\n",
            "\n",
            "    accuracy                           0.99       300\n",
            "   macro avg       0.94      0.94      0.94       300\n",
            "weighted avg       0.99      0.99      0.99       300\n",
            "\n"
          ]
        }
      ]
    },
    {
      "cell_type": "markdown",
      "source": [
        "##Identificando as fraudes detectadas\n",
        "Supondo que você tenha:\n",
        "\n",
        "* O conjunto de teste `(X_test)` para os dados de entrada.\n",
        "* O alvo real `(y_test)` com os rótulos verdadeiros.\n",
        "* As previsões do modelo `(y_pred)`."
      ],
      "metadata": {
        "id": "a6PTALpH43w4"
      }
    },
    {
      "cell_type": "code",
      "source": [
        "# Adicionar as previsões ao conjunto de teste\n",
        "X_test[\"fraude_real\"] = y_test  # Rótulo verdadeiro\n",
        "X_test[\"fraude_prevista\"] = y_pred  # Previsão do modelo\n",
        "\n",
        "# Filtrar apenas as transações classificadas como fraudulentas\n",
        "fraudes_detectadas = X_test[X_test[\"fraude_prevista\"] == 1]\n",
        "\n",
        "# Exibir as fraudes detectadas pelo modelo\n",
        "print(fraudes_detectadas)\n"
      ],
      "metadata": {
        "colab": {
          "base_uri": "https://localhost:8080/"
        },
        "id": "bPfEvX_T5CUy",
        "outputId": "481adfb9-23ca-4b2c-fab1-444a8480664d"
      },
      "execution_count": 15,
      "outputs": [
        {
          "output_type": "stream",
          "name": "stdout",
          "text": [
            "     id_transacao        valor  idade_conta_dias  transacao_internacional  \\\n",
            "370           371   224.816769              1357                        1   \n",
            "327           328   946.030472              3737                        1   \n",
            "917           918  7057.047187              2053                        1   \n",
            "534           535  2662.800530              2391                        1   \n",
            "867           868   344.544225              4427                        1   \n",
            "595           596  1271.930187              2455                        1   \n",
            "526           527   993.819684              4164                        1   \n",
            "449           450   149.665706              2121                        1   \n",
            "\n",
            "     possui_chargeback  tipo_transacao_pagamento  tipo_transacao_saque  \\\n",
            "370                  1                     False                 False   \n",
            "327                  1                     False                  True   \n",
            "917                  1                      True                 False   \n",
            "534                  1                      True                 False   \n",
            "867                  1                     False                 False   \n",
            "595                  1                      True                 False   \n",
            "526                  1                     False                 False   \n",
            "449                  1                      True                 False   \n",
            "\n",
            "     tipo_transacao_transferência  fraude_real  fraude_prevista  \n",
            "370                         False            1                1  \n",
            "327                         False            0                1  \n",
            "917                         False            1                1  \n",
            "534                         False            1                1  \n",
            "867                          True            1                1  \n",
            "595                         False            1                1  \n",
            "526                          True            1                1  \n",
            "449                         False            1                1  \n"
          ]
        }
      ]
    },
    {
      "cell_type": "markdown",
      "source": [
        "`fraude_real`:\n",
        "\n",
        "Mostra a verdade do dado (se a transação era ou não fraudulenta).\n",
        "\n",
        "`fraude_prevista`:\n",
        "\n",
        "Mostra o que o modelo previu como fraudulento.\n",
        "\n",
        "`fraudes_detectadas`:\n",
        "\n",
        "Exibe todas as transações que o modelo classificou como fraudes (independentemente de serem corretas ou não)."
      ],
      "metadata": {
        "id": "LjraCiR45Ssq"
      }
    },
    {
      "cell_type": "markdown",
      "source": [
        "#Identificando as fraudes corretas"
      ],
      "metadata": {
        "id": "N7K7e9f-5iJT"
      }
    },
    {
      "cell_type": "code",
      "source": [
        "fraudes_corretas = X_test[(X_test[\"fraude_prevista\"] == 1) & (X_test[\"fraude_real\"] == 1)]\n",
        "print(fraudes_corretas)"
      ],
      "metadata": {
        "colab": {
          "base_uri": "https://localhost:8080/"
        },
        "id": "OQEt_ZzF5brp",
        "outputId": "e699dd30-0572-43c8-9210-13fff8db2b0d"
      },
      "execution_count": 16,
      "outputs": [
        {
          "output_type": "stream",
          "name": "stdout",
          "text": [
            "     id_transacao        valor  idade_conta_dias  transacao_internacional  \\\n",
            "370           371   224.816769              1357                        1   \n",
            "917           918  7057.047187              2053                        1   \n",
            "534           535  2662.800530              2391                        1   \n",
            "867           868   344.544225              4427                        1   \n",
            "595           596  1271.930187              2455                        1   \n",
            "526           527   993.819684              4164                        1   \n",
            "449           450   149.665706              2121                        1   \n",
            "\n",
            "     possui_chargeback  tipo_transacao_pagamento  tipo_transacao_saque  \\\n",
            "370                  1                     False                 False   \n",
            "917                  1                      True                 False   \n",
            "534                  1                      True                 False   \n",
            "867                  1                     False                 False   \n",
            "595                  1                      True                 False   \n",
            "526                  1                     False                 False   \n",
            "449                  1                      True                 False   \n",
            "\n",
            "     tipo_transacao_transferência  fraude_real  fraude_prevista  \n",
            "370                         False            1                1  \n",
            "917                         False            1                1  \n",
            "534                         False            1                1  \n",
            "867                          True            1                1  \n",
            "595                         False            1                1  \n",
            "526                          True            1                1  \n",
            "449                         False            1                1  \n"
          ]
        }
      ]
    },
    {
      "cell_type": "markdown",
      "source": [
        "##Verificando erros no modelo\n",
        "1. Fraudes reais que o modelo não detectou (falsos negativos):\n"
      ],
      "metadata": {
        "id": "O_zzrf6A5yOZ"
      }
    },
    {
      "cell_type": "code",
      "source": [
        "fraudes_nao_detectadas = X_test[(X_test[\"fraude_real\"] == 1) & (X_test[\"fraude_prevista\"] == 0)]\n",
        "print(fraudes_nao_detectadas)"
      ],
      "metadata": {
        "colab": {
          "base_uri": "https://localhost:8080/"
        },
        "id": "pZ8AOpQ151Zg",
        "outputId": "4643da23-4261-4105-e43a-bee80d91ee61"
      },
      "execution_count": 17,
      "outputs": [
        {
          "output_type": "stream",
          "name": "stdout",
          "text": [
            "     id_transacao     valor  idade_conta_dias  transacao_internacional  \\\n",
            "916           917  533.6498              1777                        1   \n",
            "\n",
            "     possui_chargeback  tipo_transacao_pagamento  tipo_transacao_saque  \\\n",
            "916                  1                     False                  True   \n",
            "\n",
            "     tipo_transacao_transferência  fraude_real  fraude_prevista  \n",
            "916                         False            1                0  \n"
          ]
        }
      ]
    },
    {
      "cell_type": "markdown",
      "source": [
        "2. Transações legítimas classificadas como fraudes (falsos positivos):"
      ],
      "metadata": {
        "id": "zij2g0VP58Jn"
      }
    },
    {
      "cell_type": "code",
      "source": [
        "falsos_positivos = X_test[(X_test[\"fraude_real\"] == 0) & (X_test[\"fraude_prevista\"] == 1)]\n",
        "print(falsos_positivos)"
      ],
      "metadata": {
        "colab": {
          "base_uri": "https://localhost:8080/"
        },
        "id": "kWJX1pGr6AOf",
        "outputId": "fb056b1f-39b2-4e52-f7e2-2d95bbcfceb2"
      },
      "execution_count": 18,
      "outputs": [
        {
          "output_type": "stream",
          "name": "stdout",
          "text": [
            "     id_transacao       valor  idade_conta_dias  transacao_internacional  \\\n",
            "327           328  946.030472              3737                        1   \n",
            "\n",
            "     possui_chargeback  tipo_transacao_pagamento  tipo_transacao_saque  \\\n",
            "327                  1                     False                  True   \n",
            "\n",
            "     tipo_transacao_transferência  fraude_real  fraude_prevista  \n",
            "327                         False            0                1  \n"
          ]
        }
      ]
    }
  ]
}