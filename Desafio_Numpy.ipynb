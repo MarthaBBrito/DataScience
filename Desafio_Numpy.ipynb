{
  "nbformat": 4,
  "nbformat_minor": 0,
  "metadata": {
    "colab": {
      "provenance": [],
      "authorship_tag": "ABX9TyPCcmHSl1TgusehklVdne++",
      "include_colab_link": true
    },
    "kernelspec": {
      "name": "python3",
      "display_name": "Python 3"
    },
    "language_info": {
      "name": "python"
    }
  },
  "cells": [
    {
      "cell_type": "markdown",
      "metadata": {
        "id": "view-in-github",
        "colab_type": "text"
      },
      "source": [
        "<a href=\"https://colab.research.google.com/github/MarthaBBrito/DataScience/blob/main/Desafio_Numpy.ipynb\" target=\"_parent\"><img src=\"https://colab.research.google.com/assets/colab-badge.svg\" alt=\"Open In Colab\"/></a>"
      ]
    },
    {
      "cell_type": "code",
      "execution_count": null,
      "metadata": {
        "id": "hrDowgzkDoaf"
      },
      "outputs": [],
      "source": [
        "import numpy as np\n",
        "url = 'https://raw.githubusercontent.com/allanspadini/numpy/dados/citrus.csv'\n",
        "dado = np.loadtxt(url, delimiter=',',usecols=np.arange(1,6,1),skiprows=1)"
      ]
    },
    {
      "cell_type": "code",
      "source": [
        "dado_transposto = dado.T"
      ],
      "metadata": {
        "id": "3Ao0YOVQDwGe"
      },
      "execution_count": null,
      "outputs": []
    },
    {
      "cell_type": "code",
      "source": [
        "diametro_laranja = dado_transposto[:5000, 0]\n",
        "diametro_toranja = dado_transposto[5000:, 0]"
      ],
      "metadata": {
        "id": "NTv28aMtF24O"
      },
      "execution_count": null,
      "outputs": []
    },
    {
      "cell_type": "code",
      "source": [
        "pesos_laranja = dado_transposto[:5000, 1]\n",
        "pesos_toranja = dado_transposto[5000:, 1]"
      ],
      "metadata": {
        "id": "tfatkNioGB1O"
      },
      "execution_count": null,
      "outputs": []
    },
    {
      "cell_type": "code",
      "source": [
        "import matplotlib.pyplot as plt\n",
        "\n",
        "plt.plot(diametro_laranja, pesos_laranja)\n",
        "plt.plot(diametro_toranja, pesos_toranja)"
      ],
      "metadata": {
        "colab": {
          "base_uri": "https://localhost:8080/",
          "height": 447
        },
        "id": "t1ZHqtbaGxg8",
        "outputId": "2ad5c634-9d1c-4db2-c80b-21a15706839b"
      },
      "execution_count": null,
      "outputs": [
        {
          "output_type": "execute_result",
          "data": {
            "text/plain": [
              "[<matplotlib.lines.Line2D at 0x7f7fbecc6680>]"
            ]
          },
          "metadata": {},
          "execution_count": 5
        },
        {
          "output_type": "display_data",
          "data": {
            "text/plain": [
              "<Figure size 640x480 with 1 Axes>"
            ],
            "image/png": "[encoded data removed]"
          },
          "metadata": {}
        }
      ]
    },
    {
      "cell_type": "code",
      "source": [
        "Y = pesos_laranja\n",
        "X = diametro_laranja\n",
        "n = np.size(X)\n",
        "\n",
        "a_laranja = (n*np.sum(X*Y) - np.sum(X)*np.sum(Y))/(n*np.sum(X**2)-np.sum(X)**2)\n",
        "b_laranja = np.mean(Y) - a_laranja*np.mean(X)"
      ],
      "metadata": {
        "id": "HznDtQm-Jel5"
      },
      "execution_count": null,
      "outputs": []
    },
    {
      "cell_type": "code",
      "source": [
        "a_laranja"
      ],
      "metadata": {
        "colab": {
          "base_uri": "https://localhost:8080/"
        },
        "id": "KCB7IR_Q-Qgb",
        "outputId": "9593df4c-a793-49fb-f618-b30c6c558f56"
      },
      "execution_count": null,
      "outputs": [
        {
          "output_type": "execute_result",
          "data": {
            "text/plain": [
              "0.9585795388219899"
            ]
          },
          "metadata": {},
          "execution_count": 7
        }
      ]
    },
    {
      "cell_type": "code",
      "source": [
        "b_laranja"
      ],
      "metadata": {
        "colab": {
          "base_uri": "https://localhost:8080/"
        },
        "id": "zh6PpsiM-Q_L",
        "outputId": "7c032cb3-17e0-4653-b51f-04cc6ef9a33e"
      },
      "execution_count": null,
      "outputs": [
        {
          "output_type": "execute_result",
          "data": {
            "text/plain": [
              "0.9368286443991423"
            ]
          },
          "metadata": {},
          "execution_count": 8
        }
      ]
    },
    {
      "cell_type": "code",
      "source": [
        "norma = np.array([])\n",
        "np.random.seed(84)\n",
        "coef_angulares = np.random.uniform(low=0.0,high=30.0,size=100)\n",
        "\n",
        "for i in range(100):\n",
        "  norma = np.append(norma,np.linalg.norm(Y- (coef_angulares[i]*X+b_laranja)))"
      ],
      "metadata": {
        "id": "yoVhbhWm_oqG"
      },
      "execution_count": null,
      "outputs": []
    },
    {
      "cell_type": "code",
      "source": [
        "norma"
      ],
      "metadata": {
        "id": "GzhJgKzVDuKW",
        "outputId": "720244c1-070a-4e28-b67b-41d6919cdb22",
        "colab": {
          "base_uri": "https://localhost:8080/"
        }
      },
      "execution_count": null,
      "outputs": [
        {
          "output_type": "execute_result",
          "data": {
            "text/plain": [
              "array([  89.20409567, 2137.24279324, 1329.05373061, 3768.7242389 ,\n",
              "       6053.4161453 ,  623.18346062,  894.84582657, 1430.11043766,\n",
              "       2441.48416485,  625.90530915, 1633.1370305 , 2927.3641239 ,\n",
              "       5907.43954932, 1676.98038046, 3916.06654297, 3182.01254755,\n",
              "       5402.15804573, 5260.46246045, 5740.19897688,  466.79720463,\n",
              "       3672.32989186,  926.44439077,  266.82976463, 6090.20244885,\n",
              "       2048.99446759, 5101.73656222, 3829.32044299, 1122.50064706,\n",
              "       5979.60497981,  672.60724878, 3293.26954144, 1483.30760308,\n",
              "       1767.33616725, 1889.30968315,  719.48066905, 4983.49766955,\n",
              "        816.05432521, 2946.55287192, 1889.51886502, 1029.11536127,\n",
              "        722.61814485, 4136.70827735, 6081.90319959, 1597.16994141,\n",
              "       3375.20340194,  558.23695115,   72.33097926,  795.42432829,\n",
              "       2533.82008748, 2181.29713284,  178.40937159, 3745.7115775 ,\n",
              "       2879.92131916, 2399.26365346, 2650.82833934, 3289.39256875,\n",
              "       5704.1027152 , 1468.64824025,   90.37024779, 4210.54185436,\n",
              "       4898.73612746, 3856.30614626, 3130.78294912, 5056.81133564,\n",
              "       2016.3655968 ,  995.76677694,   92.85929258, 5994.12330204,\n",
              "       4921.99282038, 5868.21227083,  121.58221341, 1586.79578992,\n",
              "       1234.29744925,  184.70310849, 2002.79421446, 2576.784506  ,\n",
              "        945.01556296, 3006.46532345, 1584.82023239, 5812.94525659,\n",
              "       2798.14259629, 1441.01007876, 1750.40792029,   67.06216576,\n",
              "       1584.05689597, 1427.71233043, 5786.98199964, 4365.45061142,\n",
              "       5035.87747153, 3421.11205837,  577.05349357, 3457.32216569,\n",
              "       3236.34897376, 2847.62065317, 3624.45520807, 3201.49029785,\n",
              "       2566.02161079, 4308.57043057, 1805.02479779, 1843.65045622])"
            ]
          },
          "metadata": {},
          "execution_count": 12
        }
      ]
    },
    {
      "cell_type": "code",
      "source": [],
      "metadata": {
        "id": "CzTLoSmUDu_n"
      },
      "execution_count": null,
      "outputs": []
    }
  ]
}